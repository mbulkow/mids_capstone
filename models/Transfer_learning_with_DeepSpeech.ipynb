{
 "cells": [
  {
   "cell_type": "markdown",
   "metadata": {},
   "source": [
    "# Transfer learning using pre-trained DeepSpeech model"
   ]
  },
  {
   "cell_type": "markdown",
   "metadata": {},
   "source": [
    "### a) Install DeepSpeech"
   ]
  },
  {
   "cell_type": "markdown",
   "metadata": {},
   "source": [
    "First, create a virtual environment using ```conda create -n deepspeech-venv python=3 anaconda```, and then activate it with ```conda activate deepspeech-venv```"
   ]
  },
  {
   "cell_type": "markdown",
   "metadata": {},
   "source": [
    "Run ```conda install -c anaconda tensorflow``` and ```conda install -c anaconda wget```"
   ]
  },
  {
   "cell_type": "markdown",
   "metadata": {},
   "source": [
    "Then to get MFCC function, DeepSpeech and the required decoder, need to pip install into the conda environment (packages are not on Anaconda Cloud)\n",
    "\n",
    "```~/anaconda3/envs/deepspeech-venv/bin/pip install python_speech_features```   \n",
    "```~/anaconda3/envs/deepspeech-venv/bin/pip install $(python3 util/taskcluster.py --decoder)```\n",
    "```~/anaconda3/envs/deepspeech-venv/bin/pip install deepspeech```\n",
    "```~/anaconda3/envs/deepspeech-venv/bin/pip install jupyter```"
   ]
  },
  {
   "cell_type": "markdown",
   "metadata": {},
   "source": [
    "Collect the DeepSpeech python files using git clone https://github.com/mozilla/DeepSpeech\n",
    "\n",
    "cd into the DeepSpeech directory  \n",
    "pip3 install -r requirements.txt\n",
    "\n",
    "Download model files if necessary. In terminal window  \n",
    "```wget https://github.com/mozilla/DeepSpeech/releases/download/v0.4.1/deepspeech-0.4.1-models.tar.gz```  \n",
    "then unzip them with  \n",
    "```tar xvfz deepspeech-0.4.1-models.tar.gz```"
   ]
  },
  {
   "cell_type": "markdown",
   "metadata": {},
   "source": [
    "### b) Test it out"
   ]
  },
  {
   "cell_type": "markdown",
   "metadata": {},
   "source": [
    "Save audio files to be translated in a directory, and from the terminal, run \n",
    "\n",
    "```deepspeech --model models/output_graph.pbmm --alphabet models/alphabet.txt --lm models/lm.binary --trie models/trie --audio my_audio_file.wav```\n"
   ]
  },
  {
   "cell_type": "markdown",
   "metadata": {},
   "source": [
    "### c) Check results for normal and dysarthric speech"
   ]
  },
  {
   "cell_type": "code",
   "execution_count": 1,
   "metadata": {
    "collapsed": true
   },
   "outputs": [],
   "source": [
    "import numpy as np\n",
    "import pandas as pd\n",
    "import os\n",
    "import librosa\n",
    "import sklearn\n",
    "import matplotlib.pyplot as plt\n",
    "from python_speech_features import mfcc\n",
    "from scipy.io import wavfile as wav\n",
    "from IPython.display import clear_output\n",
    "%matplotlib inline"
   ]
  },
  {
   "cell_type": "code",
   "execution_count": 2,
   "metadata": {
    "collapsed": true
   },
   "outputs": [],
   "source": [
    "# Compare MFCC's for normal and dysarthric speech\n",
    "\n",
    "def trim_input(audio_path):\n",
    "    \"\"\"Truncates the audio if there is leading silence\n",
    "    and downsamples to 16000 Hz\n",
    "    Args:\n",
    "        audio_path: path ot the audio file\n",
    "    Returns:\n",
    "        A tuple with (sample_rate, converted_audio)    \n",
    "    \"\"\"\n",
    "    sample_rate = 16000\n",
    "    audio, fs = librosa.load(audio_path)\n",
    "    audio = librosa.resample(audio, fs, sample_rate)\n",
    "    audio_trim, index = librosa.effects.trim(audio, top_db=25)\n",
    "    return audio_trim, sample_rate\n",
    "\n",
    "\n",
    "def plot_mfcc(audio, sample_rate, title):\n",
    "    \"\"\"Plots the MFCC using 13 cepstral coefficients\n",
    "    Args:\n",
    "        sample_rate: sample rate\n",
    "        audio: audio sample buffer\n",
    "        title: plot title\n",
    "    \"\"\"\n",
    "    # plot spectrogram\n",
    "    features = mfcc(audio, sample_rate, winlen=0.025, winstep=0.01,\n",
    "                    numcep=13, appendEnergy=False)\n",
    "\n",
    "    fig, ax = plt.subplots(nrows=1, ncols=1, figsize=(20,4))\n",
    "    cax = ax.matshow(np.transpose(features), interpolation='nearest',\n",
    "                     aspect='auto', cmap='plasma', origin='lower')\n",
    "    fig.colorbar(cax)  \n",
    "    plt.title(title)\n",
    "    plt.show()"
   ]
  },
  {
   "cell_type": "code",
   "execution_count": 3,
   "metadata": {},
   "outputs": [],
   "source": [
    "# Me saying hello my name is Simon\n",
    "audio1, sample_rate1 = trim_input('/Users/simonhodgkinson/Desktop/test/audio/me_test.wav')\n",
    "# Me saying 'some_hotels_are_available_nearby'\n",
    "audio2, sample_rate2 = trim_input('/Users/simonhodgkinson/Desktop/test/audio/me_some_hotels_are_available_nearby.wav')\n",
    "# F03 saying 'some_hotels_are_available_nearby'\n",
    "audio3, sample_rate3 = trim_input('/Users/simonhodgkinson/Desktop/test/audio/F03_0038_some_hotels_are_available_nearby.wav')"
   ]
  },
  {
   "cell_type": "code",
   "execution_count": 4,
   "metadata": {},
   "outputs": [
    {
     "data": {
      "image/png": "[encoded data removed]",
      "text/plain": [
       "<Figure size 1440x288 with 2 Axes>"
      ]
     },
     "metadata": {},
     "output_type": "display_data"
    },
    {
     "data": {
      "image/png": "[encoded data removed]",
      "text/plain": [
       "<Figure size 1440x288 with 2 Axes>"
      ]
     },
     "metadata": {},
     "output_type": "display_data"
    },
    {
     "data": {
      "image/png": "[encoded data removed]",
      "text/plain": [
       "<Figure size 1440x288 with 2 Axes>"
      ]
     },
     "metadata": {},
     "output_type": "display_data"
    }
   ],
   "source": [
    "plot_mfcc(audio1, sample_rate1, \"Me - hello, my name is Simon\")\n",
    "plot_mfcc(audio2, sample_rate2, \"Me - some hotels are available nearby\")\n",
    "plot_mfcc(audio3, sample_rate3,  \"F03 - some hotels are available nearby\")"
   ]
  },
  {
   "cell_type": "markdown",
   "metadata": {},
   "source": [
    "DeepSpeech correctly translates both phrases spoken by me, but **incorrectly translates the dysarthric phrase as \"From mortals are well bonnyboy\".**   \n",
    "  \n",
    "However, when comparing the MFCC of dysarthric speech to the MFCC's of the correctly translated phrases, the dysarthric speech appears more similar to the same phrase in normal speech, which means that it might be worth exploring whether we can fine tune the model by retraining on dysarthric speech. Judging similarity visually is difficult and can be subjective, so check the DTW distances to be sure."
   ]
  },
  {
   "cell_type": "code",
   "execution_count": 5,
   "metadata": {},
   "outputs": [
    {
     "name": "stdout",
     "output_type": "stream",
     "text": [
      "DTW distance F03 vs incorrect phrase: 1055.80\n",
      "DTW distance F03 vs correct phrase: 868.07\n"
     ]
    }
   ],
   "source": [
    "import sklearn\n",
    "from numpy.linalg import norm\n",
    "from fastdtw import fastdtw, dtw\n",
    "from python_speech_features import mfcc\n",
    "\n",
    "\n",
    "mfcc_me_1 = mfcc(audio1, sample_rate1, winlen=0.025, winstep=0.01, numcep=13, appendEnergy=False)\n",
    "mfcc_me_2 = mfcc(audio2, sample_rate2, winlen=0.025, winstep=0.01, numcep=13, appendEnergy=False)\n",
    "mfcc_f03 = mfcc(audio3, sample_rate3, winlen=0.025, winstep=0.01, numcep=13, appendEnergy=False)\n",
    "\n",
    "# Scale features\n",
    "mfcc_me_1 = sklearn.preprocessing.scale(mfcc_me_1, axis=1)\n",
    "mfcc_me_2 = sklearn.preprocessing.scale(mfcc_me_2, axis=1)\n",
    "mfcc_f03 = sklearn.preprocessing.scale(mfcc_f03, axis=1)\n",
    "\n",
    "# mfcc_me_1.shape\n",
    "# mfcc_f03.shape\n",
    "\n",
    "# F03 vs Me (incorrect phrase)\n",
    "distance, path = fastdtw(mfcc_f03, mfcc_me_1, radius=10, dist=lambda x, y: norm(x - y))\n",
    "print('DTW distance F03 vs incorrect phrase: {0:.2f}'.format(distance))\n",
    "\n",
    "# F03 vs Me (correct phrase)\n",
    "distance, path = fastdtw(mfcc_f03, mfcc_me_2, radius=10, dist=lambda x, y: norm(x - y))\n",
    "print('DTW distance F03 vs correct phrase: {0:.2f}'.format(distance))"
   ]
  },
  {
   "cell_type": "markdown",
   "metadata": {},
   "source": [
    "## Retraining  \n",
    "  \n",
    "#### a) Reformat index file  \n",
    "\n",
    "To retrain DeepSpeech using TORGO data, we'll need to create a csv file in the correct format. It should contain three columns:  \n",
    "* full path to the wav file\n",
    "* size of the wav file\n",
    "* transcript (using only tokens present in alphabet.txt)"
   ]
  },
  {
   "cell_type": "code",
   "execution_count": 6,
   "metadata": {
    "collapsed": true
   },
   "outputs": [],
   "source": [
    "# Need to point this to the folder where the wav files are stored. Full path from home is required\n",
    "# ie relative assignments won't work\n",
    "BASE_PATH = '/Users/simonhodgkinson/Desktop/Capstone/mids_capstone/'\n",
    "# or for GCP\n",
    "# BASE_PATH = '/home/<username>/DeepSpeech/audio/'\n",
    "\n",
    "# Load the existing index for the TORGO data\n",
    "df = pd.read_csv(BASE_PATH + 'index_TORGO.txt', sep=\"|\", converters={'prompt_id': lambda x: str(x)})\n",
    "\n",
    "# Remove instances where prompt is None, ends with \"]\" or contains \"jpg\"\n",
    "df['remove'] = (df['prompt']==None) | (df['prompt']=='None') | (df['prompt'].str.contains('jpg')) | (df['prompt'].str.endswith(']')) | (df['prompt']=='xxx') \n",
    "df = df.loc[df['remove'] == False].reset_index(drop=True)\n",
    "\n",
    "# Create a list that will allow us to convert the existing index to the required format\n",
    "data = []\n",
    "for p in range(df.shape[0]):\n",
    "    speaker = df['speaker'][p]\n",
    "    aud_loc = '/'.join([BASE_PATH+'data/TORGO', df['speaker'][p], df['session'][p], df['mic'][p], df['prompt_id'][p]+'.wav'])           \n",
    "    filesize = os.path.getsize(aud_loc)\n",
    "    transcript = df['prompt'][p].strip().lower().replace(',', '').replace('.', '') \\\n",
    "    .replace('!', '').replace('?', '').replace(';', '').replace('-', '') \\\n",
    "    .replace('\"', '').replace('[', '').replace('13th', 'thirteenth').replace('\\x1b','') \n",
    "    data.append((speaker, aud_loc, filesize, transcript))\n",
    "\n",
    "# turn the list into a new dataframe\n",
    "df2 = pd.DataFrame(data=data, columns=[\"speaker\", \"wav_filename\", \"wav_filesize\", \"transcript\"])\n",
    "\n",
    "# Remove items where wav_filesize < 15000 - these are too short for real speech and are typically very\n",
    "# beeps or buzzes where the recording was abandoned. The shortest 'genuine' recording is\n",
    "# F03/Session1/wav_headMic/0147.wav, which is the word 'troop' with filelength 17472\n",
    "\n",
    "df2 = df2[df2['wav_filesize']>17400]\n"
   ]
  },
  {
   "cell_type": "markdown",
   "metadata": {},
   "source": [
    "#### Double check that there are no characters left in the transcript column that are not included in the file of valid characters (alphabet.txt)"
   ]
  },
  {
   "cell_type": "code",
   "execution_count": 7,
   "metadata": {},
   "outputs": [
    {
     "data": {
      "text/plain": [
       "Counter({' ': 13855,\n",
       "         \"'\": 125,\n",
       "         'a': 4898,\n",
       "         'b': 1155,\n",
       "         'c': 1650,\n",
       "         'd': 1939,\n",
       "         'e': 7780,\n",
       "         'f': 1227,\n",
       "         'g': 1489,\n",
       "         'h': 3065,\n",
       "         'i': 4213,\n",
       "         'j': 171,\n",
       "         'k': 998,\n",
       "         'l': 3123,\n",
       "         'm': 1338,\n",
       "         'n': 3297,\n",
       "         'o': 4423,\n",
       "         'p': 1401,\n",
       "         'q': 56,\n",
       "         'r': 4315,\n",
       "         's': 3903,\n",
       "         't': 4766,\n",
       "         'u': 1594,\n",
       "         'v': 646,\n",
       "         'w': 1688,\n",
       "         'x': 157,\n",
       "         'y': 1386,\n",
       "         'z': 95})"
      ]
     },
     "execution_count": 7,
     "metadata": {},
     "output_type": "execute_result"
    }
   ],
   "source": [
    "from collections import Counter\n",
    "Counter(list(\" \".join(list(df2['transcript'].values))))"
   ]
  },
  {
   "cell_type": "markdown",
   "metadata": {},
   "source": [
    "#### b) Preprocess audio  \n",
    "\n",
    "See DeepSpeech/util/audio.py. DeepSpeech uses scipy.wavfile to process audio files, but this results in an error for many files, which seem to be missing a chunk_id. A simple way to fix this is to open the file using librosa (which standardizes the format) and then resave it."
   ]
  },
  {
   "cell_type": "code",
   "execution_count": 8,
   "metadata": {},
   "outputs": [
    {
     "name": "stdout",
     "output_type": "stream",
     "text": [
      "All files checked\n"
     ]
    }
   ],
   "source": [
    "# Fix problem with missing chunk_id by loading and resaving with librosa\n",
    "\n",
    "for x in list(df2['wav_filename']):\n",
    "    try:\n",
    "        fs, audio = wav.read(x)\n",
    "    except:\n",
    "        print('Processing file ',x)\n",
    "        audio, fs = librosa.load(x)\n",
    "        librosa.output.write_wav(x, audio, fs)\n",
    "\n",
    "print(\"All files checked\")"
   ]
  },
  {
   "cell_type": "markdown",
   "metadata": {},
   "source": [
    "DeepSpeech requires that audio files have a sample rate of 16,000 Hz. Some of the TORGO files meet this requirement, however some are samples at 22,050. If you attempt to translate these using the command  \n",
    "  \n",
    "```deepspeech --model models/output_graph.pbmm --alphabet models/alphabet.txt --lm models/lm.binary --trie models/trie --audio ./audio/TORGO/F03/Session3/wav_headMic/0214.wav```   \n",
    "\n",
    "it will return an error;\n",
    "\n",
    "File \"/usr/lib/python3.5/wave.py\", line 260, in _read_fmt_chunk  \n",
    "raise Error('unknown format: %r' % (wFormatTag,))  \n",
    "wave.Error: unknown format: 3  \n",
    "\n",
    "It is possible to use scipy.io.wavfile to downsample these files (scipy.io.wavfile.write(path,16000,audio_data)) but this seems to compress the file and the error above persists, since DeepSpeech only works with uncompressed files. Either fix these or exclude the small number of files in the wrong format from the data set."
   ]
  },
  {
   "cell_type": "code",
   "execution_count": 9,
   "metadata": {},
   "outputs": [
    {
     "name": "stdout",
     "output_type": "stream",
     "text": [
      "Current file 5500:5500\n",
      "102 files with incorrect sample rate\n"
     ]
    }
   ],
   "source": [
    "# Create a new column that flags where sample rate is not 16000\n",
    "sample_rate = []\n",
    "\n",
    "n=1\n",
    "for x in list(df2['wav_filename']):\n",
    "    \n",
    "    # display a counter\n",
    "    clear_output(wait=True)\n",
    "    fs, audio = wav.read(x)\n",
    "    print(\"Current file {0}:{1}\".format(n,len(list(df2['wav_filename']))))\n",
    "    \n",
    "    # check sample rate\n",
    "    if fs != 16000:\n",
    "        sample_rate.append('Bad')\n",
    "    else:\n",
    "        sample_rate.append('Good')\n",
    "    \n",
    "    # increment the counter\n",
    "    n+=1\n",
    "        \n",
    "df2['sample_rate'] = sample_rate\n",
    "print(\"{0} files with incorrect sample rate\".format(sum(1 for i in sample_rate if i=='Bad')))"
   ]
  },
  {
   "cell_type": "code",
   "execution_count": 10,
   "metadata": {},
   "outputs": [
    {
     "data": {
      "text/html": [
       "<div>\n",
       "<style>\n",
       "    .dataframe thead tr:only-child th {\n",
       "        text-align: right;\n",
       "    }\n",
       "\n",
       "    .dataframe thead th {\n",
       "        text-align: left;\n",
       "    }\n",
       "\n",
       "    .dataframe tbody tr th {\n",
       "        vertical-align: top;\n",
       "    }\n",
       "</style>\n",
       "<table border=\"1\" class=\"dataframe\">\n",
       "  <thead>\n",
       "    <tr style=\"text-align: right;\">\n",
       "      <th></th>\n",
       "      <th>speaker</th>\n",
       "      <th>wav_filename</th>\n",
       "      <th>wav_filesize</th>\n",
       "      <th>transcript</th>\n",
       "    </tr>\n",
       "  </thead>\n",
       "  <tbody>\n",
       "    <tr>\n",
       "      <th>0</th>\n",
       "      <td>F01</td>\n",
       "      <td>/Users/simonhodgkinson/Desktop/Capstone/mids_c...</td>\n",
       "      <td>44824</td>\n",
       "      <td>stick</td>\n",
       "    </tr>\n",
       "    <tr>\n",
       "      <th>1</th>\n",
       "      <td>F01</td>\n",
       "      <td>/Users/simonhodgkinson/Desktop/Capstone/mids_c...</td>\n",
       "      <td>315044</td>\n",
       "      <td>except in the winter when the ooze or snow or ...</td>\n",
       "    </tr>\n",
       "    <tr>\n",
       "      <th>2</th>\n",
       "      <td>F01</td>\n",
       "      <td>/Users/simonhodgkinson/Desktop/Capstone/mids_c...</td>\n",
       "      <td>40192</td>\n",
       "      <td>pat</td>\n",
       "    </tr>\n",
       "    <tr>\n",
       "      <th>3</th>\n",
       "      <td>F01</td>\n",
       "      <td>/Users/simonhodgkinson/Desktop/Capstone/mids_c...</td>\n",
       "      <td>66442</td>\n",
       "      <td>up</td>\n",
       "    </tr>\n",
       "    <tr>\n",
       "      <th>4</th>\n",
       "      <td>F01</td>\n",
       "      <td>/Users/simonhodgkinson/Desktop/Capstone/mids_c...</td>\n",
       "      <td>51002</td>\n",
       "      <td>meat</td>\n",
       "    </tr>\n",
       "  </tbody>\n",
       "</table>\n",
       "</div>"
      ],
      "text/plain": [
       "  speaker                                       wav_filename  wav_filesize  \\\n",
       "0     F01  /Users/simonhodgkinson/Desktop/Capstone/mids_c...         44824   \n",
       "1     F01  /Users/simonhodgkinson/Desktop/Capstone/mids_c...        315044   \n",
       "2     F01  /Users/simonhodgkinson/Desktop/Capstone/mids_c...         40192   \n",
       "3     F01  /Users/simonhodgkinson/Desktop/Capstone/mids_c...         66442   \n",
       "4     F01  /Users/simonhodgkinson/Desktop/Capstone/mids_c...         51002   \n",
       "\n",
       "                                          transcript  \n",
       "0                                              stick  \n",
       "1  except in the winter when the ooze or snow or ...  \n",
       "2                                                pat  \n",
       "3                                                 up  \n",
       "4                                               meat  "
      ]
     },
     "execution_count": 10,
     "metadata": {},
     "output_type": "execute_result"
    }
   ],
   "source": [
    "# Remove elements where sample rate is not 16000 from dataframe\n",
    "\n",
    "df2 = df2[df2['sample_rate']=='Good'].reset_index(drop=True)\n",
    "del df2['sample_rate']\n",
    "df2.head()"
   ]
  },
  {
   "cell_type": "markdown",
   "metadata": {},
   "source": [
    "#### c) Check data"
   ]
  },
  {
   "cell_type": "code",
   "execution_count": 12,
   "metadata": {},
   "outputs": [
    {
     "data": {
      "text/html": [
       "<div>\n",
       "<style>\n",
       "    .dataframe thead tr:only-child th {\n",
       "        text-align: right;\n",
       "    }\n",
       "\n",
       "    .dataframe thead th {\n",
       "        text-align: left;\n",
       "    }\n",
       "\n",
       "    .dataframe tbody tr th {\n",
       "        vertical-align: top;\n",
       "    }\n",
       "</style>\n",
       "<table border=\"1\" class=\"dataframe\">\n",
       "  <thead>\n",
       "    <tr style=\"text-align: right;\">\n",
       "      <th></th>\n",
       "      <th>speaker</th>\n",
       "      <th>wav_filename</th>\n",
       "      <th>wav_filesize</th>\n",
       "      <th>transcript</th>\n",
       "    </tr>\n",
       "  </thead>\n",
       "  <tbody>\n",
       "    <tr>\n",
       "      <th>330</th>\n",
       "      <td>F03</td>\n",
       "      <td>/Users/simonhodgkinson/Desktop/Capstone/mids_c...</td>\n",
       "      <td>6202560</td>\n",
       "      <td>no</td>\n",
       "    </tr>\n",
       "    <tr>\n",
       "      <th>2231</th>\n",
       "      <td>M01</td>\n",
       "      <td>/Users/simonhodgkinson/Desktop/Capstone/mids_c...</td>\n",
       "      <td>5758224</td>\n",
       "      <td>hill</td>\n",
       "    </tr>\n",
       "    <tr>\n",
       "      <th>4254</th>\n",
       "      <td>M04</td>\n",
       "      <td>/Users/simonhodgkinson/Desktop/Capstone/mids_c...</td>\n",
       "      <td>744044</td>\n",
       "      <td>when he speaks his voice is just a bit cracked...</td>\n",
       "    </tr>\n",
       "    <tr>\n",
       "      <th>4542</th>\n",
       "      <td>M04</td>\n",
       "      <td>/Users/simonhodgkinson/Desktop/Capstone/mids_c...</td>\n",
       "      <td>741644</td>\n",
       "      <td>it also provides for funds to clear slums and ...</td>\n",
       "    </tr>\n",
       "    <tr>\n",
       "      <th>4812</th>\n",
       "      <td>M04</td>\n",
       "      <td>/Users/simonhodgkinson/Desktop/Capstone/mids_c...</td>\n",
       "      <td>721004</td>\n",
       "      <td>it also provides for funds to clear slums and ...</td>\n",
       "    </tr>\n",
       "    <tr>\n",
       "      <th>4279</th>\n",
       "      <td>M04</td>\n",
       "      <td>/Users/simonhodgkinson/Desktop/Capstone/mids_c...</td>\n",
       "      <td>720044</td>\n",
       "      <td>giving those who observe him a pronounced feel...</td>\n",
       "    </tr>\n",
       "    <tr>\n",
       "      <th>4181</th>\n",
       "      <td>M04</td>\n",
       "      <td>/Users/simonhodgkinson/Desktop/Capstone/mids_c...</td>\n",
       "      <td>667244</td>\n",
       "      <td>twice each day he plays skillfully and with ze...</td>\n",
       "    </tr>\n",
       "    <tr>\n",
       "      <th>4832</th>\n",
       "      <td>M05</td>\n",
       "      <td>/Users/simonhodgkinson/Desktop/Capstone/mids_c...</td>\n",
       "      <td>667244</td>\n",
       "      <td>twice each day he plays skillfully and with ze...</td>\n",
       "    </tr>\n",
       "    <tr>\n",
       "      <th>4944</th>\n",
       "      <td>M05</td>\n",
       "      <td>/Users/simonhodgkinson/Desktop/Capstone/mids_c...</td>\n",
       "      <td>655404</td>\n",
       "      <td>twice each day he plays skillfully and with ze...</td>\n",
       "    </tr>\n",
       "    <tr>\n",
       "      <th>5282</th>\n",
       "      <td>M05</td>\n",
       "      <td>/Users/simonhodgkinson/Desktop/Capstone/mids_c...</td>\n",
       "      <td>628204</td>\n",
       "      <td>nothing has been done yet to take advantage of...</td>\n",
       "    </tr>\n",
       "  </tbody>\n",
       "</table>\n",
       "</div>"
      ],
      "text/plain": [
       "     speaker                                       wav_filename  wav_filesize  \\\n",
       "330      F03  /Users/simonhodgkinson/Desktop/Capstone/mids_c...       6202560   \n",
       "2231     M01  /Users/simonhodgkinson/Desktop/Capstone/mids_c...       5758224   \n",
       "4254     M04  /Users/simonhodgkinson/Desktop/Capstone/mids_c...        744044   \n",
       "4542     M04  /Users/simonhodgkinson/Desktop/Capstone/mids_c...        741644   \n",
       "4812     M04  /Users/simonhodgkinson/Desktop/Capstone/mids_c...        721004   \n",
       "4279     M04  /Users/simonhodgkinson/Desktop/Capstone/mids_c...        720044   \n",
       "4181     M04  /Users/simonhodgkinson/Desktop/Capstone/mids_c...        667244   \n",
       "4832     M05  /Users/simonhodgkinson/Desktop/Capstone/mids_c...        667244   \n",
       "4944     M05  /Users/simonhodgkinson/Desktop/Capstone/mids_c...        655404   \n",
       "5282     M05  /Users/simonhodgkinson/Desktop/Capstone/mids_c...        628204   \n",
       "\n",
       "                                             transcript  \n",
       "330                                                  no  \n",
       "2231                                               hill  \n",
       "4254  when he speaks his voice is just a bit cracked...  \n",
       "4542  it also provides for funds to clear slums and ...  \n",
       "4812  it also provides for funds to clear slums and ...  \n",
       "4279  giving those who observe him a pronounced feel...  \n",
       "4181  twice each day he plays skillfully and with ze...  \n",
       "4832  twice each day he plays skillfully and with ze...  \n",
       "4944  twice each day he plays skillfully and with ze...  \n",
       "5282  nothing has been done yet to take advantage of...  "
      ]
     },
     "execution_count": 12,
     "metadata": {},
     "output_type": "execute_result"
    }
   ],
   "source": [
    "df2.sort_values(by=\"wav_filesize\", ascending=False).head(10)"
   ]
  },
  {
   "cell_type": "code",
   "execution_count": 13,
   "metadata": {},
   "outputs": [
    {
     "name": "stdout",
     "output_type": "stream",
     "text": [
      "/Users/simonhodgkinson/Desktop/Capstone/mids_capstone/data/TORGO/F03/Session1/wav_headMic/0118.wav\n",
      "/Users/simonhodgkinson/Desktop/Capstone/mids_capstone/data/TORGO/M01/Session2_3/wav_headMic/0276.wav\n"
     ]
    }
   ],
   "source": [
    "print(df2.iloc[330]['wav_filename'])\n",
    "print(df2.iloc[2326]['wav_filename'])"
   ]
  },
  {
   "cell_type": "markdown",
   "metadata": {},
   "source": [
    "The first two files are too large for single word utterances. For example, although wav_arrayMic/0118.wav is just the recording of the word 'no' the file wav_headMic/0118.wav is a very long recording of both the speaker and the audio technicians who provide prompts, and it includes several phrases which do not match the transcript."
   ]
  },
  {
   "cell_type": "code",
   "execution_count": 14,
   "metadata": {
    "collapsed": true
   },
   "outputs": [],
   "source": [
    "df2.drop([330,2231], inplace=True)\n",
    "df2.reset_index(drop=True, inplace=True)"
   ]
  },
  {
   "cell_type": "code",
   "execution_count": 15,
   "metadata": {},
   "outputs": [
    {
     "data": {
      "text/html": [
       "<div>\n",
       "<style>\n",
       "    .dataframe thead tr:only-child th {\n",
       "        text-align: right;\n",
       "    }\n",
       "\n",
       "    .dataframe thead th {\n",
       "        text-align: left;\n",
       "    }\n",
       "\n",
       "    .dataframe tbody tr th {\n",
       "        vertical-align: top;\n",
       "    }\n",
       "</style>\n",
       "<table border=\"1\" class=\"dataframe\">\n",
       "  <thead>\n",
       "    <tr style=\"text-align: right;\">\n",
       "      <th></th>\n",
       "      <th>speaker</th>\n",
       "      <th>wav_filename</th>\n",
       "      <th>wav_filesize</th>\n",
       "      <th>transcript</th>\n",
       "    </tr>\n",
       "  </thead>\n",
       "  <tbody>\n",
       "    <tr>\n",
       "      <th>4252</th>\n",
       "      <td>M04</td>\n",
       "      <td>/Users/simonhodgkinson/Desktop/Capstone/mids_c...</td>\n",
       "      <td>744044</td>\n",
       "      <td>when he speaks his voice is just a bit cracked...</td>\n",
       "    </tr>\n",
       "    <tr>\n",
       "      <th>4540</th>\n",
       "      <td>M04</td>\n",
       "      <td>/Users/simonhodgkinson/Desktop/Capstone/mids_c...</td>\n",
       "      <td>741644</td>\n",
       "      <td>it also provides for funds to clear slums and ...</td>\n",
       "    </tr>\n",
       "    <tr>\n",
       "      <th>4810</th>\n",
       "      <td>M04</td>\n",
       "      <td>/Users/simonhodgkinson/Desktop/Capstone/mids_c...</td>\n",
       "      <td>721004</td>\n",
       "      <td>it also provides for funds to clear slums and ...</td>\n",
       "    </tr>\n",
       "    <tr>\n",
       "      <th>4277</th>\n",
       "      <td>M04</td>\n",
       "      <td>/Users/simonhodgkinson/Desktop/Capstone/mids_c...</td>\n",
       "      <td>720044</td>\n",
       "      <td>giving those who observe him a pronounced feel...</td>\n",
       "    </tr>\n",
       "    <tr>\n",
       "      <th>4179</th>\n",
       "      <td>M04</td>\n",
       "      <td>/Users/simonhodgkinson/Desktop/Capstone/mids_c...</td>\n",
       "      <td>667244</td>\n",
       "      <td>twice each day he plays skillfully and with ze...</td>\n",
       "    </tr>\n",
       "  </tbody>\n",
       "</table>\n",
       "</div>"
      ],
      "text/plain": [
       "     speaker                                       wav_filename  wav_filesize  \\\n",
       "4252     M04  /Users/simonhodgkinson/Desktop/Capstone/mids_c...        744044   \n",
       "4540     M04  /Users/simonhodgkinson/Desktop/Capstone/mids_c...        741644   \n",
       "4810     M04  /Users/simonhodgkinson/Desktop/Capstone/mids_c...        721004   \n",
       "4277     M04  /Users/simonhodgkinson/Desktop/Capstone/mids_c...        720044   \n",
       "4179     M04  /Users/simonhodgkinson/Desktop/Capstone/mids_c...        667244   \n",
       "\n",
       "                                             transcript  \n",
       "4252  when he speaks his voice is just a bit cracked...  \n",
       "4540  it also provides for funds to clear slums and ...  \n",
       "4810  it also provides for funds to clear slums and ...  \n",
       "4277  giving those who observe him a pronounced feel...  \n",
       "4179  twice each day he plays skillfully and with ze...  "
      ]
     },
     "execution_count": 15,
     "metadata": {},
     "output_type": "execute_result"
    }
   ],
   "source": [
    "df2.sort_values(by=\"wav_filesize\", ascending=False).head(5)"
   ]
  },
  {
   "cell_type": "markdown",
   "metadata": {
    "collapsed": true
   },
   "source": [
    "#### d) Determine split into -train, -dev and -test files"
   ]
  },
  {
   "cell_type": "code",
   "execution_count": 16,
   "metadata": {},
   "outputs": [
    {
     "name": "stdout",
     "output_type": "stream",
     "text": [
      "         wav_filesize\n",
      "speaker              \n",
      "F01          17932030\n",
      "F03          88573578\n",
      "F04          70222074\n",
      "M01          74067556\n",
      "M02          90021532\n",
      "M03          80215282\n",
      "M04          90921178\n",
      "M05          85272100\n"
     ]
    },
    {
     "data": {
      "text/html": [
       "<div>\n",
       "<style>\n",
       "    .dataframe thead tr:only-child th {\n",
       "        text-align: right;\n",
       "    }\n",
       "\n",
       "    .dataframe thead th {\n",
       "        text-align: left;\n",
       "    }\n",
       "\n",
       "    .dataframe tbody tr th {\n",
       "        vertical-align: top;\n",
       "    }\n",
       "</style>\n",
       "<table border=\"1\" class=\"dataframe\">\n",
       "  <thead>\n",
       "    <tr style=\"text-align: right;\">\n",
       "      <th></th>\n",
       "      <th>% of total time</th>\n",
       "    </tr>\n",
       "    <tr>\n",
       "      <th>speaker</th>\n",
       "      <th></th>\n",
       "    </tr>\n",
       "  </thead>\n",
       "  <tbody>\n",
       "    <tr>\n",
       "      <th>F01</th>\n",
       "      <td>3.002557</td>\n",
       "    </tr>\n",
       "    <tr>\n",
       "      <th>F03</th>\n",
       "      <td>14.830848</td>\n",
       "    </tr>\n",
       "    <tr>\n",
       "      <th>F04</th>\n",
       "      <td>11.758054</td>\n",
       "    </tr>\n",
       "    <tr>\n",
       "      <th>M01</th>\n",
       "      <td>12.401945</td>\n",
       "    </tr>\n",
       "    <tr>\n",
       "      <th>M02</th>\n",
       "      <td>15.073294</td>\n",
       "    </tr>\n",
       "    <tr>\n",
       "      <th>M03</th>\n",
       "      <td>13.431326</td>\n",
       "    </tr>\n",
       "    <tr>\n",
       "      <th>M04</th>\n",
       "      <td>15.223932</td>\n",
       "    </tr>\n",
       "    <tr>\n",
       "      <th>M05</th>\n",
       "      <td>14.278045</td>\n",
       "    </tr>\n",
       "  </tbody>\n",
       "</table>\n",
       "</div>"
      ],
      "text/plain": [
       "         % of total time\n",
       "speaker                 \n",
       "F01             3.002557\n",
       "F03            14.830848\n",
       "F04            11.758054\n",
       "M01            12.401945\n",
       "M02            15.073294\n",
       "M03            13.431326\n",
       "M04            15.223932\n",
       "M05            14.278045"
      ]
     },
     "execution_count": 16,
     "metadata": {},
     "output_type": "execute_result"
    }
   ],
   "source": [
    "# We can't randomly assign files to train/test/dev, because the data contains duplicate recordings\n",
    "# where the only difference is that one is recorded on a head mic, and one is on an array mic\n",
    "# If one of these gets assigned to train and one to test, it may result in us overstating accuracy\n",
    "# It would be more realistic to train on certain dysarthric speakers, and assign remaining ones to test\n",
    "# ie the test case would be on a brand new speaker\n",
    "\n",
    "total_filesize = df2.groupby(['speaker']).sum()\n",
    "print(total_filesize)\n",
    "total_percentage = total_filesize.groupby(level=0).apply(lambda x: 100 * x/total_filesize['wav_filesize'].sum())\n",
    "total_percentage.rename(columns = {'wav_filesize':'% of total time'}, inplace = True)\n",
    "total_percentage\n"
   ]
  },
  {
   "cell_type": "code",
   "execution_count": 17,
   "metadata": {},
   "outputs": [
    {
     "data": {
      "text/html": [
       "<div>\n",
       "<style>\n",
       "    .dataframe thead tr:only-child th {\n",
       "        text-align: right;\n",
       "    }\n",
       "\n",
       "    .dataframe thead th {\n",
       "        text-align: left;\n",
       "    }\n",
       "\n",
       "    .dataframe tbody tr th {\n",
       "        vertical-align: top;\n",
       "    }\n",
       "</style>\n",
       "<table border=\"1\" class=\"dataframe\">\n",
       "  <thead>\n",
       "    <tr style=\"text-align: right;\">\n",
       "      <th></th>\n",
       "      <th>wav_filename</th>\n",
       "      <th>wav_filesize</th>\n",
       "      <th>transcript</th>\n",
       "    </tr>\n",
       "  </thead>\n",
       "  <tbody>\n",
       "    <tr>\n",
       "      <th>0</th>\n",
       "      <td>/Users/simonhodgkinson/Desktop/Capstone/mids_c...</td>\n",
       "      <td>44824</td>\n",
       "      <td>stick</td>\n",
       "    </tr>\n",
       "    <tr>\n",
       "      <th>1</th>\n",
       "      <td>/Users/simonhodgkinson/Desktop/Capstone/mids_c...</td>\n",
       "      <td>315044</td>\n",
       "      <td>except in the winter when the ooze or snow or ...</td>\n",
       "    </tr>\n",
       "    <tr>\n",
       "      <th>2</th>\n",
       "      <td>/Users/simonhodgkinson/Desktop/Capstone/mids_c...</td>\n",
       "      <td>40192</td>\n",
       "      <td>pat</td>\n",
       "    </tr>\n",
       "    <tr>\n",
       "      <th>3</th>\n",
       "      <td>/Users/simonhodgkinson/Desktop/Capstone/mids_c...</td>\n",
       "      <td>66442</td>\n",
       "      <td>up</td>\n",
       "    </tr>\n",
       "    <tr>\n",
       "      <th>4</th>\n",
       "      <td>/Users/simonhodgkinson/Desktop/Capstone/mids_c...</td>\n",
       "      <td>51002</td>\n",
       "      <td>meat</td>\n",
       "    </tr>\n",
       "  </tbody>\n",
       "</table>\n",
       "</div>"
      ],
      "text/plain": [
       "                                        wav_filename  wav_filesize  \\\n",
       "0  /Users/simonhodgkinson/Desktop/Capstone/mids_c...         44824   \n",
       "1  /Users/simonhodgkinson/Desktop/Capstone/mids_c...        315044   \n",
       "2  /Users/simonhodgkinson/Desktop/Capstone/mids_c...         40192   \n",
       "3  /Users/simonhodgkinson/Desktop/Capstone/mids_c...         66442   \n",
       "4  /Users/simonhodgkinson/Desktop/Capstone/mids_c...         51002   \n",
       "\n",
       "                                          transcript  \n",
       "0                                              stick  \n",
       "1  except in the winter when the ooze or snow or ...  \n",
       "2                                                pat  \n",
       "3                                                 up  \n",
       "4                                               meat  "
      ]
     },
     "execution_count": 17,
     "metadata": {},
     "output_type": "execute_result"
    }
   ],
   "source": [
    "# So, to get roughly 80/10/10 split, we could assign M03 to dev, and M05 to test\n",
    "# Create new subsets, but drop the speaker column, which is not part of the DeepSpeech format\n",
    "\n",
    "df_dev = df2[df2['speaker']=='M03']\n",
    "del df_dev['speaker']\n",
    "\n",
    "df_test = df2[df2['speaker']=='M05']\n",
    "del df_test['speaker']\n",
    "\n",
    "df_train = df2[~df2['speaker'].isin(['M03','F04'])]\n",
    "del df_train['speaker']\n",
    "\n",
    "df_train.head()"
   ]
  },
  {
   "cell_type": "markdown",
   "metadata": {},
   "source": [
    "**Note that M03 is classified as mildly dysarthric, while M05 is moderately severe.** It may be worth switching these around to see what the impact is."
   ]
  },
  {
   "cell_type": "markdown",
   "metadata": {},
   "source": [
    "| Speaker | Disorder | Utterances |\n",
    "|---------|----------|------------|\n",
    "|F01 | Severe | 228 |\n",
    "|M01 | Severe | 739 |\n",
    "|M02 | Severe | 772 |\n",
    "|M04 | Severe | 659 |\n",
    "|M05 | Mod. Severe | 610 |\n",
    "|F03 | Moderate | 1097 |\n",
    "|F04 | Mild | 675 |\n",
    "|M03 | Mild | 806 |\n"
   ]
  },
  {
   "cell_type": "markdown",
   "metadata": {},
   "source": [
    "#### c) Create the csv files"
   ]
  },
  {
   "cell_type": "code",
   "execution_count": 18,
   "metadata": {
    "collapsed": true
   },
   "outputs": [],
   "source": [
    "# First randomize order so that batches contain random samples during training\n",
    "df_dev = df_dev.sample(frac=1).reset_index(drop=True)\n",
    "df_test = df_test.sample(frac=1).reset_index(drop=True)\n",
    "df_train = df_train.sample(frac=1).reset_index(drop=True)\n",
    "\n",
    "# then save\n",
    "df_dev.to_csv(BASE_PATH + \"TORGO_dev.csv\", index=False)\n",
    "df_test.to_csv(BASE_PATH + \"TORGO_test.csv\", index=False)\n",
    "df_train.to_csv(BASE_PATH + \"TORGO_train.csv\", index=False)"
   ]
  },
  {
   "cell_type": "markdown",
   "metadata": {},
   "source": [
    "Move these files from BASE_PATH to /DeepSpeech/data/TORGO"
   ]
  },
  {
   "cell_type": "markdown",
   "metadata": {},
   "source": [
    "## Run DeepSpeech"
   ]
  },
  {
   "cell_type": "markdown",
   "metadata": {},
   "source": [
    "First, download appropriate pretrained checkpoint and place it in a new folder in the DeepSpeech directory  \n",
    "\n",
    "cd DeepSpeech  \n",
    "mkdir fine_tuning_checkpoints\n",
    "mkdir tensorboard_summaries\n",
    "cd fine_tuning_checkpoints  \n",
    "wget https://github.com/mozilla/DeepSpeech/releases/download/v0.5.0-alpha.4/deepspeech-0.5.0a4-cp37-cp37m-macosx_10_10_x86_64.whl"
   ]
  },
  {
   "cell_type": "markdown",
   "metadata": {},
   "source": [
    "Then, back in DeepSpeech root directory  \n",
    "\n",
    "cd ../  \n",
    "  \n",
    "python3 DeepSpeech.py --n_hidden 2048 --checkpoint_dir ./fine_tuning_checkpoints --epoch -3 --train_files ./data/TORGO/TORGO_train.csv --dev_files ./data/TORGO/TORGO_dev.csv --test_files ./data/TORGO/TORGO_test.csv --learning_rate 0.0001  --summary_dir ./tensorboard_summaries --export_dir ./models/tuned_model  \n",
    "\n",
    "this will default to batch size 1, so it is slow - to add batch size just include eg  \n",
    "\n",
    "--train_batch_size 40 --dev_batch_size 20 --test_batch_size 20\n",
    "\n",
    "With such a small data set, it might be better to use fewer hidden nodes, but since the pretrained model used 2048, we need to do the same. Epoch negative three means to train for three more epochs in addition to how ever many epochs the pretrained model has been through.  \n",
    "\n",
    "Don't forget to specify an export directory where the trained model will be saved"
   ]
  },
  {
   "cell_type": "markdown",
   "metadata": {},
   "source": [
    "**Note**"
   ]
  },
  {
   "cell_type": "markdown",
   "metadata": {},
   "source": [
    "Execution stopped for me, with the error;  \n",
    "  \n",
    "\"OMP: Error #15: Initializing libiomp5.dylib, but found libiomp5.dylib already initialized.\n",
    "OMP: Hint: This means that multiple copies of the OpenMP runtime have been linked into the program. That is dangerous, since it can degrade performance or cause incorrect results. The best thing to do is to ensure that only a single OpenMP runtime is linked into the process, e.g. by avoiding static linking of the OpenMP runtime in any library. As an unsafe, unsupported, undocumented workaround you can set the environment variable KMP_DUPLICATE_LIB_OK=TRUE to allow the program to continue to execute, but that may cause crashes or silently produce incorrect results. For more information, please see http://www.intel.com/software/products/support/.\""
   ]
  },
  {
   "cell_type": "markdown",
   "metadata": {},
   "source": [
    "This was fixed by running ```conda install nomkl```"
   ]
  },
  {
   "cell_type": "markdown",
   "metadata": {},
   "source": [
    "Monitor progress by running ```tensorboard --logdir=./tensorboard_summaries --port=6006``` in a terminal, and then in a new browser window open http://localhost:6006"
   ]
  }
 ],
 "metadata": {
  "kernelspec": {
   "display_name": "Python 3",
   "language": "python",
   "name": "python3"
  },
  "language_info": {
   "codemirror_mode": {
    "name": "ipython",
    "version": 3
   },
   "file_extension": ".py",
   "mimetype": "text/x-python",
   "name": "python",
   "nbconvert_exporter": "python",
   "pygments_lexer": "ipython3",
   "version": "3.6.8"
  }
 },
 "nbformat": 4,
 "nbformat_minor": 2
}
