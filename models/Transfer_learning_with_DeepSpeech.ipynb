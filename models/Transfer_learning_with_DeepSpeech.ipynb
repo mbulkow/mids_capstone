{
 "cells": [
  {
   "cell_type": "markdown",
   "metadata": {},
   "source": [
    "# Transfer learning using pre-trained DeepSpeech model"
   ]
  },
  {
   "cell_type": "markdown",
   "metadata": {},
   "source": [
    "Our previous attempt to train a VGG network on dysarthric speech was not successful given the limited amount of training data that is available to us. Instead, we'll attempt to use a highly accurate deep neural net that has been pre-trained on normal speech and then fine-tune it by running some additional epochs to train it on the TORGO data"
   ]
  },
  {
   "cell_type": "markdown",
   "metadata": {},
   "source": [
    "### a) Install DeepSpeech"
   ]
  },
  {
   "cell_type": "markdown",
   "metadata": {},
   "source": [
    "First, create a virtual environment using ```conda create -n deepspeech-venv python=3 anaconda```, and then activate it with ```conda activate deepspeech-venv```"
   ]
  },
  {
   "cell_type": "markdown",
   "metadata": {},
   "source": [
    "Run ```conda install -c anaconda tensorflow``` and ```conda install -c anaconda wget```"
   ]
  },
  {
   "cell_type": "markdown",
   "metadata": {},
   "source": [
    "Then to get MFCC function, DeepSpeech and the required decoder, need to pip install into the conda environment (packages are not on Anaconda Cloud)\n",
    "\n",
    "```~/anaconda3/envs/deepspeech-venv/bin/pip install python_speech_features```   \n",
    "```~/anaconda3/envs/deepspeech-venv/bin/pip install $(python3 util/taskcluster.py --decoder)```\n",
    "```~/anaconda3/envs/deepspeech-venv/bin/pip install deepspeech```\n",
    "```~/anaconda3/envs/deepspeech-venv/bin/pip install jupyter```"
   ]
  },
  {
   "cell_type": "markdown",
   "metadata": {},
   "source": [
    "Collect the DeepSpeech python files using git clone https://github.com/mozilla/DeepSpeech\n",
    "\n",
    "cd into the DeepSpeech directory\n",
    "pip3 install -r requirements.txt\n",
    "\n",
    "Download model files if necessary. In terminal window ```wget https://github.com/mozilla/DeepSpeech/releases/download/v0.4.1/deepspeech-0.4.1-models.tar.gz```\n",
    "then unzip them with\n",
    "```tar xvfz deepspeech-0.4.1-models.tar.gz```"
   ]
  },
  {
   "cell_type": "markdown",
   "metadata": {},
   "source": [
    "### b) Test it out"
   ]
  },
  {
   "cell_type": "markdown",
   "metadata": {},
   "source": [
    "Save audio files to be translated in a directory, and from the terminal, run \n",
    "\n",
    "```deepspeech --model models/output_graph.pbmm --alphabet models/alphabet.txt --lm models/lm.binary --trie models/trie --audio my_audio_file.wav```\n"
   ]
  },
  {
   "cell_type": "markdown",
   "metadata": {},
   "source": [
    "### c) Check results for normal and dysarthric speech"
   ]
  },
  {
   "cell_type": "code",
   "execution_count": 1,
   "metadata": {},
   "outputs": [
    {
     "name": "stdout",
     "output_type": "stream",
     "text": [
      "/Users/simonhodgkinson/anaconda3/envs/deepspeech-venv/bin/python\n"
     ]
    }
   ],
   "source": [
    "# First check that the notebook is running in the virtual environment so that it has\n",
    "# access to the specific versions of packages that were just installed\n",
    "import sys\n",
    "print(sys.executable)"
   ]
  },
  {
   "cell_type": "code",
   "execution_count": 2,
   "metadata": {
    "collapsed": true
   },
   "outputs": [],
   "source": [
    "import numpy as np\n",
    "import pandas as pd\n",
    "import os\n",
    "import librosa\n",
    "import sklearn\n",
    "%matplotlib inline"
   ]
  },
  {
   "cell_type": "code",
   "execution_count": 28,
   "metadata": {
    "collapsed": true
   },
   "outputs": [],
   "source": [
    "# Compare MFCC's for normal and dysarthric speech\n",
    "\n",
    "def prepare_input(audio_path):\n",
    "    \"\"\"Ensures audio matches the sample rate supported by Deep Speech,\n",
    "       and truncates the audio if there is leading silence\n",
    "    Args:\n",
    "        audio_path: path ot the audio file\n",
    "    Returns:\n",
    "        A tuple with (sample_rate, converted_audio)    \n",
    "    \"\"\"\n",
    "    \n",
    "    import librosa\n",
    "    sample_rate = 16000\n",
    "    \n",
    "    audio, fs = librosa.load(audio_path)\n",
    "    \n",
    "    if fs != sample_rate:\n",
    "        print('Resampling audio from {}kHz to 16kHz'.format(fs/1000))\n",
    "        audio = librosa.resample(audio, fs, sample_rate)\n",
    "    \n",
    "    # Trim leading silence\n",
    "    \n",
    "    audio_trim, index = librosa.effects.trim(audio, top_db=25)\n",
    "    return sample_rate, audio_trim\n",
    "\n",
    "\n",
    "def visualize_input(sample_rate, audio, title):\n",
    "    \"\"\"Plots the MFCC using 13 cepstral coefficients\n",
    "    Args:\n",
    "        sample_rate: sample rate\n",
    "        audio: audio sample buffer\n",
    "        title: plot title\n",
    "    \"\"\"\n",
    "    import matplotlib.pyplot as plt\n",
    "    from python_speech_features import mfcc\n",
    "    \n",
    "    # plot spectrogram\n",
    "    features = mfcc(audio, sample_rate, winlen=0.025, winstep=0.01,\n",
    "                    numcep=13, appendEnergy=False)\n",
    "\n",
    "    fig, ax = plt.subplots(nrows=1, ncols=1, figsize=(20,4))\n",
    "    cax = ax.matshow(np.transpose(features), interpolation='nearest',\n",
    "                     aspect='auto', cmap='plasma', origin='lower')\n",
    "    fig.colorbar(cax)\n",
    "    \n",
    "    plt.title(title)\n",
    "    plt.show()"
   ]
  },
  {
   "cell_type": "code",
   "execution_count": 30,
   "metadata": {},
   "outputs": [
    {
     "name": "stdout",
     "output_type": "stream",
     "text": [
      "Resampling audio from 22.05kHz to 16kHz\n",
      "Resampling audio from 22.05kHz to 16kHz\n",
      "Resampling audio from 22.05kHz to 16kHz\n"
     ]
    }
   ],
   "source": [
    "# Me saying hello my name is Simon\n",
    "sample_rate1, audio1 = prepare_input('../audio/test_sph.wav')\n",
    "# Me saying 'some_hotels_are_available_nearby'\n",
    "sample_rate2, audio2 = prepare_input('../audio/me_some_hotels_are_available_nearby.wav')\n",
    "# F03 saying 'some_hotels_are_available_nearby'\n",
    "sample_rate3, audio3 = prepare_input('../audio/F03_0038_some_hotels_are_available_nearby.wav')"
   ]
  },
  {
   "cell_type": "code",
   "execution_count": 31,
   "metadata": {},
   "outputs": [
    {
     "data": {
      "image/png": "[encoded data removed]",
      "text/plain": [
       "<Figure size 1440x288 with 2 Axes>"
      ]
     },
     "metadata": {
      "needs_background": "light"
     },
     "output_type": "display_data"
    },
    {
     "data": {
      "image/png": "[encoded data removed]",
      "text/plain": [
       "<Figure size 1440x288 with 2 Axes>"
      ]
     },
     "metadata": {
      "needs_background": "light"
     },
     "output_type": "display_data"
    },
    {
     "data": {
      "image/png": "[encoded data removed]",
      "text/plain": [
       "<Figure size 1440x288 with 2 Axes>"
      ]
     },
     "metadata": {
      "needs_background": "light"
     },
     "output_type": "display_data"
    }
   ],
   "source": [
    "visualize_input(sample_rate1, audio1, \"Me - hello, my name is Simon\")\n",
    "visualize_input(sample_rate2, audio2, \"Me - some hotels are available nearby\")\n",
    "visualize_input(sample_rate3, audio3, \"F03 - some hotels are available nearby\")"
   ]
  },
  {
   "cell_type": "markdown",
   "metadata": {},
   "source": [
    "DeepSpeech correctly translates both phrases spoken by me, but **incorrectly translates the dysarthric phrase as \"From mortals are well bonnyboy\".**   \n",
    "  \n",
    "However, when comparing the MFCC of dysarthric speech to the MFCC's of the correctly translated phrases, the dysarthric speech appears more similar to the same phrase in normal speech, which means that it might be worth exploring whether we can fine tune the model by retraining on dysarthric speech. Judging similarity visually is difficult and can be subjective, so check the DTW distances to be sure."
   ]
  },
  {
   "cell_type": "code",
   "execution_count": 39,
   "metadata": {},
   "outputs": [
    {
     "name": "stdout",
     "output_type": "stream",
     "text": [
      "DTW distance F03 vs incorrect phrase: 1055.80\n",
      "DTW distance F03 vs correct phrase: 868.07\n"
     ]
    }
   ],
   "source": [
    "import sklearn\n",
    "from numpy.linalg import norm\n",
    "from fastdtw import fastdtw, dtw\n",
    "from python_speech_features import mfcc\n",
    "\n",
    "\n",
    "mfcc_me_1 = mfcc(audio1, sample_rate1, winlen=0.025, winstep=0.01, numcep=13, appendEnergy=False)\n",
    "mfcc_me_2 = mfcc(audio2, sample_rate2, winlen=0.025, winstep=0.01, numcep=13, appendEnergy=False)\n",
    "mfcc_f03 = mfcc(audio3, sample_rate3, winlen=0.025, winstep=0.01, numcep=13, appendEnergy=False)\n",
    "\n",
    "# Scale features\n",
    "mfcc_me_1 = sklearn.preprocessing.scale(mfcc_me_1, axis=1)\n",
    "mfcc_me_2 = sklearn.preprocessing.scale(mfcc_me_2, axis=1)\n",
    "mfcc_f03 = sklearn.preprocessing.scale(mfcc_f03, axis=1)\n",
    "\n",
    "# mfcc_me_1.shape\n",
    "# mfcc_f03.shape\n",
    "\n",
    "# F03 vs Me (incorrect phrase)\n",
    "distance, path = fastdtw(mfcc_f03, mfcc_me_1, radius=10, dist=lambda x, y: norm(x - y))\n",
    "print('DTW distance F03 vs incorrect phrase: {0:.2f}'.format(distance))\n",
    "\n",
    "# F03 vs Me (correct phrase)\n",
    "distance, path = fastdtw(mfcc_f03, mfcc_me_2, radius=10, dist=lambda x, y: norm(x - y))\n",
    "print('DTW distance F03 vs correct phrase: {0:.2f}'.format(distance))"
   ]
  },
  {
   "cell_type": "markdown",
   "metadata": {},
   "source": [
    "## Retraining  \n",
    "  \n",
    "#### a) Reformat index file  \n",
    "\n",
    "To retrain DeepSpeech using TORGO data, we'll need to create a csv file in the correct format. It should contain three columns:  \n",
    "* full path to the wav file\n",
    "* size of the wav file\n",
    "* transcript (using only tokens present in alphabet.txt)"
   ]
  },
  {
   "cell_type": "code",
   "execution_count": 207,
   "metadata": {
    "collapsed": true
   },
   "outputs": [],
   "source": [
    "# Need to point this to the folder where the wav files are stored. Full path from home is required\n",
    "# ie relative assignments won't work\n",
    "BASE_PATH = '/Users/simonhodgkinson/Desktop/Capstone/mids_capstone/'\n",
    "# or for GCP\n",
    "# BASE_PATH = '/home/simon_hodgkinson_gcp/DeepSpeech/audio/'\n",
    "\n",
    "# Load the existing index for the TORGO data\n",
    "df = pd.read_csv(BASE_PATH + 'index_TORGO.txt', sep=\"|\", converters={'prompt_id': lambda x: str(x)})\n",
    "\n",
    "# Remove instances where prompt is None, ends with \"]\" or contains \"jpg\"\n",
    "df['remove'] = (df['prompt']==None) | (df['prompt']=='None') | (df['prompt'].str.contains('jpg')) | (df['prompt'].str.endswith(']')) | (df['prompt']=='xxx') \n",
    "df = df.loc[df['remove'] == False].reset_index(drop=True)\n",
    "\n",
    "# Create a list that will allow us to convert the existing index to the required format\n",
    "data = []\n",
    "for p in range(df.shape[0]):\n",
    "    speaker = df['speaker'][p]\n",
    "    aud_loc = '/'.join([BASE_PATH+'data/TORGO', df['speaker'][p], df['session'][p], df['mic'][p], df['prompt_id'][p]+'.wav'])           \n",
    "    filesize = os.path.getsize(aud_loc)\n",
    "    transcript = df['prompt'][p].strip().lower().replace(',', '').replace('.', '') \\\n",
    "    .replace('!', '').replace('?', '').replace(';', '').replace('-', '') \\\n",
    "    .replace('\"', '').replace('[', '').replace('13th', 'thirteenth') \n",
    "    data.append((speaker, aud_loc, filesize, transcript))\n",
    "\n",
    "# turn the list into a new dataframe\n",
    "df2 = pd.DataFrame(data=data, columns=[\"speaker\", \"wav_filename\", \"wav_filesize\", \"transcript\"])\n",
    "\n",
    "# Remove items where wav_filesize < 15000 - these are too short for real speech and are typically very\n",
    "# beeps or buzzes where the recording was abandoned. The shortest 'genuine' recording is\n",
    "# F03/Session1/wav_headMic/0147.wav, which is the word 'troop' with filelength 17472\n",
    "\n",
    "df2 = df2[df2['wav_filesize']>17400]\n"
   ]
  },
  {
   "cell_type": "markdown",
   "metadata": {},
   "source": [
    "#### Double check that there are no characters left in the transcript column that are not included in the file of valid characters (alphabet.txt)"
   ]
  },
  {
   "cell_type": "code",
   "execution_count": 208,
   "metadata": {},
   "outputs": [
    {
     "data": {
      "text/plain": [
       "Counter({'s': 3903,\n",
       "         't': 4766,\n",
       "         'i': 4213,\n",
       "         'c': 1650,\n",
       "         'k': 998,\n",
       "         ' ': 13855,\n",
       "         'e': 7780,\n",
       "         'x': 157,\n",
       "         'p': 1401,\n",
       "         'n': 3297,\n",
       "         'h': 3065,\n",
       "         'w': 1688,\n",
       "         'r': 4315,\n",
       "         'o': 4423,\n",
       "         'z': 95,\n",
       "         'v': 646,\n",
       "         'a': 4898,\n",
       "         'u': 1594,\n",
       "         'm': 1338,\n",
       "         'l': 3123,\n",
       "         'y': 1386,\n",
       "         'd': 1939,\n",
       "         'b': 1155,\n",
       "         'g': 1489,\n",
       "         'f': 1227,\n",
       "         'q': 56,\n",
       "         'j': 171,\n",
       "         \"'\": 125,\n",
       "         '\\x1b': 40})"
      ]
     },
     "execution_count": 208,
     "metadata": {},
     "output_type": "execute_result"
    }
   ],
   "source": [
    "from collections import Counter\n",
    "Counter(list(\" \".join(list(df2['transcript'].values))))"
   ]
  },
  {
   "cell_type": "markdown",
   "metadata": {
    "collapsed": true
   },
   "source": [
    "#### b) Determine split into -train, -dev and -test files"
   ]
  },
  {
   "cell_type": "code",
   "execution_count": 209,
   "metadata": {},
   "outputs": [
    {
     "name": "stdout",
     "output_type": "stream",
     "text": [
      "         wav_filesize\n",
      "speaker              \n",
      "F01          17932030\n",
      "F03          95443490\n",
      "F04          70222074\n",
      "M01         118207546\n",
      "M02          90616182\n",
      "M03          81220496\n",
      "M04          90921178\n",
      "M05          86268498\n"
     ]
    },
    {
     "data": {
      "text/html": [
       "<div>\n",
       "<style scoped>\n",
       "    .dataframe tbody tr th:only-of-type {\n",
       "        vertical-align: middle;\n",
       "    }\n",
       "\n",
       "    .dataframe tbody tr th {\n",
       "        vertical-align: top;\n",
       "    }\n",
       "\n",
       "    .dataframe thead th {\n",
       "        text-align: right;\n",
       "    }\n",
       "</style>\n",
       "<table border=\"1\" class=\"dataframe\">\n",
       "  <thead>\n",
       "    <tr style=\"text-align: right;\">\n",
       "      <th></th>\n",
       "      <th>% of total time</th>\n",
       "    </tr>\n",
       "    <tr>\n",
       "      <th>speaker</th>\n",
       "      <th></th>\n",
       "    </tr>\n",
       "  </thead>\n",
       "  <tbody>\n",
       "    <tr>\n",
       "      <th>F01</th>\n",
       "      <td>2.755249</td>\n",
       "    </tr>\n",
       "    <tr>\n",
       "      <th>F03</th>\n",
       "      <td>14.664854</td>\n",
       "    </tr>\n",
       "    <tr>\n",
       "      <th>F04</th>\n",
       "      <td>10.789594</td>\n",
       "    </tr>\n",
       "    <tr>\n",
       "      <th>M01</th>\n",
       "      <td>18.162542</td>\n",
       "    </tr>\n",
       "    <tr>\n",
       "      <th>M02</th>\n",
       "      <td>13.923140</td>\n",
       "    </tr>\n",
       "    <tr>\n",
       "      <th>M03</th>\n",
       "      <td>12.479497</td>\n",
       "    </tr>\n",
       "    <tr>\n",
       "      <th>M04</th>\n",
       "      <td>13.970003</td>\n",
       "    </tr>\n",
       "    <tr>\n",
       "      <th>M05</th>\n",
       "      <td>13.255120</td>\n",
       "    </tr>\n",
       "  </tbody>\n",
       "</table>\n",
       "</div>"
      ],
      "text/plain": [
       "         % of total time\n",
       "speaker                 \n",
       "F01             2.755249\n",
       "F03            14.664854\n",
       "F04            10.789594\n",
       "M01            18.162542\n",
       "M02            13.923140\n",
       "M03            12.479497\n",
       "M04            13.970003\n",
       "M05            13.255120"
      ]
     },
     "execution_count": 209,
     "metadata": {},
     "output_type": "execute_result"
    }
   ],
   "source": [
    "# We can't randomly assign files to train/test/dev, because the data contains duplicate recordings\n",
    "# where the only difference is that one is recorded on a head mic, and one is on an array mic\n",
    "# If one of these gets assigned to train and one to test, it may result in us overstating accuracy\n",
    "# It would be more realistic to train on certain dysarthric speakers, and assign remaining ones to test\n",
    "# ie the test case would be on a brand new speaker\n",
    "\n",
    "total_filesize = df2.groupby(['speaker']).sum()\n",
    "print(total_filesize)\n",
    "total_percentage = total_filesize.groupby(level=0).apply(lambda x: 100 * x/total_filesize['wav_filesize'].sum())\n",
    "total_percentage.rename(columns = {'wav_filesize':'% of total time'}, inplace = True)\n",
    "total_percentage\n"
   ]
  },
  {
   "cell_type": "code",
   "execution_count": 210,
   "metadata": {},
   "outputs": [
    {
     "data": {
      "text/html": [
       "<div>\n",
       "<style scoped>\n",
       "    .dataframe tbody tr th:only-of-type {\n",
       "        vertical-align: middle;\n",
       "    }\n",
       "\n",
       "    .dataframe tbody tr th {\n",
       "        vertical-align: top;\n",
       "    }\n",
       "\n",
       "    .dataframe thead th {\n",
       "        text-align: right;\n",
       "    }\n",
       "</style>\n",
       "<table border=\"1\" class=\"dataframe\">\n",
       "  <thead>\n",
       "    <tr style=\"text-align: right;\">\n",
       "      <th></th>\n",
       "      <th>wav_filename</th>\n",
       "      <th>wav_filesize</th>\n",
       "      <th>transcript</th>\n",
       "    </tr>\n",
       "  </thead>\n",
       "  <tbody>\n",
       "    <tr>\n",
       "      <th>0</th>\n",
       "      <td>/Users/simonhodgkinson/Desktop/Capstone/mids_c...</td>\n",
       "      <td>44824</td>\n",
       "      <td>stick</td>\n",
       "    </tr>\n",
       "    <tr>\n",
       "      <th>1</th>\n",
       "      <td>/Users/simonhodgkinson/Desktop/Capstone/mids_c...</td>\n",
       "      <td>315044</td>\n",
       "      <td>except in the winter when the ooze or snow or ...</td>\n",
       "    </tr>\n",
       "    <tr>\n",
       "      <th>2</th>\n",
       "      <td>/Users/simonhodgkinson/Desktop/Capstone/mids_c...</td>\n",
       "      <td>40192</td>\n",
       "      <td>pat</td>\n",
       "    </tr>\n",
       "    <tr>\n",
       "      <th>3</th>\n",
       "      <td>/Users/simonhodgkinson/Desktop/Capstone/mids_c...</td>\n",
       "      <td>66442</td>\n",
       "      <td>up</td>\n",
       "    </tr>\n",
       "    <tr>\n",
       "      <th>4</th>\n",
       "      <td>/Users/simonhodgkinson/Desktop/Capstone/mids_c...</td>\n",
       "      <td>51002</td>\n",
       "      <td>meat</td>\n",
       "    </tr>\n",
       "  </tbody>\n",
       "</table>\n",
       "</div>"
      ],
      "text/plain": [
       "                                        wav_filename  wav_filesize  \\\n",
       "0  /Users/simonhodgkinson/Desktop/Capstone/mids_c...         44824   \n",
       "1  /Users/simonhodgkinson/Desktop/Capstone/mids_c...        315044   \n",
       "2  /Users/simonhodgkinson/Desktop/Capstone/mids_c...         40192   \n",
       "3  /Users/simonhodgkinson/Desktop/Capstone/mids_c...         66442   \n",
       "4  /Users/simonhodgkinson/Desktop/Capstone/mids_c...         51002   \n",
       "\n",
       "                                          transcript  \n",
       "0                                              stick  \n",
       "1  except in the winter when the ooze or snow or ...  \n",
       "2                                                pat  \n",
       "3                                                 up  \n",
       "4                                               meat  "
      ]
     },
     "execution_count": 210,
     "metadata": {},
     "output_type": "execute_result"
    }
   ],
   "source": [
    "# So, to get roughly 80/10/10 split, we could assign M03 to dev, and M05 to test\n",
    "# Create new subsets, but drop the speaker column, which is not part of the DeepSpeech format\n",
    "\n",
    "df_dev = df2[df2['speaker']=='M03']\n",
    "del df_dev['speaker']\n",
    "\n",
    "df_test = df2[df2['speaker']=='M05']\n",
    "del df_test['speaker']\n",
    "\n",
    "df_train = df2[~df2['speaker'].isin(['M03','F04'])]\n",
    "del df_train['speaker']\n",
    "\n",
    "df_train.head()"
   ]
  },
  {
   "cell_type": "markdown",
   "metadata": {},
   "source": [
    "**Note that M03 is classified as mildly dysarthric, while M05 is moderately severe.** It may be worth switching these around to see what the impact is."
   ]
  },
  {
   "cell_type": "markdown",
   "metadata": {},
   "source": [
    "| Speaker | Disorder | Utterances |\n",
    "|---------|----------|------------|\n",
    "|F01 | Severe | 228 |\n",
    "|M01 | Severe | 739 |\n",
    "|M02 | Severe | 772 |\n",
    "|M04 | Severe | 659 |\n",
    "|M05 | Mod. Severe | 610 |\n",
    "|F03 | Moderate | 1097 |\n",
    "|F04 | Mild | 675 |\n",
    "|M03 | Mild | 806 |\n"
   ]
  },
  {
   "cell_type": "markdown",
   "metadata": {},
   "source": [
    "#### c) Create the csv files"
   ]
  },
  {
   "cell_type": "code",
   "execution_count": 211,
   "metadata": {
    "collapsed": true
   },
   "outputs": [],
   "source": [
    "df_dev.to_csv(BASE_PATH + \"TORGO_dev.csv\", index=False)\n",
    "df_test.to_csv(BASE_PATH + \"TORGO_test.csv\", index=False)\n",
    "df_train.to_csv(BASE_PATH + \"TORGO_train.csv\", index=False)"
   ]
  },
  {
   "cell_type": "markdown",
   "metadata": {},
   "source": [
    "Move these files from BASE_PATH to /DeepSpeech/data/TORGO"
   ]
  },
  {
   "cell_type": "markdown",
   "metadata": {},
   "source": [
    "#### d) Preprocess audio  \n",
    "\n",
    "See DeepSpeech/util/audio.py. DeepSpeech uses scipy.wavfile to process audio files, but this results in an error for many files, which seem to be missing a chunk_id. A simple way to fix this is to open the file using librosa (which standardizes the format) and then resave it."
   ]
  },
  {
   "cell_type": "code",
   "execution_count": 161,
   "metadata": {},
   "outputs": [
    {
     "name": "stdout",
     "output_type": "stream",
     "text": [
      "can't read  /Users/simonhodgkinson/Desktop/Capstone/mids_capstone/data/TORGO/M03/Session2/wav_headMic/0419.wav\n",
      "can't read  /Users/simonhodgkinson/Desktop/Capstone/mids_capstone/data/TORGO/M03/Session2/wav_headMic/0420.wav\n",
      "can't read  /Users/simonhodgkinson/Desktop/Capstone/mids_capstone/data/TORGO/M03/Session2/wav_headMic/0421.wav\n"
     ]
    }
   ],
   "source": [
    "# Example of files that fail to open properly\n",
    "\n",
    "from scipy.io import wavfile as wav\n",
    "\n",
    "for x in list(df_dev['wav_filename']):\n",
    "    try:\n",
    "        fs, audio = wav.read(x)\n",
    "    except:\n",
    "        print(\"can't read \", x)"
   ]
  },
  {
   "cell_type": "code",
   "execution_count": 162,
   "metadata": {},
   "outputs": [
    {
     "name": "stdout",
     "output_type": "stream",
     "text": [
      "Processing file  /Users/simonhodgkinson/Desktop/Capstone/mids_capstone/data/TORGO/M03/Session2/wav_headMic/0419.wav\n",
      "Processing file  /Users/simonhodgkinson/Desktop/Capstone/mids_capstone/data/TORGO/M03/Session2/wav_headMic/0420.wav\n",
      "Processing file  /Users/simonhodgkinson/Desktop/Capstone/mids_capstone/data/TORGO/M03/Session2/wav_headMic/0421.wav\n",
      "All files checked\n"
     ]
    }
   ],
   "source": [
    "# Fix by using librosa\n",
    "\n",
    "for x in list(df_dev['wav_filename']):\n",
    "    try:\n",
    "        fs, audio = wav.read(x)\n",
    "    except:\n",
    "        print('Processing file ',x)\n",
    "        audio, fs = librosa.load(x)\n",
    "        librosa.output.write_wav(x, audio, fs)\n",
    "\n",
    "print(\"All files checked\")"
   ]
  },
  {
   "cell_type": "code",
   "execution_count": 166,
   "metadata": {},
   "outputs": [
    {
     "name": "stdout",
     "output_type": "stream",
     "text": [
      "All files checked\n"
     ]
    }
   ],
   "source": [
    "for x in list(df_dev['wav_filename']):\n",
    "    try:\n",
    "        fs, audio = wav.read(x)\n",
    "    except:\n",
    "        print(\"can't read \", x)\n",
    "        \n",
    "print(\"All files checked\")"
   ]
  },
  {
   "cell_type": "code",
   "execution_count": 164,
   "metadata": {},
   "outputs": [
    {
     "name": "stdout",
     "output_type": "stream",
     "text": [
      "Processing file  /Users/simonhodgkinson/Desktop/Capstone/mids_capstone/data/TORGO/F03/Session2/wav_headMic/0160.wav\n",
      "Processing file  /Users/simonhodgkinson/Desktop/Capstone/mids_capstone/data/TORGO/F03/Session3/wav_headMic/0214.wav\n",
      "Processing file  /Users/simonhodgkinson/Desktop/Capstone/mids_capstone/data/TORGO/M01/Session1/wav_headMic/0005.wav\n",
      "Processing file  /Users/simonhodgkinson/Desktop/Capstone/mids_capstone/data/TORGO/M01/Session1/wav_headMic/0006.wav\n",
      "Processing file  /Users/simonhodgkinson/Desktop/Capstone/mids_capstone/data/TORGO/M01/Session1/wav_headMic/0007.wav\n",
      "Processing file  /Users/simonhodgkinson/Desktop/Capstone/mids_capstone/data/TORGO/M01/Session1/wav_headMic/0008.wav\n",
      "Processing file  /Users/simonhodgkinson/Desktop/Capstone/mids_capstone/data/TORGO/M01/Session1/wav_headMic/0009.wav\n",
      "Processing file  /Users/simonhodgkinson/Desktop/Capstone/mids_capstone/data/TORGO/M01/Session1/wav_headMic/0010.wav\n",
      "Processing file  /Users/simonhodgkinson/Desktop/Capstone/mids_capstone/data/TORGO/M01/Session1/wav_headMic/0011.wav\n",
      "Processing file  /Users/simonhodgkinson/Desktop/Capstone/mids_capstone/data/TORGO/M01/Session1/wav_headMic/0012.wav\n",
      "Processing file  /Users/simonhodgkinson/Desktop/Capstone/mids_capstone/data/TORGO/M01/Session1/wav_headMic/0013.wav\n",
      "Processing file  /Users/simonhodgkinson/Desktop/Capstone/mids_capstone/data/TORGO/M01/Session1/wav_headMic/0014.wav\n",
      "Processing file  /Users/simonhodgkinson/Desktop/Capstone/mids_capstone/data/TORGO/M01/Session1/wav_headMic/0015.wav\n",
      "Processing file  /Users/simonhodgkinson/Desktop/Capstone/mids_capstone/data/TORGO/M01/Session1/wav_headMic/0016.wav\n",
      "Processing file  /Users/simonhodgkinson/Desktop/Capstone/mids_capstone/data/TORGO/M01/Session1/wav_headMic/0017.wav\n",
      "Processing file  /Users/simonhodgkinson/Desktop/Capstone/mids_capstone/data/TORGO/M01/Session1/wav_headMic/0018.wav\n",
      "Processing file  /Users/simonhodgkinson/Desktop/Capstone/mids_capstone/data/TORGO/M01/Session1/wav_headMic/0019.wav\n",
      "Processing file  /Users/simonhodgkinson/Desktop/Capstone/mids_capstone/data/TORGO/M01/Session1/wav_headMic/0020.wav\n",
      "Processing file  /Users/simonhodgkinson/Desktop/Capstone/mids_capstone/data/TORGO/M01/Session1/wav_headMic/0021.wav\n",
      "Processing file  /Users/simonhodgkinson/Desktop/Capstone/mids_capstone/data/TORGO/M01/Session1/wav_headMic/0022.wav\n",
      "Processing file  /Users/simonhodgkinson/Desktop/Capstone/mids_capstone/data/TORGO/M01/Session1/wav_headMic/0023.wav\n",
      "Processing file  /Users/simonhodgkinson/Desktop/Capstone/mids_capstone/data/TORGO/M01/Session1/wav_headMic/0024.wav\n",
      "Processing file  /Users/simonhodgkinson/Desktop/Capstone/mids_capstone/data/TORGO/M01/Session1/wav_headMic/0025.wav\n",
      "Processing file  /Users/simonhodgkinson/Desktop/Capstone/mids_capstone/data/TORGO/M01/Session1/wav_headMic/0026.wav\n",
      "Processing file  /Users/simonhodgkinson/Desktop/Capstone/mids_capstone/data/TORGO/M01/Session1/wav_headMic/0027.wav\n",
      "Processing file  /Users/simonhodgkinson/Desktop/Capstone/mids_capstone/data/TORGO/M01/Session1/wav_headMic/0028.wav\n",
      "Processing file  /Users/simonhodgkinson/Desktop/Capstone/mids_capstone/data/TORGO/M01/Session1/wav_headMic/0029.wav\n",
      "Processing file  /Users/simonhodgkinson/Desktop/Capstone/mids_capstone/data/TORGO/M01/Session1/wav_headMic/0030.wav\n",
      "Processing file  /Users/simonhodgkinson/Desktop/Capstone/mids_capstone/data/TORGO/M01/Session1/wav_headMic/0031.wav\n",
      "Processing file  /Users/simonhodgkinson/Desktop/Capstone/mids_capstone/data/TORGO/M01/Session1/wav_headMic/0032.wav\n",
      "Processing file  /Users/simonhodgkinson/Desktop/Capstone/mids_capstone/data/TORGO/M01/Session1/wav_headMic/0033.wav\n",
      "Processing file  /Users/simonhodgkinson/Desktop/Capstone/mids_capstone/data/TORGO/M01/Session1/wav_headMic/0034.wav\n",
      "Processing file  /Users/simonhodgkinson/Desktop/Capstone/mids_capstone/data/TORGO/M01/Session1/wav_headMic/0035.wav\n",
      "Processing file  /Users/simonhodgkinson/Desktop/Capstone/mids_capstone/data/TORGO/M01/Session1/wav_headMic/0036.wav\n",
      "Processing file  /Users/simonhodgkinson/Desktop/Capstone/mids_capstone/data/TORGO/M01/Session1/wav_headMic/0037.wav\n",
      "Processing file  /Users/simonhodgkinson/Desktop/Capstone/mids_capstone/data/TORGO/M01/Session1/wav_headMic/0038.wav\n",
      "Processing file  /Users/simonhodgkinson/Desktop/Capstone/mids_capstone/data/TORGO/M01/Session1/wav_headMic/0039.wav\n",
      "Processing file  /Users/simonhodgkinson/Desktop/Capstone/mids_capstone/data/TORGO/M01/Session1/wav_headMic/0040.wav\n",
      "Processing file  /Users/simonhodgkinson/Desktop/Capstone/mids_capstone/data/TORGO/M01/Session1/wav_headMic/0041.wav\n",
      "Processing file  /Users/simonhodgkinson/Desktop/Capstone/mids_capstone/data/TORGO/M01/Session1/wav_headMic/0044.wav\n",
      "Processing file  /Users/simonhodgkinson/Desktop/Capstone/mids_capstone/data/TORGO/M01/Session1/wav_headMic/0045.wav\n",
      "Processing file  /Users/simonhodgkinson/Desktop/Capstone/mids_capstone/data/TORGO/M01/Session1/wav_headMic/0046.wav\n",
      "Processing file  /Users/simonhodgkinson/Desktop/Capstone/mids_capstone/data/TORGO/M01/Session1/wav_headMic/0047.wav\n",
      "Processing file  /Users/simonhodgkinson/Desktop/Capstone/mids_capstone/data/TORGO/M01/Session1/wav_headMic/0048.wav\n",
      "Processing file  /Users/simonhodgkinson/Desktop/Capstone/mids_capstone/data/TORGO/M01/Session1/wav_headMic/0050.wav\n",
      "Processing file  /Users/simonhodgkinson/Desktop/Capstone/mids_capstone/data/TORGO/M01/Session1/wav_headMic/0051.wav\n",
      "Processing file  /Users/simonhodgkinson/Desktop/Capstone/mids_capstone/data/TORGO/M01/Session1/wav_headMic/0052.wav\n",
      "Processing file  /Users/simonhodgkinson/Desktop/Capstone/mids_capstone/data/TORGO/M01/Session1/wav_headMic/0053.wav\n",
      "Processing file  /Users/simonhodgkinson/Desktop/Capstone/mids_capstone/data/TORGO/M01/Session1/wav_headMic/0054.wav\n",
      "Processing file  /Users/simonhodgkinson/Desktop/Capstone/mids_capstone/data/TORGO/M01/Session1/wav_headMic/0055.wav\n",
      "Processing file  /Users/simonhodgkinson/Desktop/Capstone/mids_capstone/data/TORGO/M01/Session1/wav_headMic/0056.wav\n",
      "Processing file  /Users/simonhodgkinson/Desktop/Capstone/mids_capstone/data/TORGO/M01/Session1/wav_headMic/0057.wav\n",
      "Processing file  /Users/simonhodgkinson/Desktop/Capstone/mids_capstone/data/TORGO/M01/Session1/wav_headMic/0058.wav\n",
      "Processing file  /Users/simonhodgkinson/Desktop/Capstone/mids_capstone/data/TORGO/M01/Session1/wav_headMic/0059.wav\n",
      "Processing file  /Users/simonhodgkinson/Desktop/Capstone/mids_capstone/data/TORGO/M01/Session1/wav_headMic/0060.wav\n",
      "Processing file  /Users/simonhodgkinson/Desktop/Capstone/mids_capstone/data/TORGO/M01/Session1/wav_headMic/0061.wav\n",
      "Processing file  /Users/simonhodgkinson/Desktop/Capstone/mids_capstone/data/TORGO/M01/Session1/wav_headMic/0062.wav\n",
      "Processing file  /Users/simonhodgkinson/Desktop/Capstone/mids_capstone/data/TORGO/M01/Session1/wav_headMic/0064.wav\n",
      "Processing file  /Users/simonhodgkinson/Desktop/Capstone/mids_capstone/data/TORGO/M01/Session1/wav_headMic/0065.wav\n",
      "Processing file  /Users/simonhodgkinson/Desktop/Capstone/mids_capstone/data/TORGO/M01/Session1/wav_headMic/0066.wav\n",
      "Processing file  /Users/simonhodgkinson/Desktop/Capstone/mids_capstone/data/TORGO/M01/Session1/wav_headMic/0067.wav\n",
      "Processing file  /Users/simonhodgkinson/Desktop/Capstone/mids_capstone/data/TORGO/M01/Session1/wav_headMic/0068.wav\n",
      "Processing file  /Users/simonhodgkinson/Desktop/Capstone/mids_capstone/data/TORGO/M01/Session1/wav_headMic/0069.wav\n",
      "Processing file  /Users/simonhodgkinson/Desktop/Capstone/mids_capstone/data/TORGO/M01/Session1/wav_headMic/0070.wav\n",
      "Processing file  /Users/simonhodgkinson/Desktop/Capstone/mids_capstone/data/TORGO/M01/Session1/wav_headMic/0071.wav\n",
      "Processing file  /Users/simonhodgkinson/Desktop/Capstone/mids_capstone/data/TORGO/M01/Session1/wav_headMic/0072.wav\n",
      "Processing file  /Users/simonhodgkinson/Desktop/Capstone/mids_capstone/data/TORGO/M01/Session1/wav_headMic/0073.wav\n",
      "Processing file  /Users/simonhodgkinson/Desktop/Capstone/mids_capstone/data/TORGO/M01/Session1/wav_headMic/0074.wav\n",
      "Processing file  /Users/simonhodgkinson/Desktop/Capstone/mids_capstone/data/TORGO/M01/Session1/wav_headMic/0075.wav\n",
      "Processing file  /Users/simonhodgkinson/Desktop/Capstone/mids_capstone/data/TORGO/M01/Session1/wav_headMic/0076.wav\n",
      "Processing file  /Users/simonhodgkinson/Desktop/Capstone/mids_capstone/data/TORGO/M01/Session1/wav_headMic/0077.wav\n",
      "Processing file  /Users/simonhodgkinson/Desktop/Capstone/mids_capstone/data/TORGO/M01/Session1/wav_headMic/0078.wav\n"
     ]
    },
    {
     "name": "stdout",
     "output_type": "stream",
     "text": [
      "Processing file  /Users/simonhodgkinson/Desktop/Capstone/mids_capstone/data/TORGO/M01/Session1/wav_headMic/0079.wav\n",
      "Processing file  /Users/simonhodgkinson/Desktop/Capstone/mids_capstone/data/TORGO/M01/Session1/wav_headMic/0080.wav\n",
      "Processing file  /Users/simonhodgkinson/Desktop/Capstone/mids_capstone/data/TORGO/M01/Session1/wav_headMic/0082.wav\n",
      "Processing file  /Users/simonhodgkinson/Desktop/Capstone/mids_capstone/data/TORGO/M01/Session1/wav_headMic/0083.wav\n",
      "Processing file  /Users/simonhodgkinson/Desktop/Capstone/mids_capstone/data/TORGO/M01/Session1/wav_headMic/0084.wav\n",
      "Processing file  /Users/simonhodgkinson/Desktop/Capstone/mids_capstone/data/TORGO/M01/Session1/wav_headMic/0085.wav\n",
      "Processing file  /Users/simonhodgkinson/Desktop/Capstone/mids_capstone/data/TORGO/M01/Session1/wav_headMic/0086.wav\n",
      "Processing file  /Users/simonhodgkinson/Desktop/Capstone/mids_capstone/data/TORGO/M01/Session1/wav_headMic/0087.wav\n",
      "Processing file  /Users/simonhodgkinson/Desktop/Capstone/mids_capstone/data/TORGO/M01/Session1/wav_headMic/0088.wav\n",
      "Processing file  /Users/simonhodgkinson/Desktop/Capstone/mids_capstone/data/TORGO/M01/Session1/wav_headMic/0089.wav\n",
      "Processing file  /Users/simonhodgkinson/Desktop/Capstone/mids_capstone/data/TORGO/M01/Session1/wav_headMic/0090.wav\n",
      "Processing file  /Users/simonhodgkinson/Desktop/Capstone/mids_capstone/data/TORGO/M01/Session1/wav_headMic/0091.wav\n",
      "Processing file  /Users/simonhodgkinson/Desktop/Capstone/mids_capstone/data/TORGO/M01/Session1/wav_headMic/0092.wav\n",
      "Processing file  /Users/simonhodgkinson/Desktop/Capstone/mids_capstone/data/TORGO/M01/Session1/wav_headMic/0093.wav\n",
      "Processing file  /Users/simonhodgkinson/Desktop/Capstone/mids_capstone/data/TORGO/M01/Session1/wav_headMic/0094.wav\n",
      "Processing file  /Users/simonhodgkinson/Desktop/Capstone/mids_capstone/data/TORGO/M01/Session1/wav_headMic/0095.wav\n",
      "Processing file  /Users/simonhodgkinson/Desktop/Capstone/mids_capstone/data/TORGO/M01/Session1/wav_headMic/0096.wav\n",
      "Processing file  /Users/simonhodgkinson/Desktop/Capstone/mids_capstone/data/TORGO/M01/Session1/wav_headMic/0097.wav\n",
      "Processing file  /Users/simonhodgkinson/Desktop/Capstone/mids_capstone/data/TORGO/M01/Session1/wav_headMic/0098.wav\n",
      "Processing file  /Users/simonhodgkinson/Desktop/Capstone/mids_capstone/data/TORGO/M01/Session1/wav_headMic/0099.wav\n",
      "Processing file  /Users/simonhodgkinson/Desktop/Capstone/mids_capstone/data/TORGO/M01/Session1/wav_headMic/0100.wav\n",
      "Processing file  /Users/simonhodgkinson/Desktop/Capstone/mids_capstone/data/TORGO/M02/Session2/wav_headMic/0240.wav\n",
      "Processing file  /Users/simonhodgkinson/Desktop/Capstone/mids_capstone/data/TORGO/M02/Session2/wav_headMic/0241.wav\n",
      "Processing file  /Users/simonhodgkinson/Desktop/Capstone/mids_capstone/data/TORGO/M02/Session2/wav_headMic/0242.wav\n",
      "Processing file  /Users/simonhodgkinson/Desktop/Capstone/mids_capstone/data/TORGO/M05/Session1/wav_headMic/0129.wav\n",
      "Processing file  /Users/simonhodgkinson/Desktop/Capstone/mids_capstone/data/TORGO/M05/Session1/wav_headMic/0130.wav\n",
      "Processing file  /Users/simonhodgkinson/Desktop/Capstone/mids_capstone/data/TORGO/M05/Session2/wav_headMic/0393.wav\n",
      "All files checked\n"
     ]
    }
   ],
   "source": [
    "# Do this for the whole dataset\n",
    "\n",
    "for x in list(df2['wav_filename']):\n",
    "    try:\n",
    "        fs, audio = wav.read(x)\n",
    "    except:\n",
    "        print('Processing file ',x)\n",
    "        audio, fs = librosa.load(x)\n",
    "        librosa.output.write_wav(x, audio, fs)\n",
    "\n",
    "print(\"All files checked\")"
   ]
  },
  {
   "cell_type": "code",
   "execution_count": 212,
   "metadata": {},
   "outputs": [
    {
     "name": "stdout",
     "output_type": "stream",
     "text": [
      "All files checked\n"
     ]
    }
   ],
   "source": [
    "for x in list(df2['wav_filename']):\n",
    "    try:\n",
    "        fs, audio = wav.read(x)\n",
    "    except:\n",
    "        print(\"can't read \", x)\n",
    "\n",
    "print(\"All files checked\")"
   ]
  },
  {
   "cell_type": "code",
   "execution_count": 213,
   "metadata": {},
   "outputs": [
    {
     "name": "stdout",
     "output_type": "stream",
     "text": [
      "All files downsampled to 16000 Hz\n"
     ]
    }
   ],
   "source": [
    "##### Don't need to do this if you install sox (sudo apt-get install sox libsox-fmt-mp3) ######\n",
    "\n",
    "# Now there is an error \n",
    "# \"frame length (706) is greater than FFT size (512), frame will be truncated. Increase NFFT to avoid\"\n",
    "# Apparently need to downsample to 16,000 to solve\n",
    "\n",
    "# sample_rate = 16000\n",
    "\n",
    "# for x in list(df2['wav_filename']):\n",
    "#     audio, fs = librosa.load(x)\n",
    "#     librosa.output.write_wav(x, audio, sample_rate)\n",
    "\n",
    "# print(\"All files downsampled to 16000 Hz\")\n"
   ]
  },
  {
   "cell_type": "markdown",
   "metadata": {},
   "source": [
    "## Run DeepSpeech"
   ]
  },
  {
   "cell_type": "markdown",
   "metadata": {},
   "source": [
    "First, download appropriate pretrained checkpoint and place it in a new folder in the DeepSpeech directory  \n",
    "\n",
    "cd DeepSpeech  \n",
    "mkdir fine_tuning_checkpoints\n",
    "mkdir tensorboard_summaries\n",
    "cd fine_tuning_checkpoints  \n",
    "wget https://github.com/mozilla/DeepSpeech/releases/download/v0.5.0-alpha.4/deepspeech-0.5.0a4-cp37-cp37m-macosx_10_10_x86_64.whl"
   ]
  },
  {
   "cell_type": "markdown",
   "metadata": {},
   "source": [
    "Then, back in DeepSpeech root directory  \n",
    "\n",
    "cd ../  \n",
    "  \n",
    "python3 DeepSpeech.py --n_hidden 2048 --checkpoint_dir ./fine_tuning_checkpoints --epoch -3 --train_files ./data/TORGO/TORGO_train.csv --dev_files ./data/TORGO/TORGO_dev.csv --test_files ./data/TORGO/TORGO_test.csv --learning_rate 0.0001  --summary_dir ./tensorboard_summaries\n",
    "\n",
    "Since the pretrained model used 2048 hidden nodes, we need to do the same. Epoch negative three means to train for three more epochs in addition to how ever many epochs the pretrained model has been through."
   ]
  },
  {
   "cell_type": "markdown",
   "metadata": {},
   "source": [
    "**Note**"
   ]
  },
  {
   "cell_type": "markdown",
   "metadata": {},
   "source": [
    "Execution stopped for me, with the error  \n",
    "  \n",
    "OMP: Error #15: Initializing libiomp5.dylib, but found libiomp5.dylib already initialized.\n",
    "OMP: Hint: This means that multiple copies of the OpenMP runtime have been linked into the program. That is dangerous, since it can degrade performance or cause incorrect results. The best thing to do is to ensure that only a single OpenMP runtime is linked into the process, e.g. by avoiding static linking of the OpenMP runtime in any library. As an unsafe, unsupported, undocumented workaround you can set the environment variable KMP_DUPLICATE_LIB_OK=TRUE to allow the program to continue to execute, but that may cause crashes or silently produce incorrect results. For more information, please see http://www.intel.com/software/products/support/."
   ]
  },
  {
   "cell_type": "markdown",
   "metadata": {},
   "source": [
    "This was fixed by running ```conda install nomkl```"
   ]
  },
  {
   "cell_type": "markdown",
   "metadata": {},
   "source": [
    "Monitor progress by running ```tensorboard --logdir=./tensorboard_summaries``` in a terminal, and then in a new browser window open http://localhost:6006"
   ]
  }
 ],
 "metadata": {
  "kernelspec": {
   "display_name": "Python 3",
   "language": "python",
   "name": "python3"
  },
  "language_info": {
   "codemirror_mode": {
    "name": "ipython",
    "version": 3
   },
   "file_extension": ".py",
   "mimetype": "text/x-python",
   "name": "python",
   "nbconvert_exporter": "python",
   "pygments_lexer": "ipython3",
   "version": "3.6.8"
  }
 },
 "nbformat": 4,
 "nbformat_minor": 2
}
