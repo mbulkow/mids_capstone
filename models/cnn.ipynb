{
 "cells": [
  {
   "cell_type": "markdown",
   "metadata": {},
   "source": [
    "##### This script will associate spoken phrases with their corresponding translation, using a convolutional neural network (\"CNN\")\n",
    "\n",
    "I am going to start by using subset of a few phrases I chose manually from Female 1. (index_TORGO_test.txt)"
   ]
  },
  {
   "cell_type": "code",
   "execution_count": 3,
   "metadata": {},
   "outputs": [],
   "source": [
    "# Load packages\n",
    "\n",
    "import pandas as pd\n",
    "import cv2\n",
    "import numpy as np\n",
    "from matplotlib import pyplot as plt\n",
    "import tensorflow as tf"
   ]
  },
  {
   "cell_type": "code",
   "execution_count": 53,
   "metadata": {
    "scrolled": true
   },
   "outputs": [
    {
     "data": {
      "text/html": [
       "<div>\n",
       "<style scoped>\n",
       "    .dataframe tbody tr th:only-of-type {\n",
       "        vertical-align: middle;\n",
       "    }\n",
       "\n",
       "    .dataframe tbody tr th {\n",
       "        vertical-align: top;\n",
       "    }\n",
       "\n",
       "    .dataframe thead th {\n",
       "        text-align: right;\n",
       "    }\n",
       "</style>\n",
       "<table border=\"1\" class=\"dataframe\">\n",
       "  <thead>\n",
       "    <tr style=\"text-align: right;\">\n",
       "      <th></th>\n",
       "      <th>speaker</th>\n",
       "      <th>session</th>\n",
       "      <th>mic</th>\n",
       "      <th>prompt_id</th>\n",
       "      <th>has_spect</th>\n",
       "      <th>spect_width</th>\n",
       "      <th>spect_height</th>\n",
       "      <th>prompt</th>\n",
       "      <th>prompt_code</th>\n",
       "    </tr>\n",
       "  </thead>\n",
       "  <tbody>\n",
       "    <tr>\n",
       "      <th>0</th>\n",
       "      <td>F01</td>\n",
       "      <td>Session1</td>\n",
       "      <td>wav_headMic</td>\n",
       "      <td>0014</td>\n",
       "      <td>yes</td>\n",
       "      <td>206</td>\n",
       "      <td>513</td>\n",
       "      <td>he slowly takes a short walk in the open air e...</td>\n",
       "      <td>6</td>\n",
       "    </tr>\n",
       "    <tr>\n",
       "      <th>1</th>\n",
       "      <td>F01</td>\n",
       "      <td>Session1</td>\n",
       "      <td>wav_headMic</td>\n",
       "      <td>0015</td>\n",
       "      <td>yes</td>\n",
       "      <td>67</td>\n",
       "      <td>513</td>\n",
       "      <td>air</td>\n",
       "      <td>3</td>\n",
       "    </tr>\n",
       "    <tr>\n",
       "      <th>2</th>\n",
       "      <td>F01</td>\n",
       "      <td>Session1</td>\n",
       "      <td>wav_headMic</td>\n",
       "      <td>0018</td>\n",
       "      <td>yes</td>\n",
       "      <td>65</td>\n",
       "      <td>513</td>\n",
       "      <td>no</td>\n",
       "      <td>8</td>\n",
       "    </tr>\n",
       "    <tr>\n",
       "      <th>3</th>\n",
       "      <td>F01</td>\n",
       "      <td>Session1</td>\n",
       "      <td>wav_headMic</td>\n",
       "      <td>0020</td>\n",
       "      <td>yes</td>\n",
       "      <td>153</td>\n",
       "      <td>513</td>\n",
       "      <td>Usually minus several buttons.</td>\n",
       "      <td>2</td>\n",
       "    </tr>\n",
       "    <tr>\n",
       "      <th>4</th>\n",
       "      <td>F01</td>\n",
       "      <td>Session1</td>\n",
       "      <td>wav_headMic</td>\n",
       "      <td>0024</td>\n",
       "      <td>yes</td>\n",
       "      <td>53</td>\n",
       "      <td>513</td>\n",
       "      <td>knee</td>\n",
       "      <td>7</td>\n",
       "    </tr>\n",
       "    <tr>\n",
       "      <th>5</th>\n",
       "      <td>F01</td>\n",
       "      <td>Session1</td>\n",
       "      <td>wav_headMic</td>\n",
       "      <td>0025</td>\n",
       "      <td>yes</td>\n",
       "      <td>73</td>\n",
       "      <td>513</td>\n",
       "      <td>feet</td>\n",
       "      <td>5</td>\n",
       "    </tr>\n",
       "    <tr>\n",
       "      <th>6</th>\n",
       "      <td>F01</td>\n",
       "      <td>Session1</td>\n",
       "      <td>wav_headMic</td>\n",
       "      <td>0031</td>\n",
       "      <td>yes</td>\n",
       "      <td>145</td>\n",
       "      <td>513</td>\n",
       "      <td>The quick brown fox jumps over the lazy dog.</td>\n",
       "      <td>1</td>\n",
       "    </tr>\n",
       "    <tr>\n",
       "      <th>7</th>\n",
       "      <td>F01</td>\n",
       "      <td>Session1</td>\n",
       "      <td>wav_headMic</td>\n",
       "      <td>0032</td>\n",
       "      <td>yes</td>\n",
       "      <td>237</td>\n",
       "      <td>513</td>\n",
       "      <td>She had your dark suit in greasy wash water al...</td>\n",
       "      <td>0</td>\n",
       "    </tr>\n",
       "    <tr>\n",
       "      <th>8</th>\n",
       "      <td>F01</td>\n",
       "      <td>Session1</td>\n",
       "      <td>wav_headMic</td>\n",
       "      <td>0046</td>\n",
       "      <td>yes</td>\n",
       "      <td>44</td>\n",
       "      <td>513</td>\n",
       "      <td>chair</td>\n",
       "      <td>4</td>\n",
       "    </tr>\n",
       "    <tr>\n",
       "      <th>9</th>\n",
       "      <td>F01</td>\n",
       "      <td>Session1</td>\n",
       "      <td>wav_headMic</td>\n",
       "      <td>0075</td>\n",
       "      <td>yes</td>\n",
       "      <td>43</td>\n",
       "      <td>513</td>\n",
       "      <td>warm</td>\n",
       "      <td>9</td>\n",
       "    </tr>\n",
       "  </tbody>\n",
       "</table>\n",
       "</div>"
      ],
      "text/plain": [
       "  speaker   session          mic prompt_id has_spect  spect_width  \\\n",
       "0     F01  Session1  wav_headMic      0014       yes          206   \n",
       "1     F01  Session1  wav_headMic      0015       yes           67   \n",
       "2     F01  Session1  wav_headMic      0018       yes           65   \n",
       "3     F01  Session1  wav_headMic      0020       yes          153   \n",
       "4     F01  Session1  wav_headMic      0024       yes           53   \n",
       "5     F01  Session1  wav_headMic      0025       yes           73   \n",
       "6     F01  Session1  wav_headMic      0031       yes          145   \n",
       "7     F01  Session1  wav_headMic      0032       yes          237   \n",
       "8     F01  Session1  wav_headMic      0046       yes           44   \n",
       "9     F01  Session1  wav_headMic      0075       yes           43   \n",
       "\n",
       "   spect_height                                             prompt  \\\n",
       "0           513  he slowly takes a short walk in the open air e...   \n",
       "1           513                                                air   \n",
       "2           513                                                 no   \n",
       "3           513                     Usually minus several buttons.   \n",
       "4           513                                               knee   \n",
       "5           513                                               feet   \n",
       "6           513       The quick brown fox jumps over the lazy dog.   \n",
       "7           513  She had your dark suit in greasy wash water al...   \n",
       "8           513                                              chair   \n",
       "9           513                                               warm   \n",
       "\n",
       "   prompt_code  \n",
       "0            6  \n",
       "1            3  \n",
       "2            8  \n",
       "3            2  \n",
       "4            7  \n",
       "5            5  \n",
       "6            1  \n",
       "7            0  \n",
       "8            4  \n",
       "9            9  "
      ]
     },
     "execution_count": 53,
     "metadata": {},
     "output_type": "execute_result"
    }
   ],
   "source": [
    "# Load index of test data\n",
    "\n",
    "# *** Load prompt_id as text with leading zeros\n",
    "# *** Make sure when implemented on larger dataset, to ignore where prompt is None and where has_spect is No\n",
    "\n",
    "df = pd.read_csv('index_TORGO_test.txt', sep=\",\", converters={'prompt_id': lambda x: str(x)})\n",
    "\n",
    "# Add numerical prompt codes\n",
    "df.prompt = pd.Categorical(df.prompt)\n",
    "df['prompt_code'] = df.prompt.cat.codes\n",
    "\n",
    "df.head(20)"
   ]
  },
  {
   "cell_type": "markdown",
   "metadata": {},
   "source": [
    "### 1) Pad Images\n",
    "\n",
    "This model will rely on the spectrogram images we generated from each audio file. I believe the CNN requires these images to be the same size. They are currenly all the same height (frequency axis), but are not the same width (time axis). Therefore, I will pad the end of each image so that all of the images are also the same width - using the max width of all the images.\n",
    "\n",
    "Further research suggests that the images should be squares, and dimensions should be an even number since they may be divided by two one or twice. I will pad the bottom of the y axis (frequency) with a replication of what is above it, that way the information is still useful for prediction, rather than just padding it with gray like the x axis (time) axis.\n",
    "\n",
    "[Tutorial for Padding with OpenCV](https://docs.opencv.org/3.1.0/d3/df2/tutorial_py_basic_ops.html)"
   ]
  },
  {
   "cell_type": "code",
   "execution_count": 13,
   "metadata": {},
   "outputs": [
    {
     "name": "stdout",
     "output_type": "stream",
     "text": [
      "516\n"
     ]
    }
   ],
   "source": [
    "# Get max width / height, which all images will be padded up to on both axis to make a square\n",
    "# Force it to be an even number, and able to be divided by 2 twice\n",
    "\n",
    "maxwidth = df['spect_width'].max()\n",
    "maxheight = df['spect_height'].max()\n",
    "\n",
    "if maxwidth <= maxheight:\n",
    "    maxwidth = maxheight\n",
    "\n",
    "if maxwidth % 2 == 1:\n",
    "    maxwidth += 1\n",
    "\n",
    "if maxwidth/4 != 0:\n",
    "    maxwidth += 2\n",
    "    \n",
    "print(maxwidth)"
   ]
  },
  {
   "cell_type": "code",
   "execution_count": 16,
   "metadata": {},
   "outputs": [
    {
     "name": "stdout",
     "output_type": "stream",
     "text": [
      "Shape before: (513, 206, 3)\n",
      "Shape after: (516, 516, 3)\n"
     ]
    },
    {
     "data": {
      "image/png": "[encoded data removed]",
      "text/plain": [
       "<Figure size 432x288 with 2 Axes>"
      ]
     },
     "metadata": {},
     "output_type": "display_data"
    }
   ],
   "source": [
    "# View example of before and after padding\n",
    "img_loc = '/'.join(['../data/TORGO', df['speaker'][0], df['session'][0], df['mic'][0]+'_spect', df['prompt_id'][0]+'.png'])\n",
    "\n",
    "# Image before padding\n",
    "img = cv2.imread(img_loc)\n",
    "imgplot = plt.subplot(121),plt.imshow(img),plt.title('BEFORE PADDING')\n",
    "print('Shape before:', img.shape)\n",
    "\n",
    "# Image after padding\n",
    "pad = maxwidth - img.shape[1] # pad width with gray\n",
    "img_new = cv2.copyMakeBorder(img,0,0,0,pad,cv2.BORDER_CONSTANT,value=[98,98,98])\n",
    "pad = maxwidth - img.shape[0] # pad height with replication\n",
    "img_new = cv2.copyMakeBorder(img_new,0,pad,0,0,cv2.BORDER_WRAP)\n",
    "print('Shape after:', img_new.shape)\n",
    "\n",
    "imgplot_new = plt.subplot(122),plt.imshow(img_new),plt.title('AFTER PADDING')"
   ]
  },
  {
   "cell_type": "code",
   "execution_count": 54,
   "metadata": {},
   "outputs": [],
   "source": [
    "# Get all predictor variables (padded images) and outcome variable (prompt)\n",
    "x = []\n",
    "y = []\n",
    "\n",
    "for index, row in df.iterrows(): \n",
    "    img_loc = '/'.join(['../data/TORGO', row['speaker'], row['session'], row['mic']+'_spect', row['prompt_id']+'.png'])\n",
    "    img = cv2.imread(img_loc)\n",
    "    pad = maxwidth - img.shape[1] # pad width with gray\n",
    "    img_new = cv2.copyMakeBorder(img,0,0,0,pad,cv2.BORDER_CONSTANT,value=[98,98,98])\n",
    "    pad = maxwidth - img.shape[0] # pad height with replication\n",
    "    img_new = cv2.copyMakeBorder(img_new,0,pad,0,0,cv2.BORDER_WRAP)\n",
    "    x.append(img_new)\n",
    "    y.append(row['prompt_code'])  "
   ]
  },
  {
   "cell_type": "code",
   "execution_count": 55,
   "metadata": {},
   "outputs": [
    {
     "name": "stdout",
     "output_type": "stream",
     "text": [
      "[6, 3, 8, 2, 7, 5, 1, 0, 4, 9]\n",
      "(516, 516, 3)\n",
      "(516, 516, 3)\n",
      "(516, 516, 3)\n",
      "(516, 516, 3)\n",
      "(516, 516, 3)\n",
      "(516, 516, 3)\n",
      "(516, 516, 3)\n",
      "(516, 516, 3)\n",
      "(516, 516, 3)\n",
      "(516, 516, 3)\n"
     ]
    }
   ],
   "source": [
    "# View first 10 records, and verify images are all the same size now\n",
    "print(y[0:10])\n",
    "\n",
    "for i in x[0:10]:\n",
    "    print(i.shape)"
   ]
  },
  {
   "cell_type": "markdown",
   "metadata": {},
   "source": [
    "### 2) Set up CNN\n",
    "\n",
    "First will attempt CNN using Keras. [See here](https://adventuresinmachinelearning.com/keras-tutorial-cnn-11-lines/)\n",
    "\n",
    "After that may attempt to replicate [This Project](https://mabelvj.github.io/capstone_mabelvj/)"
   ]
  },
  {
   "cell_type": "markdown",
   "metadata": {},
   "source": [
    "##### TensorFlow - I think almost works but decided to use Keras"
   ]
  },
  {
   "cell_type": "code",
   "execution_count": 21,
   "metadata": {},
   "outputs": [],
   "source": [
    "# # The code above has been edited to assume it runs a single batch each time. In our text example a batch of size 10\n",
    "\n",
    "# # optimizers\n",
    "# learning_rate = 0.0001\n",
    "# epochs = 10\n",
    "# batch_size = 10\n",
    "# pixels = maxwidth * maxwidth\n",
    "\n",
    "# # declare the training data placeholders\n",
    "# # input x - for length x width = total pixels - this is the flattened image data\n",
    "# x = tf.placeholder(tf.float32, [None, pixels])\n",
    "# # reshape the input data so that it is a 4D tensor.  The first value (-1) tells function to dynamically shape that\n",
    "# # dimension based on the amount of data passed to it.  The two middle dimensions are set to the image size (i.e. l\n",
    "# # x w).  The final dimension is 1 if single colour channel i.e. grayscale, or 3 if this was RGB. In our case 3.\n",
    "# x_shaped = tf.reshape(x, [-1, maxwidth, maxwidth, 3])\n",
    "# # now declare the output data placeholder - HARDCODING THIS TO 10 SINCE TEST DATA HAS 10 RECORDS AND 10 UNIQUE PROMPTS\n",
    "# y = tf.placeholder(tf.float32, [None, 10])\n",
    "\n",
    "# def create_new_conv_layer(input_data, num_input_channels, num_filters, filter_shape, pool_shape, name):\n",
    "#     # setup the filter input shape for tf.nn.conv_2d\n",
    "#     conv_filt_shape = [filter_shape[0], filter_shape[1], num_input_channels, num_filters]\n",
    "\n",
    "#     # initialise weights and bias for the filter\n",
    "#     weights = tf.Variable(tf.truncated_normal(conv_filt_shape, stddev=0.03), name=name+'_W')\n",
    "#     bias = tf.Variable(tf.truncated_normal([num_filters]), name=name+'_b')\n",
    "\n",
    "#     # setup the convolutional layer operation\n",
    "#     out_layer = tf.nn.conv2d(input_data, weights, [1, 1, 1, 1], padding='SAME')\n",
    "\n",
    "#     # add the bias\n",
    "#     out_layer += bias\n",
    "\n",
    "#     # apply a ReLU non-linear activation\n",
    "#     out_layer = tf.nn.relu(out_layer)\n",
    "\n",
    "#     # now perform max pooling\n",
    "#     # ksize is the argument which defines the size of the max pooling window (i.e. the area over which the maximum is\n",
    "#     # calculated).  It must be 4D to match the convolution - in this case, for each image we want to use a 2 x 2 area\n",
    "#     # applied to each channel\n",
    "#     ksize = [1, pool_shape[0], pool_shape[1], 1]\n",
    "#     # strides defines how the max pooling area moves through the image - a stride of 2 in the x direction will lead to\n",
    "#     # max pooling areas starting at x=0, x=2, x=4 etc. through your image.  If the stride is 1, we will get max pooling\n",
    "#     # overlapping previous max pooling areas (and no reduction in the number of parameters).  In this case, we want\n",
    "#     # to do strides of 2 in the x and y directions.\n",
    "#     strides = [1, 2, 2, 1]\n",
    "#     out_layer = tf.nn.max_pool(out_layer, ksize=ksize, strides=strides, padding='SAME')\n",
    "\n",
    "#     return out_layer\n",
    "\n",
    "# # create some convolutional layers\n",
    "# # also changed layer 1 to 3 for RGB - should make this a dynamic variable since used twice\n",
    "# layer1 = create_new_conv_layer(x_shaped, 3, 32, [5, 5], [2, 2], name='layer1')\n",
    "# layer2 = create_new_conv_layer(layer1, 32, 64, [5, 5], [2, 2], name='layer2')\n",
    "\n",
    "# # flatten the output ready for the fully connected output stage - after two layers of stride 2 pooling, we go\n",
    "# # from l x w, to l/2 x w/2 to l/4 x w/4 x,y co-ordinates, but with 64 output channels.  To create the fully connected,\n",
    "# # \"dense\" layer, the new shape needs to be [-1, s x s x 64] where s = w/4\n",
    "# s = int(maxwidth/4)  # need to convert to integer\n",
    "# flattened = tf.reshape(layer2, [-1, s * s * 64])\n",
    "\n",
    "# # setup some weights and bias values for this layer, then activate with ReLU\n",
    "# wd1 = tf.Variable(tf.truncated_normal([s * s * 64, 1000], stddev=0.03), name='wd1')\n",
    "# bd1 = tf.Variable(tf.truncated_normal([1000], stddev=0.01), name='bd1')\n",
    "# dense_layer1 = tf.matmul(flattened, wd1) + bd1\n",
    "# dense_layer1 = tf.nn.relu(dense_layer1)\n",
    "\n",
    "# # another layer with softmax activations\n",
    "# wd2 = tf.Variable(tf.truncated_normal([1000, 10], stddev=0.03), name='wd2')\n",
    "# bd2 = tf.Variable(tf.truncated_normal([10], stddev=0.01), name='bd2')\n",
    "# dense_layer2 = tf.matmul(dense_layer1, wd2) + bd2\n",
    "# y_ = tf.nn.softmax(dense_layer2)\n",
    "\n",
    "# cross_entropy = tf.reduce_mean(tf.nn.softmax_cross_entropy_with_logits(logits=dense_layer2, labels=y))\n",
    "\n",
    "# # add an optimiser\n",
    "# optimiser = tf.train.AdamOptimizer(learning_rate=learning_rate).minimize(cross_entropy)\n",
    "\n",
    "# # define an accuracy assessment operation\n",
    "# correct_prediction = tf.equal(tf.argmax(y, 1), tf.argmax(y_, 1))\n",
    "# accuracy = tf.reduce_mean(tf.cast(correct_prediction, tf.float32))\n",
    "\n",
    "# # setup the initialisation operator\n",
    "# init_op = tf.global_variables_initializer()\n",
    "\n",
    "# # setup recording variables\n",
    "# # add a summary to store the accuracy\n",
    "# tf.summary.scalar('accuracy', accuracy)\n",
    "\n",
    "# batch_x = np.array(x)\n",
    "# batch_y = np.array(y)\n",
    "\n",
    "# merged = tf.summary.merge_all()\n",
    "# writer = tf.summary.FileWriter('C:\\\\Users\\\\mpowers\\\\capstone\\\\mids_capstone\\\\models')\n",
    "# with tf.Session() as sess:\n",
    "#     # initialise the variables\n",
    "#     sess.run(init_op)\n",
    "#     for epoch in range(epochs):\n",
    "#         avg_cost = 0\n",
    "#         _, c = sess.run([optimiser, cross_entropy], feed_dict={x: batch_x, y: batch_y})\n",
    "#         avg_cost += c\n",
    "#         test_acc = sess.run(accuracy, feed_dict={x: batch_x, y: batch_y})\n",
    "#         print(\"Epoch:\", (epoch + 1), \"cost =\", \"{:.3f}\".format(avg_cost), \" test accuracy: {:.3f}\".format(test_acc))\n",
    "#         summary = sess.run(merged, feed_dict={x: batch_x, y: batch_y})\n",
    "#         writer.add_summary(summary, epoch)\n",
    "\n",
    "#     print(\"\\nTraining complete!\")\n",
    "#     writer.add_graph(sess.graph)\n",
    "#     print(sess.run(accuracy, feed_dict={x: batch_x, y: batch_y}))"
   ]
  },
  {
   "cell_type": "markdown",
   "metadata": {},
   "source": [
    "##### Keras"
   ]
  },
  {
   "cell_type": "code",
   "execution_count": 40,
   "metadata": {},
   "outputs": [
    {
     "name": "stderr",
     "output_type": "stream",
     "text": [
      "Using TensorFlow backend.\n"
     ]
    }
   ],
   "source": [
    "import keras\n",
    "from keras.datasets import mnist\n",
    "from keras.layers import Dense, Flatten\n",
    "from keras.layers import Conv2D, MaxPooling2D\n",
    "from keras.models import Sequential\n",
    "import matplotlib.pylab as plt"
   ]
  },
  {
   "cell_type": "code",
   "execution_count": 56,
   "metadata": {},
   "outputs": [],
   "source": [
    "batch_size = 10\n",
    "num_classes = 10\n",
    "epochs = 10\n",
    "\n",
    "# We will use the train data for testing now also\n",
    "x_train = np.array(x)\n",
    "y_train = np.array(y)"
   ]
  },
  {
   "cell_type": "code",
   "execution_count": 57,
   "metadata": {},
   "outputs": [],
   "source": [
    "# input image dimensions\n",
    "img_x, img_y = maxwidth, maxwidth"
   ]
  },
  {
   "cell_type": "code",
   "execution_count": 58,
   "metadata": {},
   "outputs": [],
   "source": [
    "# reshape the data into a 4D tensor - (sample_number, x_img_size, y_img_size, num_channels)\n",
    "# because the MNIST is greyscale, we only have a single channel - RGB colour images would have 3\n",
    "x_train = x_train.reshape(len(y), img_x, img_y, 3)\n",
    "input_shape = (img_x, img_y, 3)"
   ]
  },
  {
   "cell_type": "code",
   "execution_count": 59,
   "metadata": {},
   "outputs": [
    {
     "name": "stdout",
     "output_type": "stream",
     "text": [
      "x_train shape: (10, 516, 516, 3)\n",
      "10 train samples\n"
     ]
    }
   ],
   "source": [
    "# convert the data to the right type\n",
    "x_train = x_train.astype('float32')\n",
    "x_train /= 255\n",
    "print('x_train shape:', x_train.shape)\n",
    "print(x_train.shape[0], 'train samples')"
   ]
  },
  {
   "cell_type": "code",
   "execution_count": 60,
   "metadata": {},
   "outputs": [],
   "source": [
    "# convert class vectors to binary class matrices - this is for use in the\n",
    "# categorical_crossentropy loss below\n",
    "y_train = keras.utils.to_categorical(y_train, num_classes)"
   ]
  },
  {
   "cell_type": "code",
   "execution_count": 61,
   "metadata": {},
   "outputs": [],
   "source": [
    "model = Sequential()\n",
    "model.add(Conv2D(32, kernel_size=(5, 5), strides=(1, 1),\n",
    "                 activation='relu',\n",
    "                 input_shape=input_shape))\n",
    "model.add(MaxPooling2D(pool_size=(2, 2), strides=(2, 2)))\n",
    "model.add(Conv2D(64, (5, 5), activation='relu'))\n",
    "model.add(MaxPooling2D(pool_size=(2, 2)))\n",
    "model.add(Flatten())\n",
    "model.add(Dense(1000, activation='relu'))\n",
    "model.add(Dense(num_classes, activation='softmax'))"
   ]
  },
  {
   "cell_type": "code",
   "execution_count": 62,
   "metadata": {},
   "outputs": [],
   "source": [
    "model.compile(loss=keras.losses.categorical_crossentropy,\n",
    "              optimizer=keras.optimizers.Adam(),\n",
    "              metrics=['accuracy'])"
   ]
  },
  {
   "cell_type": "code",
   "execution_count": 63,
   "metadata": {},
   "outputs": [],
   "source": [
    "class AccuracyHistory(keras.callbacks.Callback):\n",
    "    def on_train_begin(self, logs={}):\n",
    "        self.acc = []\n",
    "\n",
    "    def on_epoch_end(self, batch, logs={}):\n",
    "        self.acc.append(logs.get('acc'))"
   ]
  },
  {
   "cell_type": "code",
   "execution_count": 64,
   "metadata": {},
   "outputs": [],
   "source": [
    "history = AccuracyHistory()"
   ]
  },
  {
   "cell_type": "code",
   "execution_count": null,
   "metadata": {},
   "outputs": [
    {
     "name": "stdout",
     "output_type": "stream",
     "text": [
      "Train on 10 samples, validate on 10 samples\n",
      "Epoch 1/10\n"
     ]
    }
   ],
   "source": [
    "model.fit(x_train, y_train,\n",
    "          batch_size=batch_size,\n",
    "          epochs=epochs,\n",
    "          verbose=1,\n",
    "          validation_data=(x_train, y_train),\n",
    "          callbacks=[history])\n",
    "score = model.evaluate(x_train, y_train, verbose=0)\n",
    "print('Test loss:', score[0])\n",
    "print('Test accuracy:', score[1])\n",
    "plt.plot(range(1, 11), history.acc)\n",
    "plt.xlabel('Epochs')\n",
    "plt.ylabel('Accuracy')\n",
    "plt.show()"
   ]
  },
  {
   "cell_type": "code",
   "execution_count": null,
   "metadata": {},
   "outputs": [],
   "source": []
  }
 ],
 "metadata": {
  "kernelspec": {
   "display_name": "Python 3",
   "language": "python",
   "name": "python3"
  },
  "language_info": {
   "codemirror_mode": {
    "name": "ipython",
    "version": 3
   },
   "file_extension": ".py",
   "mimetype": "text/x-python",
   "name": "python",
   "nbconvert_exporter": "python",
   "pygments_lexer": "ipython3",
   "version": "3.6.5"
  }
 },
 "nbformat": 4,
 "nbformat_minor": 2
}
