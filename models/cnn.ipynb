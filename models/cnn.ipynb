{
 "cells": [
  {
   "cell_type": "markdown",
   "metadata": {},
   "source": [
    "##### This script will associate spoken phrases with their corresponding translation, using a convolutional neural network (\"CNN\")\n",
    "\n",
    "I am going to start by using subset of a few phrases I chose manually from Female 1. (index_TORGO_test.txt)"
   ]
  },
  {
   "cell_type": "code",
   "execution_count": 8,
   "metadata": {},
   "outputs": [],
   "source": [
    "# Load packages\n",
    "\n",
    "import pandas as pd\n",
    "import cv2\n",
    "import numpy as np\n",
    "from matplotlib import pyplot as plt"
   ]
  },
  {
   "cell_type": "code",
   "execution_count": 38,
   "metadata": {
    "scrolled": true
   },
   "outputs": [
    {
     "data": {
      "text/html": [
       "<div>\n",
       "<style scoped>\n",
       "    .dataframe tbody tr th:only-of-type {\n",
       "        vertical-align: middle;\n",
       "    }\n",
       "\n",
       "    .dataframe tbody tr th {\n",
       "        vertical-align: top;\n",
       "    }\n",
       "\n",
       "    .dataframe thead th {\n",
       "        text-align: right;\n",
       "    }\n",
       "</style>\n",
       "<table border=\"1\" class=\"dataframe\">\n",
       "  <thead>\n",
       "    <tr style=\"text-align: right;\">\n",
       "      <th></th>\n",
       "      <th>speaker</th>\n",
       "      <th>session</th>\n",
       "      <th>mic</th>\n",
       "      <th>prompt_id</th>\n",
       "      <th>has_spect</th>\n",
       "      <th>spect_width</th>\n",
       "      <th>spect_height</th>\n",
       "      <th>prompt</th>\n",
       "    </tr>\n",
       "  </thead>\n",
       "  <tbody>\n",
       "    <tr>\n",
       "      <th>0</th>\n",
       "      <td>F01</td>\n",
       "      <td>Session1</td>\n",
       "      <td>wav_headMic</td>\n",
       "      <td>0014</td>\n",
       "      <td>yes</td>\n",
       "      <td>206</td>\n",
       "      <td>513</td>\n",
       "      <td>he slowly takes a short walk in the open air e...</td>\n",
       "    </tr>\n",
       "    <tr>\n",
       "      <th>1</th>\n",
       "      <td>F01</td>\n",
       "      <td>Session1</td>\n",
       "      <td>wav_headMic</td>\n",
       "      <td>0015</td>\n",
       "      <td>yes</td>\n",
       "      <td>67</td>\n",
       "      <td>513</td>\n",
       "      <td>air</td>\n",
       "    </tr>\n",
       "    <tr>\n",
       "      <th>2</th>\n",
       "      <td>F01</td>\n",
       "      <td>Session1</td>\n",
       "      <td>wav_headMic</td>\n",
       "      <td>0018</td>\n",
       "      <td>yes</td>\n",
       "      <td>65</td>\n",
       "      <td>513</td>\n",
       "      <td>no</td>\n",
       "    </tr>\n",
       "    <tr>\n",
       "      <th>3</th>\n",
       "      <td>F01</td>\n",
       "      <td>Session1</td>\n",
       "      <td>wav_headMic</td>\n",
       "      <td>0020</td>\n",
       "      <td>yes</td>\n",
       "      <td>153</td>\n",
       "      <td>513</td>\n",
       "      <td>Usually minus several buttons.</td>\n",
       "    </tr>\n",
       "    <tr>\n",
       "      <th>4</th>\n",
       "      <td>F01</td>\n",
       "      <td>Session1</td>\n",
       "      <td>wav_headMic</td>\n",
       "      <td>0024</td>\n",
       "      <td>yes</td>\n",
       "      <td>53</td>\n",
       "      <td>513</td>\n",
       "      <td>knee</td>\n",
       "    </tr>\n",
       "    <tr>\n",
       "      <th>5</th>\n",
       "      <td>F01</td>\n",
       "      <td>Session1</td>\n",
       "      <td>wav_headMic</td>\n",
       "      <td>0025</td>\n",
       "      <td>yes</td>\n",
       "      <td>73</td>\n",
       "      <td>513</td>\n",
       "      <td>feet</td>\n",
       "    </tr>\n",
       "    <tr>\n",
       "      <th>6</th>\n",
       "      <td>F01</td>\n",
       "      <td>Session1</td>\n",
       "      <td>wav_headMic</td>\n",
       "      <td>0031</td>\n",
       "      <td>yes</td>\n",
       "      <td>145</td>\n",
       "      <td>513</td>\n",
       "      <td>The quick brown fox jumps over the lazy dog.</td>\n",
       "    </tr>\n",
       "    <tr>\n",
       "      <th>7</th>\n",
       "      <td>F01</td>\n",
       "      <td>Session1</td>\n",
       "      <td>wav_headMic</td>\n",
       "      <td>0032</td>\n",
       "      <td>yes</td>\n",
       "      <td>237</td>\n",
       "      <td>513</td>\n",
       "      <td>She had your dark suit in greasy wash water al...</td>\n",
       "    </tr>\n",
       "    <tr>\n",
       "      <th>8</th>\n",
       "      <td>F01</td>\n",
       "      <td>Session1</td>\n",
       "      <td>wav_headMic</td>\n",
       "      <td>0046</td>\n",
       "      <td>yes</td>\n",
       "      <td>44</td>\n",
       "      <td>513</td>\n",
       "      <td>chair</td>\n",
       "    </tr>\n",
       "    <tr>\n",
       "      <th>9</th>\n",
       "      <td>F01</td>\n",
       "      <td>Session1</td>\n",
       "      <td>wav_headMic</td>\n",
       "      <td>0075</td>\n",
       "      <td>yes</td>\n",
       "      <td>43</td>\n",
       "      <td>513</td>\n",
       "      <td>warm</td>\n",
       "    </tr>\n",
       "  </tbody>\n",
       "</table>\n",
       "</div>"
      ],
      "text/plain": [
       "  speaker   session          mic prompt_id has_spect  spect_width  \\\n",
       "0     F01  Session1  wav_headMic      0014       yes          206   \n",
       "1     F01  Session1  wav_headMic      0015       yes           67   \n",
       "2     F01  Session1  wav_headMic      0018       yes           65   \n",
       "3     F01  Session1  wav_headMic      0020       yes          153   \n",
       "4     F01  Session1  wav_headMic      0024       yes           53   \n",
       "5     F01  Session1  wav_headMic      0025       yes           73   \n",
       "6     F01  Session1  wav_headMic      0031       yes          145   \n",
       "7     F01  Session1  wav_headMic      0032       yes          237   \n",
       "8     F01  Session1  wav_headMic      0046       yes           44   \n",
       "9     F01  Session1  wav_headMic      0075       yes           43   \n",
       "\n",
       "   spect_height                                             prompt  \n",
       "0           513  he slowly takes a short walk in the open air e...  \n",
       "1           513                                                air  \n",
       "2           513                                                 no  \n",
       "3           513                     Usually minus several buttons.  \n",
       "4           513                                               knee  \n",
       "5           513                                               feet  \n",
       "6           513       The quick brown fox jumps over the lazy dog.  \n",
       "7           513  She had your dark suit in greasy wash water al...  \n",
       "8           513                                              chair  \n",
       "9           513                                               warm  "
      ]
     },
     "execution_count": 38,
     "metadata": {},
     "output_type": "execute_result"
    }
   ],
   "source": [
    "# Load index of test data\n",
    "\n",
    "# *** Load prompt_id as text with leading zeros\n",
    "# *** Make sure when implemented on larger dataset, to ignore where prompt is None and where has_spect is No\n",
    "\n",
    "df = pd.read_csv('index_TORGO_test.txt', sep=\",\", converters={'prompt_id': lambda x: str(x)})\n",
    "df.head(20)"
   ]
  },
  {
   "cell_type": "markdown",
   "metadata": {},
   "source": [
    "### 1) Pad Images\n",
    "\n",
    "This model will rely on the spectrogram images we generated from each audio file. I believe the CNN requires these images to be the same size. They are currenly all the same height (frequency axis), but are not the same width (time axis). Therefore, I will pad the end of each image so that all of the images are also the same width - using the max width of all the images.\n",
    "\n",
    "[Tutorial for Padding with OpenCV](https://docs.opencv.org/3.1.0/d3/df2/tutorial_py_basic_ops.html)"
   ]
  },
  {
   "cell_type": "code",
   "execution_count": 23,
   "metadata": {},
   "outputs": [
    {
     "name": "stdout",
     "output_type": "stream",
     "text": [
      "237\n"
     ]
    }
   ],
   "source": [
    "# Get max width, which all images will be padded up to.\n",
    "maxwidth = df['spect_width'].max()\n",
    "print(maxwidth)"
   ]
  },
  {
   "cell_type": "code",
   "execution_count": 37,
   "metadata": {},
   "outputs": [
    {
     "data": {
      "image/png": "[encoded data removed]",
      "text/plain": [
       "<Figure size 432x288 with 2 Axes>"
      ]
     },
     "metadata": {},
     "output_type": "display_data"
    }
   ],
   "source": [
    "# View example of before and after padding\n",
    "img_loc = '/'.join(['../data/TORGO', df['speaker'][0], df['session'][0], df['mic'][0]+'_spect', df['prompt_id'][0]+'.png'])\n",
    "\n",
    "# Image before padding\n",
    "img = cv2.imread(img_loc)\n",
    "imgplot = plt.subplot(121),plt.imshow(img),plt.title('BEFORE PADDING')\n",
    "\n",
    "# Image after padding\n",
    "pad = maxwidth - img.shape[1]\n",
    "img_new = cv2.copyMakeBorder(img,0,0,0,pad,cv2.BORDER_CONSTANT,value=[98,98,98])\n",
    "imgplot_new = plt.subplot(122),plt.imshow(img_new),plt.title('AFTER PADDING')"
   ]
  },
  {
   "cell_type": "code",
   "execution_count": 39,
   "metadata": {},
   "outputs": [],
   "source": [
    "# Get all predictor variables (padded images) and outcome variable (prompt)\n",
    "x = []\n",
    "y = []\n",
    "\n",
    "for index, row in df.iterrows(): \n",
    "    img_loc = '/'.join(['../data/TORGO', row['speaker'], row['session'], row['mic']+'_spect', row['prompt_id']+'.png'])\n",
    "    img = cv2.imread(img_loc)\n",
    "    pad = maxwidth - img.shape[1]\n",
    "    img_new = cv2.copyMakeBorder(img,0,0,0,pad,cv2.BORDER_CONSTANT,value=[98,98,98])\n",
    "    x.append(img_new)\n",
    "    y.append(row['prompt'])  "
   ]
  },
  {
   "cell_type": "code",
   "execution_count": 44,
   "metadata": {},
   "outputs": [
    {
     "name": "stdout",
     "output_type": "stream",
     "text": [
      "['he slowly takes a short walk in the open air each day.', 'air', 'no', 'Usually minus several buttons.', 'knee', 'feet', 'The quick brown fox jumps over the lazy dog.', 'She had your dark suit in greasy wash water all year.', 'chair', 'warm']\n",
      "(513, 237, 3)\n",
      "(513, 237, 3)\n",
      "(513, 237, 3)\n",
      "(513, 237, 3)\n",
      "(513, 237, 3)\n",
      "(513, 237, 3)\n",
      "(513, 237, 3)\n",
      "(513, 237, 3)\n",
      "(513, 237, 3)\n",
      "(513, 237, 3)\n"
     ]
    }
   ],
   "source": [
    "# View first 10 records, and verify images are all the same size now\n",
    "print(y[0:10])\n",
    "\n",
    "for i in x[0:10]:\n",
    "    print(i.shape)"
   ]
  },
  {
   "cell_type": "markdown",
   "metadata": {},
   "source": [
    "### 2) Set up CNN\n",
    "\n",
    "Going to attempt to replicate [This Project](https://mabelvj.github.io/capstone_mabelvj/)"
   ]
  },
  {
   "cell_type": "code",
   "execution_count": null,
   "metadata": {},
   "outputs": [],
   "source": []
  }
 ],
 "metadata": {
  "kernelspec": {
   "display_name": "Python 3",
   "language": "python",
   "name": "python3"
  },
  "language_info": {
   "codemirror_mode": {
    "name": "ipython",
    "version": 3
   },
   "file_extension": ".py",
   "mimetype": "text/x-python",
   "name": "python",
   "nbconvert_exporter": "python",
   "pygments_lexer": "ipython3",
   "version": "3.6.5"
  }
 },
 "nbformat": 4,
 "nbformat_minor": 2
}
