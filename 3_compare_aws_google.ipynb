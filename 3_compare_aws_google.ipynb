{
 "cells": [
  {
   "cell_type": "markdown",
   "metadata": {},
   "source": [
    "# Set Up"
   ]
  },
  {
   "cell_type": "code",
   "execution_count": 25,
   "metadata": {},
   "outputs": [],
   "source": [
    "import pandas as pd"
   ]
  },
  {
   "cell_type": "code",
   "execution_count": 26,
   "metadata": {},
   "outputs": [
    {
     "name": "stderr",
     "output_type": "stream",
     "text": [
      "/opt/conda/lib/python3.6/site-packages/ipykernel_launcher.py:9: SettingWithCopyWarning: \n",
      "A value is trying to be set on a copy of a slice from a DataFrame.\n",
      "Try using .loc[row_indexer,col_indexer] = value instead\n",
      "\n",
      "See the caveats in the documentation: http://pandas.pydata.org/pandas-docs/stable/indexing.html#indexing-view-versus-copy\n",
      "  if __name__ == '__main__':\n",
      "/opt/conda/lib/python3.6/site-packages/ipykernel_launcher.py:14: SettingWithCopyWarning: \n",
      "A value is trying to be set on a copy of a slice from a DataFrame.\n",
      "Try using .loc[row_indexer,col_indexer] = value instead\n",
      "\n",
      "See the caveats in the documentation: http://pandas.pydata.org/pandas-docs/stable/indexing.html#indexing-view-versus-copy\n",
      "  \n"
     ]
    }
   ],
   "source": [
    "index_torgo = pd.read_csv('index_TORGO.txt', sep = '|')\n",
    "index_torgo_filtered = index_torgo[(~index_torgo['prompt'].str.contains(']'))\n",
    "                                   & (index_torgo['speaker'] == 'F01')\n",
    "                                   & (~index_torgo['prompt'].str.contains('/'))]\n",
    "index_torgo_filtered['url'] =   'https://s3.amazonaws.com/capstone-voice-for-all/TORGO/' \\\n",
    "                                + index_torgo_filtered['speaker'] + '/' \\\n",
    "                                + index_torgo_filtered['session'] + '/' \\\n",
    "                                + index_torgo_filtered['mic'] + '/' \\\n",
    "                                + index_torgo_filtered['prompt_id'] + '.wav'\n",
    "index_torgo_filtered['filepath'] = '/home/jovyan/work/data/TORGO/' \\\n",
    "                                + index_torgo_filtered['speaker'] + '/' \\\n",
    "                                + index_torgo_filtered['session'] + '/' \\\n",
    "                                + index_torgo_filtered['mic'] + '/' \\\n",
    "                                + index_torgo_filtered['prompt_id'] + '.wav'"
   ]
  },
  {
   "cell_type": "code",
   "execution_count": 40,
   "metadata": {},
   "outputs": [
    {
     "data": {
      "text/html": [
       "<div>\n",
       "<style scoped>\n",
       "    .dataframe tbody tr th:only-of-type {\n",
       "        vertical-align: middle;\n",
       "    }\n",
       "\n",
       "    .dataframe tbody tr th {\n",
       "        vertical-align: top;\n",
       "    }\n",
       "\n",
       "    .dataframe thead th {\n",
       "        text-align: right;\n",
       "    }\n",
       "</style>\n",
       "<table border=\"1\" class=\"dataframe\">\n",
       "  <thead>\n",
       "    <tr style=\"text-align: right;\">\n",
       "      <th></th>\n",
       "      <th>prompt</th>\n",
       "      <th>url</th>\n",
       "      <th>filepath</th>\n",
       "    </tr>\n",
       "  </thead>\n",
       "  <tbody>\n",
       "    <tr>\n",
       "      <th>9</th>\n",
       "      <td>up</td>\n",
       "      <td>https://s3.amazonaws.com/capstone-voice-for-all/TORGO/F01/Session1/wav_headMic/0010.wav</td>\n",
       "      <td>/home/jovyan/work/data/TORGO/F01/Session1/wav_headMic/0010.wav</td>\n",
       "    </tr>\n",
       "    <tr>\n",
       "      <th>16</th>\n",
       "      <td>double</td>\n",
       "      <td>https://s3.amazonaws.com/capstone-voice-for-all/TORGO/F01/Session1/wav_headMic/0017.wav</td>\n",
       "      <td>/home/jovyan/work/data/TORGO/F01/Session1/wav_headMic/0017.wav</td>\n",
       "    </tr>\n",
       "    <tr>\n",
       "      <th>94</th>\n",
       "      <td>glow</td>\n",
       "      <td>https://s3.amazonaws.com/capstone-voice-for-all/TORGO/F01/Session1/wav_headMic/0095.wav</td>\n",
       "      <td>/home/jovyan/work/data/TORGO/F01/Session1/wav_headMic/0095.wav</td>\n",
       "    </tr>\n",
       "    <tr>\n",
       "      <th>74</th>\n",
       "      <td>warm</td>\n",
       "      <td>https://s3.amazonaws.com/capstone-voice-for-all/TORGO/F01/Session1/wav_headMic/0075.wav</td>\n",
       "      <td>/home/jovyan/work/data/TORGO/F01/Session1/wav_headMic/0075.wav</td>\n",
       "    </tr>\n",
       "    <tr>\n",
       "      <th>215</th>\n",
       "      <td>rate</td>\n",
       "      <td>https://s3.amazonaws.com/capstone-voice-for-all/TORGO/F01/Session1/wav_arrayMic/0082.wav</td>\n",
       "      <td>/home/jovyan/work/data/TORGO/F01/Session1/wav_arrayMic/0082.wav</td>\n",
       "    </tr>\n",
       "    <tr>\n",
       "      <th>57</th>\n",
       "      <td>the</td>\n",
       "      <td>https://s3.amazonaws.com/capstone-voice-for-all/TORGO/F01/Session1/wav_headMic/0058.wav</td>\n",
       "      <td>/home/jovyan/work/data/TORGO/F01/Session1/wav_headMic/0058.wav</td>\n",
       "    </tr>\n",
       "    <tr>\n",
       "      <th>153</th>\n",
       "      <td>Usually minus several buttons.</td>\n",
       "      <td>https://s3.amazonaws.com/capstone-voice-for-all/TORGO/F01/Session1/wav_arrayMic/0020.wav</td>\n",
       "      <td>/home/jovyan/work/data/TORGO/F01/Session1/wav_arrayMic/0020.wav</td>\n",
       "    </tr>\n",
       "    <tr>\n",
       "      <th>251</th>\n",
       "      <td>knew</td>\n",
       "      <td>https://s3.amazonaws.com/capstone-voice-for-all/TORGO/F01/Session1/wav_arrayMic/0118.wav</td>\n",
       "      <td>/home/jovyan/work/data/TORGO/F01/Session1/wav_arrayMic/0118.wav</td>\n",
       "    </tr>\n",
       "    <tr>\n",
       "      <th>226</th>\n",
       "      <td>A long, flowing beard clings to his chin,</td>\n",
       "      <td>https://s3.amazonaws.com/capstone-voice-for-all/TORGO/F01/Session1/wav_arrayMic/0093.wav</td>\n",
       "      <td>/home/jovyan/work/data/TORGO/F01/Session1/wav_arrayMic/0093.wav</td>\n",
       "    </tr>\n",
       "    <tr>\n",
       "      <th>100</th>\n",
       "      <td>bug</td>\n",
       "      <td>https://s3.amazonaws.com/capstone-voice-for-all/TORGO/F01/Session1/wav_headMic/0101.wav</td>\n",
       "      <td>/home/jovyan/work/data/TORGO/F01/Session1/wav_headMic/0101.wav</td>\n",
       "    </tr>\n",
       "  </tbody>\n",
       "</table>\n",
       "</div>"
      ],
      "text/plain": [
       "                                        prompt  \\\n",
       "9                                           up   \n",
       "16                                      double   \n",
       "94                                        glow   \n",
       "74                                        warm   \n",
       "215                                       rate   \n",
       "57                                         the   \n",
       "153             Usually minus several buttons.   \n",
       "251                                       knew   \n",
       "226  A long, flowing beard clings to his chin,   \n",
       "100                                        bug   \n",
       "\n",
       "                                                                                          url  \\\n",
       "9     https://s3.amazonaws.com/capstone-voice-for-all/TORGO/F01/Session1/wav_headMic/0010.wav   \n",
       "16    https://s3.amazonaws.com/capstone-voice-for-all/TORGO/F01/Session1/wav_headMic/0017.wav   \n",
       "94    https://s3.amazonaws.com/capstone-voice-for-all/TORGO/F01/Session1/wav_headMic/0095.wav   \n",
       "74    https://s3.amazonaws.com/capstone-voice-for-all/TORGO/F01/Session1/wav_headMic/0075.wav   \n",
       "215  https://s3.amazonaws.com/capstone-voice-for-all/TORGO/F01/Session1/wav_arrayMic/0082.wav   \n",
       "57    https://s3.amazonaws.com/capstone-voice-for-all/TORGO/F01/Session1/wav_headMic/0058.wav   \n",
       "153  https://s3.amazonaws.com/capstone-voice-for-all/TORGO/F01/Session1/wav_arrayMic/0020.wav   \n",
       "251  https://s3.amazonaws.com/capstone-voice-for-all/TORGO/F01/Session1/wav_arrayMic/0118.wav   \n",
       "226  https://s3.amazonaws.com/capstone-voice-for-all/TORGO/F01/Session1/wav_arrayMic/0093.wav   \n",
       "100   https://s3.amazonaws.com/capstone-voice-for-all/TORGO/F01/Session1/wav_headMic/0101.wav   \n",
       "\n",
       "                                                            filepath  \n",
       "9     /home/jovyan/work/data/TORGO/F01/Session1/wav_headMic/0010.wav  \n",
       "16    /home/jovyan/work/data/TORGO/F01/Session1/wav_headMic/0017.wav  \n",
       "94    /home/jovyan/work/data/TORGO/F01/Session1/wav_headMic/0095.wav  \n",
       "74    /home/jovyan/work/data/TORGO/F01/Session1/wav_headMic/0075.wav  \n",
       "215  /home/jovyan/work/data/TORGO/F01/Session1/wav_arrayMic/0082.wav  \n",
       "57    /home/jovyan/work/data/TORGO/F01/Session1/wav_headMic/0058.wav  \n",
       "153  /home/jovyan/work/data/TORGO/F01/Session1/wav_arrayMic/0020.wav  \n",
       "251  /home/jovyan/work/data/TORGO/F01/Session1/wav_arrayMic/0118.wav  \n",
       "226  /home/jovyan/work/data/TORGO/F01/Session1/wav_arrayMic/0093.wav  \n",
       "100   /home/jovyan/work/data/TORGO/F01/Session1/wav_headMic/0101.wav  "
      ]
     },
     "execution_count": 40,
     "metadata": {},
     "output_type": "execute_result"
    }
   ],
   "source": [
    "pd.options.display.max_colwidth = 200\n",
    "# index_torgo_filtered.sample(10)\n",
    "index_torgo_filtered[['prompt', 'url', 'filepath']].head(10)\n",
    "index_torgo_filtered_top10 = index_torgo_filtered[['prompt', 'url', 'filepath']].sample(10)\n",
    "index_torgo_filtered_top10"
   ]
  },
  {
   "cell_type": "markdown",
   "metadata": {},
   "source": [
    "## Amazon Transcribe"
   ]
  },
  {
   "cell_type": "markdown",
   "metadata": {},
   "source": [
    "[Info about Amazon Transcribe](https://aws.amazon.com/transcribe/)"
   ]
  },
  {
   "cell_type": "code",
   "execution_count": 28,
   "metadata": {},
   "outputs": [],
   "source": [
    "from __future__ import print_function\n",
    "from urllib.request import urlopen\n",
    "import time\n",
    "import boto3\n",
    "import json"
   ]
  },
  {
   "cell_type": "code",
   "execution_count": 29,
   "metadata": {},
   "outputs": [],
   "source": [
    "def start_transcription_job(row):\n",
    "    jobName = str(row.name)\n",
    "    jobUri = row.url\n",
    "    transcribe.start_transcription_job(\n",
    "        TranscriptionJobName=jobName,\n",
    "        Media={'MediaFileUri': jobUri},\n",
    "        MediaFormat='wav',\n",
    "        LanguageCode='en-US'\n",
    "    )"
   ]
  },
  {
   "cell_type": "code",
   "execution_count": 30,
   "metadata": {},
   "outputs": [],
   "source": [
    "def get_transcription_job(row):\n",
    "    jobName = str(row.name)\n",
    "    status = transcribe.get_transcription_job(TranscriptionJobName=jobName)\n",
    "    if status['TranscriptionJob']['TranscriptionJobStatus'] in ['COMPLETED', 'FAILED']:\n",
    "        result_url = status['TranscriptionJob']['Transcript']['TranscriptFileUri']\n",
    "        with urlopen(result_url) as conn:\n",
    "            transcript_html = conn.read()\n",
    "            transcript = json.loads(transcript_html)\n",
    "            print(jobName + ': ' + transcript['results']['transcripts'][0]['transcript'])\n",
    "    else:\n",
    "        print(jobName + ' not done yet')"
   ]
  },
  {
   "cell_type": "code",
   "execution_count": 31,
   "metadata": {},
   "outputs": [],
   "source": [
    "def delete_transcription_job(row):\n",
    "    jobName = str(row.name)\n",
    "    transcribe.delete_transcription_job(TranscriptionJobName=jobName)"
   ]
  },
  {
   "cell_type": "code",
   "execution_count": 134,
   "metadata": {},
   "outputs": [
    {
     "name": "stdout",
     "output_type": "stream",
     "text": [
      "80: Sue.\n",
      "190: \n",
      "34: No, No. Who moved him? Kill them? No. Yeah, mostly.\n",
      "90: Thank you.\n",
      "174: Play.\n",
      "35: We have off Teo once more and smokeless.\n",
      "232: Good morning.\n",
      "142: Huh?\n",
      "264: Cool.\n",
      "117: New.\n"
     ]
    },
    {
     "data": {
      "text/plain": [
       "80     None\n",
       "190    None\n",
       "34     None\n",
       "90     None\n",
       "174    None\n",
       "35     None\n",
       "232    None\n",
       "142    None\n",
       "264    None\n",
       "117    None\n",
       "dtype: object"
      ]
     },
     "execution_count": 134,
     "metadata": {},
     "output_type": "execute_result"
    }
   ],
   "source": [
    "# index_torgo_filtered_top10.apply(start_transcription_job, axis=1)\n",
    "index_torgo_filtered_top10.apply(get_transcription_job, axis=1)\n",
    "# index_torgo_filtered_top10.apply(delete_transcription_job, axis=1)"
   ]
  },
  {
   "cell_type": "markdown",
   "metadata": {},
   "source": [
    "## Google Cloud Speech-to-Text"
   ]
  },
  {
   "cell_type": "markdown",
   "metadata": {},
   "source": [
    "[Info about Speech-to-Text](https://cloud.google.com/speech-to-text/)"
   ]
  },
  {
   "cell_type": "code",
   "execution_count": 1,
   "metadata": {},
   "outputs": [],
   "source": [
    "import io\n",
    "import os\n",
    "\n",
    "# Imports the Google Cloud client library\n",
    "from google.cloud import speech\n",
    "from google.cloud.speech import enums\n",
    "from google.cloud.speech import types"
   ]
  },
  {
   "cell_type": "code",
   "execution_count": 16,
   "metadata": {},
   "outputs": [],
   "source": [
    "os.environ[\"GOOGLE_APPLICATION_CREDENTIALS\"]=\"/home/jovyan/work/capstone-c60aec7ead62.json\""
   ]
  },
  {
   "cell_type": "code",
   "execution_count": 43,
   "metadata": {},
   "outputs": [],
   "source": [
    "def google_translate(row):\n",
    "    jobName = str(row.name)\n",
    "    file_name = row.filepath\n",
    "    with io.open(file_name, 'rb') as audio_file:\n",
    "        content = audio_file.read()\n",
    "        audio = types.RecognitionAudio(content=content)\n",
    "\n",
    "    config = types.RecognitionConfig(\n",
    "        encoding=enums.RecognitionConfig.AudioEncoding.LINEAR16,\n",
    "        sample_rate_hertz=16000,\n",
    "        language_code='en-US')\n",
    "\n",
    "    # Detects speech in the audio file\n",
    "    response = client.recognize(config, audio)\n",
    "    try:\n",
    "        transcript = response.results[0].alternatives[0].transcript\n",
    "        print(jobName + ': ' + transcript)\n",
    "    except:\n",
    "        print(jobName + ' has no results.')"
   ]
  },
  {
   "cell_type": "code",
   "execution_count": 44,
   "metadata": {},
   "outputs": [
    {
     "data": {
      "text/html": [
       "<div>\n",
       "<style scoped>\n",
       "    .dataframe tbody tr th:only-of-type {\n",
       "        vertical-align: middle;\n",
       "    }\n",
       "\n",
       "    .dataframe tbody tr th {\n",
       "        vertical-align: top;\n",
       "    }\n",
       "\n",
       "    .dataframe thead th {\n",
       "        text-align: right;\n",
       "    }\n",
       "</style>\n",
       "<table border=\"1\" class=\"dataframe\">\n",
       "  <thead>\n",
       "    <tr style=\"text-align: right;\">\n",
       "      <th></th>\n",
       "      <th>prompt</th>\n",
       "      <th>url</th>\n",
       "      <th>filepath</th>\n",
       "    </tr>\n",
       "  </thead>\n",
       "  <tbody>\n",
       "    <tr>\n",
       "      <th>9</th>\n",
       "      <td>up</td>\n",
       "      <td>https://s3.amazonaws.com/capstone-voice-for-all/TORGO/F01/Session1/wav_headMic/0010.wav</td>\n",
       "      <td>/home/jovyan/work/data/TORGO/F01/Session1/wav_headMic/0010.wav</td>\n",
       "    </tr>\n",
       "    <tr>\n",
       "      <th>16</th>\n",
       "      <td>double</td>\n",
       "      <td>https://s3.amazonaws.com/capstone-voice-for-all/TORGO/F01/Session1/wav_headMic/0017.wav</td>\n",
       "      <td>/home/jovyan/work/data/TORGO/F01/Session1/wav_headMic/0017.wav</td>\n",
       "    </tr>\n",
       "    <tr>\n",
       "      <th>94</th>\n",
       "      <td>glow</td>\n",
       "      <td>https://s3.amazonaws.com/capstone-voice-for-all/TORGO/F01/Session1/wav_headMic/0095.wav</td>\n",
       "      <td>/home/jovyan/work/data/TORGO/F01/Session1/wav_headMic/0095.wav</td>\n",
       "    </tr>\n",
       "    <tr>\n",
       "      <th>74</th>\n",
       "      <td>warm</td>\n",
       "      <td>https://s3.amazonaws.com/capstone-voice-for-all/TORGO/F01/Session1/wav_headMic/0075.wav</td>\n",
       "      <td>/home/jovyan/work/data/TORGO/F01/Session1/wav_headMic/0075.wav</td>\n",
       "    </tr>\n",
       "    <tr>\n",
       "      <th>215</th>\n",
       "      <td>rate</td>\n",
       "      <td>https://s3.amazonaws.com/capstone-voice-for-all/TORGO/F01/Session1/wav_arrayMic/0082.wav</td>\n",
       "      <td>/home/jovyan/work/data/TORGO/F01/Session1/wav_arrayMic/0082.wav</td>\n",
       "    </tr>\n",
       "    <tr>\n",
       "      <th>57</th>\n",
       "      <td>the</td>\n",
       "      <td>https://s3.amazonaws.com/capstone-voice-for-all/TORGO/F01/Session1/wav_headMic/0058.wav</td>\n",
       "      <td>/home/jovyan/work/data/TORGO/F01/Session1/wav_headMic/0058.wav</td>\n",
       "    </tr>\n",
       "    <tr>\n",
       "      <th>153</th>\n",
       "      <td>Usually minus several buttons.</td>\n",
       "      <td>https://s3.amazonaws.com/capstone-voice-for-all/TORGO/F01/Session1/wav_arrayMic/0020.wav</td>\n",
       "      <td>/home/jovyan/work/data/TORGO/F01/Session1/wav_arrayMic/0020.wav</td>\n",
       "    </tr>\n",
       "    <tr>\n",
       "      <th>251</th>\n",
       "      <td>knew</td>\n",
       "      <td>https://s3.amazonaws.com/capstone-voice-for-all/TORGO/F01/Session1/wav_arrayMic/0118.wav</td>\n",
       "      <td>/home/jovyan/work/data/TORGO/F01/Session1/wav_arrayMic/0118.wav</td>\n",
       "    </tr>\n",
       "    <tr>\n",
       "      <th>226</th>\n",
       "      <td>A long, flowing beard clings to his chin,</td>\n",
       "      <td>https://s3.amazonaws.com/capstone-voice-for-all/TORGO/F01/Session1/wav_arrayMic/0093.wav</td>\n",
       "      <td>/home/jovyan/work/data/TORGO/F01/Session1/wav_arrayMic/0093.wav</td>\n",
       "    </tr>\n",
       "    <tr>\n",
       "      <th>100</th>\n",
       "      <td>bug</td>\n",
       "      <td>https://s3.amazonaws.com/capstone-voice-for-all/TORGO/F01/Session1/wav_headMic/0101.wav</td>\n",
       "      <td>/home/jovyan/work/data/TORGO/F01/Session1/wav_headMic/0101.wav</td>\n",
       "    </tr>\n",
       "  </tbody>\n",
       "</table>\n",
       "</div>"
      ],
      "text/plain": [
       "                                        prompt  \\\n",
       "9                                           up   \n",
       "16                                      double   \n",
       "94                                        glow   \n",
       "74                                        warm   \n",
       "215                                       rate   \n",
       "57                                         the   \n",
       "153             Usually minus several buttons.   \n",
       "251                                       knew   \n",
       "226  A long, flowing beard clings to his chin,   \n",
       "100                                        bug   \n",
       "\n",
       "                                                                                          url  \\\n",
       "9     https://s3.amazonaws.com/capstone-voice-for-all/TORGO/F01/Session1/wav_headMic/0010.wav   \n",
       "16    https://s3.amazonaws.com/capstone-voice-for-all/TORGO/F01/Session1/wav_headMic/0017.wav   \n",
       "94    https://s3.amazonaws.com/capstone-voice-for-all/TORGO/F01/Session1/wav_headMic/0095.wav   \n",
       "74    https://s3.amazonaws.com/capstone-voice-for-all/TORGO/F01/Session1/wav_headMic/0075.wav   \n",
       "215  https://s3.amazonaws.com/capstone-voice-for-all/TORGO/F01/Session1/wav_arrayMic/0082.wav   \n",
       "57    https://s3.amazonaws.com/capstone-voice-for-all/TORGO/F01/Session1/wav_headMic/0058.wav   \n",
       "153  https://s3.amazonaws.com/capstone-voice-for-all/TORGO/F01/Session1/wav_arrayMic/0020.wav   \n",
       "251  https://s3.amazonaws.com/capstone-voice-for-all/TORGO/F01/Session1/wav_arrayMic/0118.wav   \n",
       "226  https://s3.amazonaws.com/capstone-voice-for-all/TORGO/F01/Session1/wav_arrayMic/0093.wav   \n",
       "100   https://s3.amazonaws.com/capstone-voice-for-all/TORGO/F01/Session1/wav_headMic/0101.wav   \n",
       "\n",
       "                                                            filepath  \n",
       "9     /home/jovyan/work/data/TORGO/F01/Session1/wav_headMic/0010.wav  \n",
       "16    /home/jovyan/work/data/TORGO/F01/Session1/wav_headMic/0017.wav  \n",
       "94    /home/jovyan/work/data/TORGO/F01/Session1/wav_headMic/0095.wav  \n",
       "74    /home/jovyan/work/data/TORGO/F01/Session1/wav_headMic/0075.wav  \n",
       "215  /home/jovyan/work/data/TORGO/F01/Session1/wav_arrayMic/0082.wav  \n",
       "57    /home/jovyan/work/data/TORGO/F01/Session1/wav_headMic/0058.wav  \n",
       "153  /home/jovyan/work/data/TORGO/F01/Session1/wav_arrayMic/0020.wav  \n",
       "251  /home/jovyan/work/data/TORGO/F01/Session1/wav_arrayMic/0118.wav  \n",
       "226  /home/jovyan/work/data/TORGO/F01/Session1/wav_arrayMic/0093.wav  \n",
       "100   /home/jovyan/work/data/TORGO/F01/Session1/wav_headMic/0101.wav  "
      ]
     },
     "execution_count": 44,
     "metadata": {},
     "output_type": "execute_result"
    }
   ],
   "source": [
    "index_torgo_filtered_top10"
   ]
  },
  {
   "cell_type": "code",
   "execution_count": 45,
   "metadata": {},
   "outputs": [
    {
     "name": "stdout",
     "output_type": "stream",
     "text": [
      "9 has no results.\n",
      "16: gobble\n",
      "94: grow\n",
      "74: warm\n",
      "215: all right\n",
      "57 has no results.\n",
      "153: why you so buttons\n",
      "251: new\n",
      "226: bowling in Queens\n",
      "100: mug\n"
     ]
    },
    {
     "data": {
      "text/plain": [
       "9      None\n",
       "16     None\n",
       "94     None\n",
       "74     None\n",
       "215    None\n",
       "57     None\n",
       "153    None\n",
       "251    None\n",
       "226    None\n",
       "100    None\n",
       "dtype: object"
      ]
     },
     "execution_count": 45,
     "metadata": {},
     "output_type": "execute_result"
    }
   ],
   "source": [
    "client = speech.SpeechClient()\n",
    "\n",
    "index_torgo_filtered_top10.apply(google_translate, axis=1)"
   ]
  },
  {
   "cell_type": "code",
   "execution_count": null,
   "metadata": {},
   "outputs": [],
   "source": []
  }
 ],
 "metadata": {
  "kernelspec": {
   "display_name": "Python 3",
   "language": "python",
   "name": "python3"
  },
  "language_info": {
   "codemirror_mode": {
    "name": "ipython",
    "version": 3
   },
   "file_extension": ".py",
   "mimetype": "text/x-python",
   "name": "python",
   "nbconvert_exporter": "python",
   "pygments_lexer": "ipython3",
   "version": "3.6.6"
  }
 },
 "nbformat": 4,
 "nbformat_minor": 2
}
