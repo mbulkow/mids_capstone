{
 "cells": [
  {
   "cell_type": "markdown",
   "metadata": {},
   "source": [
    "# Set Up"
   ]
  },
  {
   "cell_type": "code",
   "execution_count": 1,
   "metadata": {},
   "outputs": [],
   "source": [
    "import pandas as pd"
   ]
  },
  {
   "cell_type": "code",
   "execution_count": 2,
   "metadata": {},
   "outputs": [
    {
     "name": "stderr",
     "output_type": "stream",
     "text": [
      "/opt/conda/lib/python3.6/site-packages/ipykernel_launcher.py:16: SettingWithCopyWarning: \n",
      "A value is trying to be set on a copy of a slice from a DataFrame.\n",
      "Try using .loc[row_indexer,col_indexer] = value instead\n",
      "\n",
      "See the caveats in the documentation: http://pandas.pydata.org/pandas-docs/stable/indexing.html#indexing-view-versus-copy\n",
      "  app.launch_new_instance()\n",
      "/opt/conda/lib/python3.6/site-packages/ipykernel_launcher.py:21: SettingWithCopyWarning: \n",
      "A value is trying to be set on a copy of a slice from a DataFrame.\n",
      "Try using .loc[row_indexer,col_indexer] = value instead\n",
      "\n",
      "See the caveats in the documentation: http://pandas.pydata.org/pandas-docs/stable/indexing.html#indexing-view-versus-copy\n"
     ]
    }
   ],
   "source": [
    "index_torgo = pd.read_csv('index_TORGO.txt', sep = '|')\n",
    "index_torgo_filtered = index_torgo[(~index_torgo['prompt'].str.contains(']'))\n",
    "                                   & (index_torgo['speaker'].isin(['F01',\n",
    "                                                                   'F03',\n",
    "                                                                   'F04',\n",
    "                                                                   'M01',\n",
    "                                                                   'M02',\n",
    "                                                                   'M03',\n",
    "                                                                   'M04',\n",
    "                                                                   'M05']))\n",
    "                                   & (~index_torgo['prompt'].str.contains('/'))]\n",
    "index_torgo_filtered['url'] =   'https://s3.amazonaws.com/capstone-voice-for-all/TORGO/' \\\n",
    "                                + index_torgo_filtered['speaker'] + '/' \\\n",
    "                                + index_torgo_filtered['session'] + '/' \\\n",
    "                                + index_torgo_filtered['mic'] + '/' \\\n",
    "                                + index_torgo_filtered['prompt_id'] + '.wav'\n",
    "index_torgo_filtered['filepath'] = '/home/jovyan/work/data/TORGO/' \\\n",
    "                                + index_torgo_filtered['speaker'] + '/' \\\n",
    "                                + index_torgo_filtered['session'] + '/' \\\n",
    "                                + index_torgo_filtered['mic'] + '/' \\\n",
    "                                + index_torgo_filtered['prompt_id'] + '.wav'"
   ]
  },
  {
   "cell_type": "code",
   "execution_count": 3,
   "metadata": {},
   "outputs": [
    {
     "data": {
      "text/html": [
       "<div>\n",
       "<style scoped>\n",
       "    .dataframe tbody tr th:only-of-type {\n",
       "        vertical-align: middle;\n",
       "    }\n",
       "\n",
       "    .dataframe tbody tr th {\n",
       "        vertical-align: top;\n",
       "    }\n",
       "\n",
       "    .dataframe thead th {\n",
       "        text-align: right;\n",
       "    }\n",
       "</style>\n",
       "<table border=\"1\" class=\"dataframe\">\n",
       "  <thead>\n",
       "    <tr style=\"text-align: right;\">\n",
       "      <th></th>\n",
       "      <th>prompt</th>\n",
       "      <th>url</th>\n",
       "      <th>filepath</th>\n",
       "    </tr>\n",
       "  </thead>\n",
       "  <tbody>\n",
       "    <tr>\n",
       "      <th>1706</th>\n",
       "      <td>stubble</td>\n",
       "      <td>https://s3.amazonaws.com/capstone-voice-for-all/TORGO/F04/Session1/wav_arrayMic/0014.wav</td>\n",
       "      <td>/home/jovyan/work/data/TORGO/F04/Session1/wav_arrayMic/0014.wav</td>\n",
       "    </tr>\n",
       "    <tr>\n",
       "      <th>643</th>\n",
       "      <td>mere</td>\n",
       "      <td>https://s3.amazonaws.com/capstone-voice-for-all/TORGO/F03/Session1/wav_arrayMic/0172.wav</td>\n",
       "      <td>/home/jovyan/work/data/TORGO/F03/Session1/wav_arrayMic/0172.wav</td>\n",
       "    </tr>\n",
       "    <tr>\n",
       "      <th>1220</th>\n",
       "      <td>None</td>\n",
       "      <td>https://s3.amazonaws.com/capstone-voice-for-all/TORGO/F03/Session2/wav_arrayMic/0395.wav</td>\n",
       "      <td>/home/jovyan/work/data/TORGO/F03/Session2/wav_arrayMic/0395.wav</td>\n",
       "    </tr>\n",
       "    <tr>\n",
       "      <th>5714</th>\n",
       "      <td>torn</td>\n",
       "      <td>https://s3.amazonaws.com/capstone-voice-for-all/TORGO/M05/Session1/wav_arrayMic/0058.wav</td>\n",
       "      <td>/home/jovyan/work/data/TORGO/M05/Session1/wav_arrayMic/0058.wav</td>\n",
       "    </tr>\n",
       "    <tr>\n",
       "      <th>1265</th>\n",
       "      <td>None</td>\n",
       "      <td>https://s3.amazonaws.com/capstone-voice-for-all/TORGO/F03/Session2/wav_arrayMic/0440.wav</td>\n",
       "      <td>/home/jovyan/work/data/TORGO/F03/Session2/wav_arrayMic/0440.wav</td>\n",
       "    </tr>\n",
       "    <tr>\n",
       "      <th>4934</th>\n",
       "      <td>train</td>\n",
       "      <td>https://s3.amazonaws.com/capstone-voice-for-all/TORGO/M04/Session1/wav_arrayMic/0127.wav</td>\n",
       "      <td>/home/jovyan/work/data/TORGO/M04/Session1/wav_arrayMic/0127.wav</td>\n",
       "    </tr>\n",
       "    <tr>\n",
       "      <th>1177</th>\n",
       "      <td>None</td>\n",
       "      <td>https://s3.amazonaws.com/capstone-voice-for-all/TORGO/F03/Session2/wav_arrayMic/0352.wav</td>\n",
       "      <td>/home/jovyan/work/data/TORGO/F03/Session2/wav_arrayMic/0352.wav</td>\n",
       "    </tr>\n",
       "    <tr>\n",
       "      <th>5853</th>\n",
       "      <td>I tried to tell people in the community.</td>\n",
       "      <td>https://s3.amazonaws.com/capstone-voice-for-all/TORGO/M05/Session2/wav_headMic/0068.wav</td>\n",
       "      <td>/home/jovyan/work/data/TORGO/M05/Session2/wav_headMic/0068.wav</td>\n",
       "    </tr>\n",
       "    <tr>\n",
       "      <th>3306</th>\n",
       "      <td>drop</td>\n",
       "      <td>https://s3.amazonaws.com/capstone-voice-for-all/TORGO/M02/Session1/wav_headMic/0144.wav</td>\n",
       "      <td>/home/jovyan/work/data/TORGO/M02/Session1/wav_headMic/0144.wav</td>\n",
       "    </tr>\n",
       "    <tr>\n",
       "      <th>5490</th>\n",
       "      <td>sleep</td>\n",
       "      <td>https://s3.amazonaws.com/capstone-voice-for-all/TORGO/M04/Session2/wav_arrayMic/0260.wav</td>\n",
       "      <td>/home/jovyan/work/data/TORGO/M04/Session2/wav_arrayMic/0260.wav</td>\n",
       "    </tr>\n",
       "  </tbody>\n",
       "</table>\n",
       "</div>"
      ],
      "text/plain": [
       "                                        prompt  \\\n",
       "1706                                   stubble   \n",
       "643                                       mere   \n",
       "1220                                      None   \n",
       "5714                                      torn   \n",
       "1265                                      None   \n",
       "4934                                     train   \n",
       "1177                                      None   \n",
       "5853  I tried to tell people in the community.   \n",
       "3306                                      drop   \n",
       "5490                                     sleep   \n",
       "\n",
       "                                                                                           url  \\\n",
       "1706  https://s3.amazonaws.com/capstone-voice-for-all/TORGO/F04/Session1/wav_arrayMic/0014.wav   \n",
       "643   https://s3.amazonaws.com/capstone-voice-for-all/TORGO/F03/Session1/wav_arrayMic/0172.wav   \n",
       "1220  https://s3.amazonaws.com/capstone-voice-for-all/TORGO/F03/Session2/wav_arrayMic/0395.wav   \n",
       "5714  https://s3.amazonaws.com/capstone-voice-for-all/TORGO/M05/Session1/wav_arrayMic/0058.wav   \n",
       "1265  https://s3.amazonaws.com/capstone-voice-for-all/TORGO/F03/Session2/wav_arrayMic/0440.wav   \n",
       "4934  https://s3.amazonaws.com/capstone-voice-for-all/TORGO/M04/Session1/wav_arrayMic/0127.wav   \n",
       "1177  https://s3.amazonaws.com/capstone-voice-for-all/TORGO/F03/Session2/wav_arrayMic/0352.wav   \n",
       "5853   https://s3.amazonaws.com/capstone-voice-for-all/TORGO/M05/Session2/wav_headMic/0068.wav   \n",
       "3306   https://s3.amazonaws.com/capstone-voice-for-all/TORGO/M02/Session1/wav_headMic/0144.wav   \n",
       "5490  https://s3.amazonaws.com/capstone-voice-for-all/TORGO/M04/Session2/wav_arrayMic/0260.wav   \n",
       "\n",
       "                                                             filepath  \n",
       "1706  /home/jovyan/work/data/TORGO/F04/Session1/wav_arrayMic/0014.wav  \n",
       "643   /home/jovyan/work/data/TORGO/F03/Session1/wav_arrayMic/0172.wav  \n",
       "1220  /home/jovyan/work/data/TORGO/F03/Session2/wav_arrayMic/0395.wav  \n",
       "5714  /home/jovyan/work/data/TORGO/M05/Session1/wav_arrayMic/0058.wav  \n",
       "1265  /home/jovyan/work/data/TORGO/F03/Session2/wav_arrayMic/0440.wav  \n",
       "4934  /home/jovyan/work/data/TORGO/M04/Session1/wav_arrayMic/0127.wav  \n",
       "1177  /home/jovyan/work/data/TORGO/F03/Session2/wav_arrayMic/0352.wav  \n",
       "5853   /home/jovyan/work/data/TORGO/M05/Session2/wav_headMic/0068.wav  \n",
       "3306   /home/jovyan/work/data/TORGO/M02/Session1/wav_headMic/0144.wav  \n",
       "5490  /home/jovyan/work/data/TORGO/M04/Session2/wav_arrayMic/0260.wav  "
      ]
     },
     "execution_count": 3,
     "metadata": {},
     "output_type": "execute_result"
    }
   ],
   "source": [
    "pd.options.display.max_colwidth = 200\n",
    "index_torgo_filtered_top10 = index_torgo_filtered[['prompt', 'url', 'filepath']].sample(10)\n",
    "index_torgo_filtered_top10"
   ]
  },
  {
   "cell_type": "markdown",
   "metadata": {},
   "source": [
    "## Amazon Transcribe"
   ]
  },
  {
   "cell_type": "markdown",
   "metadata": {},
   "source": [
    "[Info about Amazon Transcribe](https://aws.amazon.com/transcribe/)"
   ]
  },
  {
   "cell_type": "code",
   "execution_count": 4,
   "metadata": {},
   "outputs": [],
   "source": [
    "from __future__ import print_function\n",
    "from urllib.request import urlopen\n",
    "import time\n",
    "import boto3\n",
    "import json"
   ]
  },
  {
   "cell_type": "code",
   "execution_count": 5,
   "metadata": {},
   "outputs": [],
   "source": [
    "def amazon_translate(row):\n",
    "    jobName = str(row.name)\n",
    "    jobUri = row.url\n",
    "    transcribe = boto3.client('transcribe')\n",
    "    try:\n",
    "        transcribe.delete_transcription_job(TranscriptionJobName=jobName)\n",
    "    except:\n",
    "        pass\n",
    "    try:\n",
    "        transcribe.start_transcription_job(\n",
    "            TranscriptionJobName=jobName,\n",
    "            Media={'MediaFileUri': jobUri},\n",
    "            MediaFormat='wav',\n",
    "            LanguageCode='en-US'\n",
    "        )\n",
    "    except:\n",
    "        pass\n",
    "    while True:\n",
    "        status = transcribe.get_transcription_job(TranscriptionJobName=jobName)\n",
    "        if status['TranscriptionJob']['TranscriptionJobStatus'] in ['COMPLETED', 'FAILED']:\n",
    "            break\n",
    "        # print(jobName + ' not ready yet...')\n",
    "        time.sleep(5)\n",
    "    result_url = status['TranscriptionJob']['Transcript']['TranscriptFileUri']\n",
    "    with urlopen(result_url) as conn:\n",
    "        transcript_html = conn.read()\n",
    "        transcript = json.loads(transcript_html)\n",
    "        transcript_text = transcript['results']['transcripts'][0]['transcript']\n",
    "        transcribe.delete_transcription_job(TranscriptionJobName=jobName)\n",
    "        print(jobName + ': ' + transcript_text)\n",
    "        return transcript_text"
   ]
  },
  {
   "cell_type": "code",
   "execution_count": null,
   "metadata": {},
   "outputs": [],
   "source": [
    "index_torgo_filtered_top10['awstranslate'] = index_torgo_filtered_top10.apply(amazon_translate, axis=1)\n",
    "index_torgo_filtered_top10[['prompt', 'awstranslate']]"
   ]
  },
  {
   "cell_type": "markdown",
   "metadata": {},
   "source": [
    "## Google Cloud Speech-to-Text"
   ]
  },
  {
   "cell_type": "markdown",
   "metadata": {},
   "source": [
    "[Info about Speech-to-Text](https://cloud.google.com/speech-to-text/)"
   ]
  },
  {
   "cell_type": "code",
   "execution_count": null,
   "metadata": {},
   "outputs": [],
   "source": [
    "import io\n",
    "import os\n",
    "\n",
    "# Imports the Google Cloud client library\n",
    "from google.cloud import speech\n",
    "from google.cloud.speech import enums\n",
    "from google.cloud.speech import types"
   ]
  },
  {
   "cell_type": "code",
   "execution_count": null,
   "metadata": {},
   "outputs": [],
   "source": [
    "def google_translate(row):\n",
    "    jobName = str(row.name)\n",
    "    file_name = row.filepath\n",
    "    with io.open(file_name, 'rb') as audio_file:\n",
    "        content = audio_file.read()\n",
    "        audio = types.RecognitionAudio(content=content)\n",
    "\n",
    "    config = types.RecognitionConfig(\n",
    "        encoding=enums.RecognitionConfig.AudioEncoding.LINEAR16,\n",
    "        sample_rate_hertz=16000,\n",
    "        language_code='en-US')\n",
    "\n",
    "    # Detects speech in the audio file\n",
    "    response = client.recognize(config, audio)\n",
    "    try:\n",
    "        transcript = response.results[0].alternatives[0].transcript\n",
    "        return transcript\n",
    "    except:\n",
    "        return None"
   ]
  },
  {
   "cell_type": "code",
   "execution_count": null,
   "metadata": {},
   "outputs": [],
   "source": [
    "index_torgo_filtered_top10"
   ]
  },
  {
   "cell_type": "code",
   "execution_count": null,
   "metadata": {},
   "outputs": [],
   "source": [
    "os.environ[\"GOOGLE_APPLICATION_CREDENTIALS\"]=\"/home/jovyan/work/capstone-c60aec7ead62.json\"\n",
    "client = speech.SpeechClient()\n",
    "\n",
    "# index_torgo_filtered_top10['googletranslate'] = index_torgo_filtered_top10.apply(google_translate, axis=1)\n",
    "# index_torgo_filtered_top10[['prompt', 'googletranslate']]"
   ]
  },
  {
   "cell_type": "markdown",
   "metadata": {},
   "source": [
    "# Create loop to generate translations for google translate and aws"
   ]
  },
  {
   "cell_type": "code",
   "execution_count": 12,
   "metadata": {},
   "outputs": [],
   "source": [
    "import os.path\n",
    "\n",
    "index_torgo_loop_set = index_torgo_filtered"
   ]
  },
  {
   "cell_type": "markdown",
   "metadata": {},
   "source": [
    "### Google Cloud Speech-to-Text"
   ]
  },
  {
   "cell_type": "code",
   "execution_count": null,
   "metadata": {},
   "outputs": [],
   "source": [
    "while index_torgo_loop_set['url'].count() > 0:\n",
    "    try:\n",
    "        if os.path.isfile('google_translate.csv'):\n",
    "            current_list = pd.read_csv('google_translate.csv', index_col = 0)\n",
    "            index_torgo_loop_set = index_torgo_loop_set[~index_torgo_loop_set['url'].isin(current_list['url'])]\n",
    "            if os.path.isfile('google_failed.csv'):\n",
    "                failed_list = pd.read_csv('google_failed.csv', index_col = 0)\n",
    "                index_torgo_loop_set = index_torgo_loop_set[~index_torgo_loop_set['url'].isin(failed_list['url'])]\n",
    "            \n",
    "        print(\"Records left to translate: %s\"%(index_torgo_loop_set['url'].count()))\n",
    "\n",
    "        index_torgo_loop_set_sample = index_torgo_loop_set.sample(1)\n",
    "        index_torgo_loop_set_sample['googletranslate'] = index_torgo_loop_set_sample.apply(google_translate, axis=1)\n",
    "\n",
    "        if os.path.isfile('google_translate.csv'):\n",
    "            export_list = pd.concat([current_list, index_torgo_loop_set_sample])\n",
    "            export_list.to_csv('google_translate.csv')\n",
    "        else:\n",
    "            index_torgo_loop_set_sample.to_csv('google_translate.csv')\n",
    "    except BaseException as e:\n",
    "        print('Processing failed with exception: '+str(e))\n",
    "        if os.path.isfile('google_failed.csv'):\n",
    "            export_failed_list = pd.concat([failed_list, index_torgo_loop_set_sample])\n",
    "            export_failed_list.to_csv('google_failed.csv')\n",
    "        else:\n",
    "            index_torgo_loop_set_sample.to_csv('google_failed.csv')\n",
    "            \n",
    "            "
   ]
  },
  {
   "cell_type": "markdown",
   "metadata": {},
   "source": [
    "### Amazon Transcribe"
   ]
  },
  {
   "cell_type": "code",
   "execution_count": 13,
   "metadata": {},
   "outputs": [
    {
     "name": "stdout",
     "output_type": "stream",
     "text": [
      "Records left to translate: 30\n",
      "Processing failed with exception: ('TranscriptFileUri', 'occurred at index 6116')\n",
      "Records left to translate: 29\n",
      "Processing failed with exception: ('TranscriptFileUri', 'occurred at index 6123')\n",
      "Records left to translate: 28\n",
      "Processing failed with exception: ('TranscriptFileUri', 'occurred at index 6122')\n",
      "Records left to translate: 27\n",
      "Processing failed with exception: ('TranscriptFileUri', 'occurred at index 6134')\n",
      "Records left to translate: 26\n",
      "Processing failed with exception: ('TranscriptFileUri', 'occurred at index 6143')\n",
      "Records left to translate: 25\n",
      "Processing failed with exception: ('TranscriptFileUri', 'occurred at index 6138')\n",
      "Records left to translate: 24\n",
      "Processing failed with exception: ('TranscriptFileUri', 'occurred at index 6137')\n",
      "Records left to translate: 23\n",
      "Processing failed with exception: ('TranscriptFileUri', 'occurred at index 6133')\n",
      "Records left to translate: 22\n",
      "Processing failed with exception: ('TranscriptFileUri', 'occurred at index 6119')\n",
      "Records left to translate: 21\n",
      "Processing failed with exception: ('TranscriptFileUri', 'occurred at index 6088')\n",
      "Records left to translate: 20\n",
      "Processing failed with exception: ('TranscriptFileUri', 'occurred at index 6125')\n",
      "Records left to translate: 19\n",
      "Processing failed with exception: ('TranscriptFileUri', 'occurred at index 6136')\n",
      "Records left to translate: 18\n",
      "Processing failed with exception: ('TranscriptFileUri', 'occurred at index 6145')\n",
      "Records left to translate: 17\n",
      "Processing failed with exception: ('TranscriptFileUri', 'occurred at index 6118')\n",
      "Records left to translate: 16\n",
      "Processing failed with exception: ('TranscriptFileUri', 'occurred at index 6144')\n",
      "Records left to translate: 15\n",
      "Processing failed with exception: ('TranscriptFileUri', 'occurred at index 6124')\n",
      "Records left to translate: 14\n",
      "Processing failed with exception: ('TranscriptFileUri', 'occurred at index 6121')\n",
      "Records left to translate: 13\n",
      "Processing failed with exception: (\"An error occurred (BadRequestException) when calling the GetTranscriptionJob operation: The requested job couldn't be found. Check the job name and try your request again.\", 'occurred at index 5233')\n",
      "Records left to translate: 13\n",
      "Processing failed with exception: ('TranscriptFileUri', 'occurred at index 6129')\n",
      "Records left to translate: 12\n",
      "Processing failed with exception: ('TranscriptFileUri', 'occurred at index 6126')\n",
      "Records left to translate: 11\n",
      "Processing failed with exception: ('TranscriptFileUri', 'occurred at index 6135')\n",
      "Records left to translate: 10\n",
      "Processing failed with exception: ('TranscriptFileUri', 'occurred at index 6139')\n",
      "Records left to translate: 9\n",
      "Processing failed with exception: ('TranscriptFileUri', 'occurred at index 6120')\n",
      "Records left to translate: 8\n",
      "Processing failed with exception: ('TranscriptFileUri', 'occurred at index 6127')\n",
      "Records left to translate: 7\n",
      "Processing failed with exception: ('TranscriptFileUri', 'occurred at index 6117')\n",
      "Records left to translate: 6\n",
      "Processing failed with exception: ('TranscriptFileUri', 'occurred at index 6132')\n",
      "Records left to translate: 5\n",
      "Processing failed with exception: ('TranscriptFileUri', 'occurred at index 6115')\n",
      "Records left to translate: 4\n",
      "Processing failed with exception: ('TranscriptFileUri', 'occurred at index 6142')\n",
      "Records left to translate: 3\n",
      "Processing failed with exception: ('TranscriptFileUri', 'occurred at index 6131')\n",
      "Records left to translate: 2\n",
      "Processing failed with exception: ('TranscriptFileUri', 'occurred at index 6146')\n",
      "Records left to translate: 1\n",
      "Processing failed with exception: ('TranscriptFileUri', 'occurred at index 6140')\n"
     ]
    }
   ],
   "source": [
    "while index_torgo_loop_set['url'].count() > 1:\n",
    "    try:\n",
    "        if os.path.isfile('aws_translate.csv'):\n",
    "            current_list = pd.read_csv('aws_translate.csv', index_col = 0)\n",
    "            index_torgo_loop_set = index_torgo_loop_set[~index_torgo_loop_set['url'].isin(current_list['url'])]\n",
    "            if os.path.isfile('aws_failed.csv'):\n",
    "                failed_list = pd.read_csv('aws_failed.csv', index_col = 0)\n",
    "                index_torgo_loop_set = index_torgo_loop_set[~index_torgo_loop_set['url'].isin(failed_list['url'])]\n",
    "            \n",
    "        print(\"Records left to translate: %s\"%(index_torgo_loop_set['url'].count()))\n",
    "\n",
    "        index_torgo_loop_set_sample = index_torgo_loop_set.sample(1)\n",
    "        index_torgo_loop_set_sample['awstranslate'] = index_torgo_loop_set_sample.apply(amazon_translate, axis=1)\n",
    "\n",
    "        if os.path.isfile('aws_translate.csv'):\n",
    "            export_list = pd.concat([current_list, index_torgo_loop_set_sample])\n",
    "            export_list.to_csv('aws_translate.csv')\n",
    "        else:\n",
    "            index_torgo_loop_set_sample.to_csv('aws_translate.csv')\n",
    "    except BaseException as e:\n",
    "        print('Processing failed with exception: '+str(e))\n",
    "        if os.path.isfile('aws_failed.csv'):\n",
    "            export_failed_list = pd.concat([failed_list, index_torgo_loop_set_sample])\n",
    "            export_failed_list.to_csv('aws_failed.csv')\n",
    "        else:\n",
    "            index_torgo_loop_set_sample.to_csv('aws_failed.csv')\n",
    "            \n",
    "            "
   ]
  },
  {
   "cell_type": "code",
   "execution_count": null,
   "metadata": {},
   "outputs": [],
   "source": [
    "index_torgo_filtered_top10[['prompt', 'googletranslate', 'awstranslate']]"
   ]
  },
  {
   "cell_type": "code",
   "execution_count": null,
   "metadata": {},
   "outputs": [],
   "source": []
  }
 ],
 "metadata": {
  "kernelspec": {
   "display_name": "Python 3",
   "language": "python",
   "name": "python3"
  },
  "language_info": {
   "codemirror_mode": {
    "name": "ipython",
    "version": 3
   },
   "file_extension": ".py",
   "mimetype": "text/x-python",
   "name": "python",
   "nbconvert_exporter": "python",
   "pygments_lexer": "ipython3",
   "version": "3.6.6"
  }
 },
 "nbformat": 4,
 "nbformat_minor": 2
}
