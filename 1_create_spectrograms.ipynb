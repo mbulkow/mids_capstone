{
 "cells": [
  {
   "cell_type": "markdown",
   "metadata": {},
   "source": [
    "##### This script creates spectrogram matrices from wav files\n",
    "\n",
    "It successfully converted almost all of the .wav files except for a few corrupted files. It was also not able to convert the files from M01 Session 1 headMic, due to some type of end of file issue.\n",
    "\n",
    "Leveraged the [following code](https://github.com/kykiefer/depression-detect/blob/master/src/features/spectrograms.py), and made edits where needed."
   ]
  },
  {
   "cell_type": "code",
   "execution_count": 2,
   "metadata": {},
   "outputs": [],
   "source": [
    "# Import packages\n",
    "\n",
    "import numpy as np\n",
    "from numpy.lib import stride_tricks\n",
    "import os\n",
    "from PIL import Image\n",
    "import scipy.io.wavfile as wav"
   ]
  },
  {
   "cell_type": "code",
   "execution_count": null,
   "metadata": {},
   "outputs": [],
   "source": [
    "# Location of source .wav files to convert. Each session has two recordings from two different microphones.\n",
    "\n",
    "dir_names = ['data/TORGO/F01/Session1',\n",
    "            'data/TORGO/F03/Session1','data/TORGO/F03/Session2','data/TORGO/F03/Session3',\n",
    "            'data/TORGO/F04/Session1','data/TORGO/F04/Session2',\n",
    "            'data/TORGO/M01/Session1','data/TORGO/M01/Session2_3',\n",
    "            'data/TORGO/M02/Session1','data/TORGO/M02/Session2',\n",
    "            'data/TORGO/M03/Session2',\n",
    "            'data/TORGO/M04/Session1','data/TORGO/M04/Session2',\n",
    "            'data/TORGO/M05/Session1','data/TORGO/M05/Session2']\n",
    "mics = ['wav_headMic','wav_arrayMic']"
   ]
  },
  {
   "cell_type": "code",
   "execution_count": 39,
   "metadata": {},
   "outputs": [],
   "source": [
    "# Functions for processing\n",
    "\n",
    "def stft(sig, frameSize, overlapFac=0.5, window=np.hanning):\n",
    "    \"\"\"\n",
    "    Short-time Fourier transform of audio signal.\n",
    "    \"\"\"\n",
    "    win = window(frameSize)\n",
    "    hopSize = int(frameSize - np.floor(overlapFac * frameSize).astype(int))\n",
    "    # zeros at beginning (thus center of 1st window should be for sample nr. 0)\n",
    "    samples = np.append(np.zeros(np.floor(frameSize/2.0).astype(int)), sig)\n",
    "    # cols for windowing\n",
    "    cols = np.ceil((len(samples) - frameSize) / float(hopSize)).astype(int) + 1\n",
    "    # zeros at end (thus samples can be fully covered by frames)\n",
    "    samples = np.append(samples, np.zeros(frameSize))\n",
    "\n",
    "    frames = stride_tricks.as_strided(samples, shape=(cols, frameSize),\n",
    "                                      strides=(samples.strides[0]*hopSize,\n",
    "                                      samples.strides[0])).copy()\n",
    "    frames *= win\n",
    "\n",
    "    return np.fft.rfft(frames)\n",
    "\n",
    "\n",
    "def logscale_spec(spec, sr=44100, factor=20.):\n",
    "    \"\"\"\n",
    "    Scale frequency axis logarithmically.\n",
    "    \"\"\"\n",
    "    timebins, freqbins = np.shape(spec)\n",
    "    \n",
    "    scale = np.linspace(0, 1, freqbins) ** factor\n",
    "    scale *= (freqbins-1)/max(scale)\n",
    "    scale = np.unique(np.round(scale)).astype(int)\n",
    "  \n",
    "    # create spectrogram with new freq bins\n",
    "    newspec = np.complex128(np.zeros([timebins, len(scale)]))\n",
    "    for i in range(0, len(scale)):\n",
    "        if i == len(scale)-1:\n",
    "            newspec[:, i] = np.sum(spec[:, scale[i]:], axis=1)\n",
    "        else:\n",
    "            newspec[:, i] = np.sum(spec[:, scale[i]:scale[i+1]], axis=1)\n",
    "\n",
    "    # list center freq of bins\n",
    "    allfreqs = np.abs(np.fft.fftfreq(freqbins*2, 1./sr)[:freqbins+1])\n",
    "    freqs = []\n",
    "    for i in range(0, len(scale)):\n",
    "        if i == len(scale)-1:\n",
    "            freqs += [np.mean(allfreqs[scale[i]:])]\n",
    "        else:\n",
    "            freqs += [np.mean(allfreqs[scale[i]:scale[i+1]])]\n",
    "\n",
    "    return newspec, freqs\n",
    "\n",
    "\n",
    "def stft_matrix(audiopath, binsize=2**10, png_name='tmp.png',\n",
    "                save_png=False, offset=0):\n",
    "    \"\"\"\n",
    "    A function that converts a wav file into a spectrogram represented by a \\\n",
    "    matrix where rows represent frequency bins, columns represent time, and \\\n",
    "    the values of the matrix represent the decibel intensity. A matrix of \\\n",
    "    this form can be passed as input to the CNN after undergoing normalization.\n",
    "    \"\"\"\n",
    "    samplerate, samples = wav.read(audiopath)\n",
    "    s = stft(samples, binsize)\n",
    "\n",
    "    sshow, freq = logscale_spec(s, factor=1, sr=samplerate)\n",
    "    ims = 20.*np.log10(np.abs(sshow)/10e-6)  # amplitude to decibel\n",
    "    timebins, freqbins = np.shape(ims)\n",
    "\n",
    "    ims = np.transpose(ims)\n",
    "    ims = np.flipud(ims)\n",
    "\n",
    "    if save_png:\n",
    "        create_png(ims, png_name)\n",
    "\n",
    "    return ims\n",
    "\n",
    "\n",
    "def create_png(im_matrix, png_name):\n",
    "    \"\"\"\n",
    "    Save grayscale png of spectrogram.\n",
    "    \"\"\"\n",
    "    image = Image.fromarray(im_matrix)\n",
    "    image = image.convert('L')  # convert to grayscale\n",
    "    image.save(png_name)"
   ]
  },
  {
   "cell_type": "code",
   "execution_count": 47,
   "metadata": {},
   "outputs": [
    {
     "name": "stdout",
     "output_type": "stream",
     "text": [
      "Spectrogram Conversion Complete!\n"
     ]
    }
   ],
   "source": [
    "# Convert files\n",
    "\n",
    "for d in dir_names:\n",
    "    for m in mics:\n",
    "        dir_name = d + '/' + m\n",
    "        print('Processing directory' + dir_name + '...')\n",
    "        if not os.path.exists(dir_name + '_spect/'):\n",
    "            os.makedirs(dir_name + '_spect/')\n",
    "        for subdir, dirs, files in os.walk(dir_name):\n",
    "            for file in files:\n",
    "                if file.endswith('.wav'):\n",
    "                    wav_file = os.path.join(subdir, file)\n",
    "                    png_name = subdir + '_spect/' + file[:-4] + '.png'\n",
    "                    try:\n",
    "                        stft_matrix(wav_file, png_name=png_name, save_png=True)\n",
    "                    except:\n",
    "                        print('WARNING: Unable to convert ' + file)\n",
    "                        pass\n",
    "\n",
    "print(\"Spectrogram Conversion Complete!\")"
   ]
  },
  {
   "cell_type": "code",
   "execution_count": null,
   "metadata": {},
   "outputs": [],
   "source": []
  }
 ],
 "metadata": {
  "kernelspec": {
   "display_name": "Python 3",
   "language": "python",
   "name": "python3"
  },
  "language_info": {
   "codemirror_mode": {
    "name": "ipython",
    "version": 3
   },
   "file_extension": ".py",
   "mimetype": "text/x-python",
   "name": "python",
   "nbconvert_exporter": "python",
   "pygments_lexer": "ipython3",
   "version": "3.6.5"
  }
 },
 "nbformat": 4,
 "nbformat_minor": 2
}
