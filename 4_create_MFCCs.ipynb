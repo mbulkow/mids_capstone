{
 "cells": [
  {
   "cell_type": "markdown",
   "metadata": {},
   "source": [
    "## Convert .wav files to Mel Frequency Cepstral Coefficients (MFCCs)"
   ]
  },
  {
   "cell_type": "markdown",
   "metadata": {},
   "source": [
    "Previously, we have fed spectrograms to our CNN, with limited success. We'll now try to extract MFCC features, so that we can train on those instead.  \n",
    "  \n",
    "**Overview** <sup>1</sup>:  \n",
    "  \n",
    "An audio signal is constantly changing, so to simplify things we frame the signal into 20-40ms frames. If the frame is much shorter we don't have enough samples to get a reliable spectral estimate, if it is longer the signal changes too much throughout the frame.\n",
    "\n",
    "The next step is to calculate the power spectrum of each frame. This is motivated by the human cochlea, which vibrates at different spots depending on the frequency of the incoming sounds. The periodogram estimate performs a similar job for us, identifying which frequencies are present in the frame.\n",
    "\n",
    "The periodogram spectral estimate still contains a lot of information not required for Automatic Speech Recognition (ASR). In particular the cochlea can not discern the difference between two closely spaced frequencies. This effect becomes more pronounced as the frequencies increase. For this reason we take clumps of periodogram bins and sum them up to get an idea of how much energy exists in various frequency regions. This is performed by our Mel filterbank: the first filter is very narrow and gives an indication of how much energy exists near 0 Hertz. As the frequencies get higher our filters get wider as we become less concerned about variations. We are only interested in roughly how much energy occurs at each spot. The Mel scale tells us exactly how to space our filterbanks and how wide to make them.\n",
    "\n",
    "Once we have the filterbank energies, we take the logarithm of them. This is also motivated by human hearing: we don't hear loudness on a linear scale. Generally to double the percieved volume of a sound we need to put 8 times as much energy into it. This means that large variations in energy may not sound all that different if the sound is loud to begin with. This compression operation makes our features match more closely what humans actually hear.\n",
    "\n",
    "The final step is to compute the DCT (Discrete Cosine Transform) of the log filterbank energies. Because our filterbanks are all overlapping, the filterbank energies are quite correlated with each other. The DCT decorrelates the energies so that diagonal covariance matrices can be used to model the features in e.g. a HMM classifier. Only 12 of the 26 DCT coefficients are kept. This is because the higher DCT coefficients represent fast changes in the filterbank energies and it turns out that these fast changes actually degrade ASR performance, so we get a small improvement by dropping them.  \n",
    "  \n",
    "<sup>1</sup>_from http://practicalcryptography.com/miscellaneous/machine-learning/guide-mel-frequency-cepstral-coefficients-mfccs/_  \n",
    "\n",
    "Further information: http://www.speech.cs.cmu.edu/15-492/slides/03_mfcc.pdf"
   ]
  },
  {
   "cell_type": "markdown",
   "metadata": {},
   "source": [
    "### 1) Load packages and define filepaths"
   ]
  },
  {
   "cell_type": "code",
   "execution_count": 1,
   "metadata": {
    "collapsed": true
   },
   "outputs": [],
   "source": [
    "# import packages\n",
    "import numpy as np\n",
    "import scipy.io.wavfile\n",
    "import os\n",
    "from scipy.fftpack import dct\n",
    "from matplotlib import pyplot as plt\n",
    "from PIL import Image\n",
    "%matplotlib inline"
   ]
  },
  {
   "cell_type": "code",
   "execution_count": 2,
   "metadata": {
    "collapsed": true
   },
   "outputs": [],
   "source": [
    "# Location of source .wav files to convert. Each session has two recordings from two different microphones.\n",
    "\n",
    "dir_names = ['data/TORGO/F01/Session1',\n",
    "            'data/TORGO/F03/Session1','data/TORGO/F03/Session2','data/TORGO/F03/Session3',\n",
    "            'data/TORGO/F04/Session1','data/TORGO/F04/Session2',\n",
    "            'data/TORGO/M01/Session1','data/TORGO/M01/Session2_3',\n",
    "            'data/TORGO/M02/Session1','data/TORGO/M02/Session2',\n",
    "            'data/TORGO/M03/Session2',\n",
    "            'data/TORGO/M04/Session1','data/TORGO/M04/Session2',\n",
    "            'data/TORGO/M05/Session1','data/TORGO/M05/Session2']\n",
    "mics = ['wav_headMic','wav_arrayMic']"
   ]
  },
  {
   "cell_type": "markdown",
   "metadata": {},
   "source": [
    "### 2) Define Parameters"
   ]
  },
  {
   "cell_type": "code",
   "execution_count": 3,
   "metadata": {
    "collapsed": true
   },
   "outputs": [],
   "source": [
    "# Set pre-emphasis, which is used to amplify high frequencies\n",
    "# Typically set to 0.95 or 0.97\n",
    "pre_emphasis = 0.97\n",
    "\n",
    "# Set frame size and stride in ms. Frame size is usually 20 - 40ms, with a 50% overlap\n",
    "frame_size = 0.025\n",
    "frame_stride = 0.01\n",
    "\n",
    "# Need value for N-point Fast Fourier Transform (also called Short Time Fourier Transform)\n",
    "# N is typically 256 or 512\n",
    "NFFT = 512\n",
    "\n",
    "# Select the number of filters to apply to the power spectrum (normally 40)\n",
    "nfilt = 40\n",
    "\n",
    "# Select the number of cepstral coefficients to keep (normally 12)\n",
    "num_ceps = 12\n",
    "\n",
    "# Set a factor to shift the MFCC's by (normally 22)\n",
    "cep_lifter = 22"
   ]
  },
  {
   "cell_type": "markdown",
   "metadata": {},
   "source": [
    "### 3) Define function to convert .wav file to an array of MFCC's"
   ]
  },
  {
   "cell_type": "code",
   "execution_count": 4,
   "metadata": {
    "collapsed": true
   },
   "outputs": [],
   "source": [
    "### Based heavily on Hatham Fayek's explanation of MFCC's \n",
    "### https://haythamfayek.com/2016/04/21/speech-processing-for-machine-learning.html#fn:1\n",
    "\n",
    "def create_mfcc(path, **kwargs):\n",
    "    \"\"\"\n",
    "    A function that creates an array of MFCCs from an audio file\n",
    "    Each column represents one of 12 cepstral coefficents\n",
    "    Each row is a small window of time (defined by frame_size), so the\n",
    "    number of rows will vary depending upon the length of the clip\n",
    "    For visualization purposes, it may therefore be easier to look at \n",
    "    the transpose so that the x-axis represents time\n",
    "    \"\"\"\n",
    "    # 1) Read in data\n",
    "    sample_rate, signal = scipy.io.wavfile.read(path)\n",
    "    \n",
    "    # 2) Amplify high frequencies using pre-emphasis factor\n",
    "    emphasized_signal = np.append(signal[0], signal[1:] - pre_emphasis * signal[:-1])\n",
    "\n",
    "    # 3) Break signal into multiple overlapping frames\n",
    "    frame_length = frame_size * sample_rate\n",
    "    frame_step = frame_stride * sample_rate\n",
    "    signal_length = len(emphasized_signal)\n",
    "    frame_length = int(round(frame_length))\n",
    "    frame_step = int(round(frame_step))\n",
    "    num_frames = int(np.ceil(float(np.abs(signal_length - frame_length)) / frame_step))  # Make sure that we have at least 1 frame\n",
    "\n",
    "    pad_signal_length = num_frames * frame_step + frame_length\n",
    "    z = np.zeros((pad_signal_length - signal_length))\n",
    "    pad_signal = np.append(emphasized_signal, z) # Pad Signal to make sure that all frames have equal number of samples without truncating any samples from the original signal\n",
    "\n",
    "    indices = np.tile(np.arange(0, frame_length), (num_frames, 1)) + np.tile(np.arange(0, num_frames * frame_step, frame_step), (frame_length, 1)).T\n",
    "    frames = pad_signal[indices.astype(np.int32, copy=False)]\n",
    "\n",
    "    # 4) Apply Hamming window to smooth any discontinuities at beginning or\n",
    "    #    end of the sampled frame\n",
    "    frames *= np.hamming(frame_length)\n",
    "\n",
    "    # 5) Apply Short Time Fourier Transform\n",
    "    mag_frames = np.absolute(np.fft.rfft(frames, NFFT))  # Magnitude of the FFT\n",
    "    \n",
    "    # 6) Compute the power spectrum\n",
    "    pow_frames = ((1.0 / NFFT) * ((mag_frames) ** 2))  # Power Spectrum\n",
    "\n",
    "    # 7) Apply filter banks to the power spectrum (on mel scale) to extract frequency bands\n",
    "    low_freq_mel = 0\n",
    "    high_freq_mel = (2595 * np.log10(1 + (sample_rate / 2) / 700))  # Convert Hz to Mel\n",
    "    mel_points = np.linspace(low_freq_mel, high_freq_mel, nfilt + 2)  # Equally spaced in Mel scale\n",
    "    hz_points = (700 * (10**(mel_points / 2595) - 1))  # Convert Mel to Hz\n",
    "    bin = np.floor((NFFT + 1) * hz_points / sample_rate)\n",
    "\n",
    "    fbank = np.zeros((nfilt, int(np.floor(NFFT / 2 + 1))))\n",
    "    for m in range(1, nfilt + 1):\n",
    "        f_m_minus = int(bin[m - 1])   # left\n",
    "        f_m = int(bin[m])             # center\n",
    "        f_m_plus = int(bin[m + 1])    # right\n",
    "\n",
    "        for k in range(f_m_minus, f_m):\n",
    "            fbank[m - 1, k] = (k - bin[m - 1]) / (bin[m] - bin[m - 1])\n",
    "        for k in range(f_m, f_m_plus):\n",
    "            fbank[m - 1, k] = (bin[m + 1] - k) / (bin[m + 1] - bin[m])\n",
    "            \n",
    "    filter_banks = np.dot(pow_frames, fbank.T)\n",
    "    filter_banks = np.where(filter_banks == 0, np.finfo(float).eps, filter_banks)\n",
    "    filter_banks = 20 * np.log10(filter_banks)  # dB\n",
    "\n",
    "    # 8) Mean normalize the filter banks to balance the spectrum and improve signal to noise ratio\n",
    "    filter_banks -= (np.mean(filter_banks, axis=0) + 1e-8)\n",
    "\n",
    "    # 9) Apply Discrete Cosine Transform to decorrelate filter banks and yield a compressed representation\n",
    "    mfcc = dct(filter_banks, type=2, axis=1, norm='ortho')[:, 1 : (num_ceps + 1)] # Keep 2-13\n",
    "    (nframes, ncoeff) = mfcc.shape\n",
    "    n = np.arange(ncoeff)\n",
    "    lift = 1 + (cep_lifter / 2) * np.sin(np.pi * n / cep_lifter)\n",
    "    mfcc *= lift\n",
    "    \n",
    "    return mfcc"
   ]
  },
  {
   "cell_type": "markdown",
   "metadata": {},
   "source": [
    "### 4) Test the function on a sample file"
   ]
  },
  {
   "cell_type": "code",
   "execution_count": 5,
   "metadata": {},
   "outputs": [
    {
     "data": {
      "text/plain": [
       "<matplotlib.image.AxesImage at 0xd17093cf8>"
      ]
     },
     "execution_count": 5,
     "metadata": {},
     "output_type": "execute_result"
    },
    {
     "data": {
      "image/png": "[encoded data removed]",
      "text/plain": [
       "<Figure size 720x720 with 1 Axes>"
      ]
     },
     "metadata": {},
     "output_type": "display_data"
    }
   ],
   "source": [
    "test_path = 'data/TORGO/F01/Session1/wav_arrayMic/0060.wav'\n",
    "test_mfcc = create_mfcc(test_path)\n",
    "\n",
    "plt.figure(figsize=(10,10))\n",
    "plt.imshow(test_mfcc.T, aspect = 1)"
   ]
  },
  {
   "cell_type": "code",
   "execution_count": 7,
   "metadata": {},
   "outputs": [
    {
     "data": {
      "text/plain": [
       "<matplotlib.image.AxesImage at 0xd19397898>"
      ]
     },
     "execution_count": 7,
     "metadata": {},
     "output_type": "execute_result"
    },
    {
     "data": {
      "image/png": "[encoded data removed]",
      "text/plain": [
       "<Figure size 432x288 with 1 Axes>"
      ]
     },
     "metadata": {},
     "output_type": "display_data"
    }
   ],
   "source": [
    "# compare to spectrogram (stretched along x-axis for easier comparison)\n",
    "test_spect = 'data/TORGO/F01/Session1/wav_arrayMic_spect/0060.png'\n",
    "img = plt.imread(test_spect)\n",
    "plt.imshow(img, aspect = 0.04)"
   ]
  },
  {
   "cell_type": "markdown",
   "metadata": {},
   "source": [
    "### 5) Run loop to create MFCC image files"
   ]
  },
  {
   "cell_type": "code",
   "execution_count": 8,
   "metadata": {
    "collapsed": true
   },
   "outputs": [],
   "source": [
    "def create_png(mfcc, png_name):\n",
    "    \"\"\"\n",
    "    Save grayscale png of spectrogram.\n",
    "    \"\"\"\n",
    "    image = Image.fromarray(mfcc)\n",
    "    image = image.convert('L')  # convert to grayscale\n",
    "    image.save(png_name)"
   ]
  },
  {
   "cell_type": "code",
   "execution_count": 9,
   "metadata": {},
   "outputs": [
    {
     "name": "stdout",
     "output_type": "stream",
     "text": [
      "Processing directorydata/TORGO/F01/Session1/wav_headMic...\n",
      "WARNING: Unable to convert 0067.wav\n",
      "WARNING: Unable to convert 0068.wav\n",
      "Processing directorydata/TORGO/F01/Session1/wav_arrayMic...\n",
      "Processing directorydata/TORGO/F03/Session1/wav_headMic...\n",
      "Processing directorydata/TORGO/F03/Session1/wav_arrayMic...\n",
      "Processing directorydata/TORGO/F03/Session2/wav_headMic...\n",
      "Processing directorydata/TORGO/F03/Session2/wav_arrayMic...\n",
      "Processing directorydata/TORGO/F03/Session3/wav_headMic...\n",
      "WARNING: Unable to convert 0214.wav\n",
      "Processing directorydata/TORGO/F03/Session3/wav_arrayMic...\n",
      "Processing directorydata/TORGO/F04/Session1/wav_headMic...\n",
      "Processing directorydata/TORGO/F04/Session1/wav_arrayMic...\n",
      "Processing directorydata/TORGO/F04/Session2/wav_headMic...\n",
      "Processing directorydata/TORGO/F04/Session2/wav_arrayMic...\n",
      "Processing directorydata/TORGO/M01/Session1/wav_headMic...\n",
      "Processing directorydata/TORGO/M01/Session1/wav_arrayMic...\n",
      "Processing directorydata/TORGO/M01/Session2_3/wav_headMic...\n",
      "Processing directorydata/TORGO/M01/Session2_3/wav_arrayMic...\n",
      "Processing directorydata/TORGO/M02/Session1/wav_headMic...\n",
      "Processing directorydata/TORGO/M02/Session1/wav_arrayMic...\n",
      "Processing directorydata/TORGO/M02/Session2/wav_headMic...\n",
      "Processing directorydata/TORGO/M02/Session2/wav_arrayMic...\n",
      "Processing directorydata/TORGO/M03/Session2/wav_headMic...\n",
      "Processing directorydata/TORGO/M03/Session2/wav_arrayMic...\n",
      "Processing directorydata/TORGO/M04/Session1/wav_headMic...\n",
      "Processing directorydata/TORGO/M04/Session1/wav_arrayMic...\n",
      "Processing directorydata/TORGO/M04/Session2/wav_headMic...\n",
      "Processing directorydata/TORGO/M04/Session2/wav_arrayMic...\n",
      "Processing directorydata/TORGO/M05/Session1/wav_headMic...\n",
      "Processing directorydata/TORGO/M05/Session1/wav_arrayMic...\n",
      "Processing directorydata/TORGO/M05/Session2/wav_headMic...\n",
      "Processing directorydata/TORGO/M05/Session2/wav_arrayMic...\n",
      "MFCC Conversion Complete!\n"
     ]
    }
   ],
   "source": [
    "for d in dir_names:\n",
    "    for m in mics:\n",
    "        dir_name = d + '/' + m\n",
    "        print('Processing directory' + dir_name + '...')\n",
    "        if not os.path.exists(dir_name + '_mfcc/'):\n",
    "            os.makedirs(dir_name + '_mfcc/')\n",
    "        for subdir, dirs, files in os.walk(dir_name):\n",
    "            for file in files:\n",
    "                if file.endswith('.wav'):\n",
    "                    wav_file = os.path.join(subdir, file)\n",
    "                    png_name = subdir + '_mfcc/' + file[:-4] + '.png'\n",
    "                    try:\n",
    "                        create_png(create_mfcc(wav_file), png_name=png_name) \n",
    "                        #stft_matrix(wav_file, png_name=png_name, save_png=True)\n",
    "                    except:\n",
    "                        print('WARNING: Unable to convert ' + file)\n",
    "                        pass\n",
    "\n",
    "print(\"MFCC Conversion Complete!\")"
   ]
  }
 ],
 "metadata": {
  "kernelspec": {
   "display_name": "Python 3",
   "language": "python",
   "name": "python3"
  },
  "language_info": {
   "codemirror_mode": {
    "name": "ipython",
    "version": 3
   },
   "file_extension": ".py",
   "mimetype": "text/x-python",
   "name": "python",
   "nbconvert_exporter": "python",
   "pygments_lexer": "ipython3",
   "version": "3.6.8"
  }
 },
 "nbformat": 4,
 "nbformat_minor": 2
}
