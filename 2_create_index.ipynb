{
 "cells": [
  {
   "cell_type": "markdown",
   "metadata": {},
   "source": [
    "##### This script creates a master index text file of all of the TORGO data\n",
    "\n",
    "Run spectrograms.ipynb before running this, in order to create the spectogram images\n",
    "\n",
    "We will not want to use any audio files that are missing prompts, or were unable to convert to spectrogram"
   ]
  },
  {
   "cell_type": "code",
   "execution_count": 1,
   "metadata": {},
   "outputs": [],
   "source": [
    "from PIL import Image\n",
    "import os\n",
    "\n",
    "# Information to extract into master index\n",
    "\n",
    "speaker = []\n",
    "session = []\n",
    "mic = []\n",
    "prompt_id = []   # From file name\n",
    "has_spect = []   # Were we able to generate a spect file for the \n",
    "spect_width = []   # Width of spectrogram\n",
    "spect_height = []   # Height of spectrogram\n",
    "prompt = []\n"
   ]
  },
  {
   "cell_type": "code",
   "execution_count": 2,
   "metadata": {},
   "outputs": [],
   "source": [
    "# Location of source .wav files to convert. Most sessions have two recordings from two different microphones.\n",
    "\n",
    "dir_names = ['data/TORGO/F01/Session1',\n",
    "            'data/TORGO/F03/Session1','data/TORGO/F03/Session2','data/TORGO/F03/Session3',\n",
    "            'data/TORGO/F04/Session1','data/TORGO/F04/Session2',\n",
    "            'data/TORGO/M01/Session1','data/TORGO/M01/Session2_3',\n",
    "            'data/TORGO/M02/Session1','data/TORGO/M02/Session2',\n",
    "            'data/TORGO/M03/Session2',\n",
    "            'data/TORGO/M04/Session1','data/TORGO/M04/Session2',\n",
    "            'data/TORGO/M05/Session1','data/TORGO/M05/Session2']\n",
    "mics = ['wav_headMic','wav_arrayMic']"
   ]
  },
  {
   "cell_type": "code",
   "execution_count": 3,
   "metadata": {},
   "outputs": [
    {
     "name": "stdout",
     "output_type": "stream",
     "text": [
      "Processing directorydata/TORGO/F01/Session1/wav_headMic...\n",
      "Processing directorydata/TORGO/F01/Session1/wav_arrayMic...\n",
      "Processing directorydata/TORGO/F03/Session1/wav_headMic...\n",
      "Processing directorydata/TORGO/F03/Session1/wav_arrayMic...\n",
      "Processing directorydata/TORGO/F03/Session2/wav_headMic...\n",
      "Processing directorydata/TORGO/F03/Session2/wav_arrayMic...\n",
      "Processing directorydata/TORGO/F03/Session3/wav_headMic...\n",
      "Processing directorydata/TORGO/F03/Session3/wav_arrayMic...\n",
      "Processing directorydata/TORGO/F04/Session1/wav_headMic...\n",
      "Processing directorydata/TORGO/F04/Session1/wav_arrayMic...\n",
      "Processing directorydata/TORGO/F04/Session2/wav_headMic...\n",
      "Processing directorydata/TORGO/F04/Session2/wav_arrayMic...\n",
      "Processing directorydata/TORGO/M01/Session1/wav_headMic...\n",
      "Processing directorydata/TORGO/M01/Session1/wav_arrayMic...\n",
      "Processing directorydata/TORGO/M01/Session2_3/wav_headMic...\n",
      "Processing directorydata/TORGO/M01/Session2_3/wav_arrayMic...\n",
      "Processing directorydata/TORGO/M02/Session1/wav_headMic...\n",
      "Processing directorydata/TORGO/M02/Session1/wav_arrayMic...\n",
      "Processing directorydata/TORGO/M02/Session2/wav_headMic...\n",
      "Processing directorydata/TORGO/M02/Session2/wav_arrayMic...\n",
      "Processing directorydata/TORGO/M03/Session2/wav_headMic...\n",
      "Processing directorydata/TORGO/M03/Session2/wav_arrayMic...\n",
      "Processing directorydata/TORGO/M04/Session1/wav_headMic...\n",
      "Processing directorydata/TORGO/M04/Session1/wav_arrayMic...\n",
      "Processing directorydata/TORGO/M04/Session2/wav_headMic...\n",
      "Processing directorydata/TORGO/M04/Session2/wav_arrayMic...\n",
      "Processing directorydata/TORGO/M05/Session1/wav_headMic...\n",
      "Processing directorydata/TORGO/M05/Session1/wav_arrayMic...\n",
      "Processing directorydata/TORGO/M05/Session2/wav_headMic...\n",
      "Processing directorydata/TORGO/M05/Session2/wav_arrayMic...\n",
      "Index complete!\n"
     ]
    }
   ],
   "source": [
    "# Extract information\n",
    "\n",
    "for d in dir_names:\n",
    "    for m in mics:\n",
    "        \n",
    "        dir_name = d + '/' + m\n",
    "        print('Processing directory' + dir_name + '...')\n",
    "                \n",
    "        if os.path.exists(dir_name):\n",
    "            for subdir, dirs, files in os.walk(dir_name):\n",
    "                for file in files:\n",
    "                    if file.endswith('.wav'):\n",
    "                        \n",
    "                        speaker.append(dir_name.split('/')[2])\n",
    "                        session.append(dir_name.split('/')[3])\n",
    "                        mic.append(dir_name.split('/')[4])\n",
    "                        prompt_id.append(file[:-4])\n",
    "                        \n",
    "                        prompt_name = d + '/prompts/' + file[:-4] + '.txt'\n",
    "                        if os.path.exists(prompt_name):\n",
    "                            with open(prompt_name) as f:\n",
    "                                prompt.append(f.readline())\n",
    "                        else:\n",
    "                            prompt.append(None)\n",
    "                \n",
    "                        png_name = subdir + '_spect/' + file[:-4] + '.png'\n",
    "                        if os.path.exists(png_name):\n",
    "                            has_spect.append('yes')\n",
    "                            im=Image.open(png_name)\n",
    "                            spect_width.append(im.size[0])\n",
    "                            spect_height.append(im.size[1])\n",
    "                        else:\n",
    "                            has_spect.append('no')\n",
    "                            spect_width.append(None)\n",
    "                            spect_height.append(None)\n",
    "                                          \n",
    "print(\"Index complete!\")"
   ]
  },
  {
   "cell_type": "code",
   "execution_count": 4,
   "metadata": {},
   "outputs": [
    {
     "name": "stdout",
     "output_type": "stream",
     "text": [
      "6179\n",
      "6179\n",
      "6179\n",
      "6179\n",
      "6179\n",
      "6179\n",
      "6179\n",
      "6179\n"
     ]
    }
   ],
   "source": [
    "# View number of records, and verify all lists have the same number\n",
    "print(len(speaker))\n",
    "print(len(session))\n",
    "print(len(mic))\n",
    "print(len(prompt_id))\n",
    "print(len(has_spect))\n",
    "print(len(spect_width))\n",
    "print(len(spect_height))\n",
    "print(len(prompt))"
   ]
  },
  {
   "cell_type": "code",
   "execution_count": 21,
   "metadata": {},
   "outputs": [],
   "source": [
    "# Export index to text file\n",
    "\n",
    "headers = ['speaker', 'session', 'mic', 'prompt_id', 'has_spect', 'spect_width', 'spect_height', 'prompt']\n",
    "all_data = list(zip(speaker, session, mic, prompt_id, has_spect, spect_width, spect_height, prompt))\n",
    "\n",
    "with open('index_TORGO_pre.txt', 'w') as f:\n",
    "    f.write(','.join(str(s) for s in headers) + '\\n')\n",
    "    for d in all_data:\n",
    "        f.write(','.join(str(s) for s in d) + '\\n')"
   ]
  },
  {
   "cell_type": "code",
   "execution_count": 22,
   "metadata": {},
   "outputs": [],
   "source": [
    "# Remove blank lines\n",
    "\n",
    "with open('index_TORGO_pre.txt') as filehandle:\n",
    "    lines = filehandle.readlines()\n",
    "\n",
    "with open('index_TORGO.txt', 'w') as filehandle:\n",
    "    lines = filter(lambda x: x.strip(), lines)\n",
    "    filehandle.writelines(lines)\n",
    "    \n",
    "# Delete pre-exported file\n",
    "\n",
    "os.remove(\"index_TORGO_pre.txt\")"
   ]
  }
 ],
 "metadata": {
  "kernelspec": {
   "display_name": "Python 3",
   "language": "python",
   "name": "python3"
  },
  "language_info": {
   "codemirror_mode": {
    "name": "ipython",
    "version": 3
   },
   "file_extension": ".py",
   "mimetype": "text/x-python",
   "name": "python",
   "nbconvert_exporter": "python",
   "pygments_lexer": "ipython3",
   "version": "3.6.5"
  }
 },
 "nbformat": 4,
 "nbformat_minor": 2
}
